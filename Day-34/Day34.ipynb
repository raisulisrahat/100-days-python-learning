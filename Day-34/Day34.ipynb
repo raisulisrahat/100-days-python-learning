{
 "cells": [
  {
   "cell_type": "markdown",
   "metadata": {},
   "source": [
    "# Day 34"
   ]
  },
  {
   "cell_type": "markdown",
   "metadata": {},
   "source": [
    "#### GUI Part 3"
   ]
  },
  {
   "cell_type": "code",
   "execution_count": 1,
   "metadata": {},
   "outputs": [],
   "source": [
    "from tkinter import *\n",
    "from tkinter.ttk import *\n",
    "from time import strftime\n",
    "import calendar  # Import the correct module\n",
    "\n",
    "root = Tk()\n",
    "root.title(\"Clock and Calendar\")\n",
    "\n",
    "class window(Frame):\n",
    "    def __init__(self, parent=None):\n",
    "        super().__init__(parent)\n",
    "        self.pack()\n",
    "        self.create_widgets()  # Call the widget creation function\n",
    "\n",
    "    def create_widgets(self):\n",
    "        self.clock_label = Label(self, font=('calibri', 40, 'bold'), background='purple', foreground='white')\n",
    "        self.clock_label.pack(anchor='center')\n",
    "\n",
    "        self.date_label = Label(self, font=('calibri', 20, 'bold'), background='blue', foreground='white')\n",
    "        self.date_label.pack(anchor='center')\n",
    "\n",
    "        self.update_time()  # Start updating time immediately\n",
    "        self.update_date()  # Start updating date immediately\n",
    "\n",
    "    def update_time(self):\n",
    "        string = strftime('%H:%M:%S %p')\n",
    "        self.clock_label.config(text=string)\n",
    "        self.after(1000, self.update_time)  # Update every 1000ms (1 second)\n",
    "\n",
    "    def update_date(self):\n",
    "        year = 2023  # Change this to the desired year\n",
    "        month = 8    # Change this to the desired month\n",
    "        cal_text = calendar.month(year, month)\n",
    "        self.date_label.config(text=cal_text)\n",
    "        \n",
    "# Create an instance of the window class\n",
    "app = window(root)\n",
    "\n",
    "# Run the main loop\n",
    "root.mainloop()"
   ]
  }
 ],
 "metadata": {
  "kernelspec": {
   "display_name": "Python 3",
   "language": "python",
   "name": "python3"
  },
  "language_info": {
   "codemirror_mode": {
    "name": "ipython",
    "version": 3
   },
   "file_extension": ".py",
   "mimetype": "text/x-python",
   "name": "python",
   "nbconvert_exporter": "python",
   "pygments_lexer": "ipython3",
   "version": "3.11.0"
  },
  "orig_nbformat": 4
 },
 "nbformat": 4,
 "nbformat_minor": 2
}
