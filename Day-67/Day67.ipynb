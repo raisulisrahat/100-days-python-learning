{
 "cells": [
  {
   "cell_type": "markdown",
   "metadata": {},
   "source": [
    "# Day 67"
   ]
  },
  {
   "cell_type": "markdown",
   "metadata": {},
   "source": [
    "#### Pandas Built-In modules Day 7"
   ]
  },
  {
   "cell_type": "code",
   "execution_count": 2,
   "metadata": {},
   "outputs": [
    {
     "name": "stdout",
     "output_type": "stream",
     "text": [
      "   Roll Name Class Subject Division  GPA\n",
      "0     1    A    XI          Science  5.0\n",
      "1     2    B    XI          Science  5.0\n",
      "2     3    C    XI          Science  4.7\n",
      "3     4    D    XI          Science  4.0\n",
      "4     5    E    XI             Arts  4.2\n",
      "5     6    F    XI             Arts  4.7\n",
      "6     7    G    XI             Arts  4.5\n",
      "7     8    H    XI         Commarce  4.8\n",
      "8     9    I    XI         Commarce  4.7\n",
      "9    10    J    XI         Commarce  4.7\n",
      "GPA Statistics:\n",
      "count    10.000000\n",
      "mean      4.630000\n",
      "std       0.319896\n",
      "min       4.000000\n",
      "25%       4.550000\n",
      "50%       4.700000\n",
      "75%       4.775000\n",
      "max       5.000000\n",
      "Name: GPA, dtype: float64\n",
      "Filtered DataFrame:\n",
      "   Roll Name Class Subject Division  GPA\n",
      "0     1    A    XI          Science  5.0\n",
      "1     2    B    XI          Science  5.0\n",
      "2     3    C    XI          Science  4.7\n",
      "5     6    F    XI             Arts  4.7\n",
      "7     8    H    XI         Commarce  4.8\n",
      "8     9    I    XI         Commarce  4.7\n",
      "9    10    J    XI         Commarce  4.7\n",
      "Mean GPA by Class:\n",
      "Class\n",
      "XI    4.63\n",
      "Name: GPA, dtype: float64\n"
     ]
    }
   ],
   "source": [
    "import pandas as pd\n",
    "import numpy as np\n",
    "\n",
    "# Read the CSV data into a DataFrame\n",
    "df = pd.read_csv('Sheet1.csv')\n",
    "\n",
    "# Add a 'GPA' column to the DataFrame\n",
    "df['GPA'] = [5, 5, 4.7, 4, 4.2, 4.7, 4.5, 4.8, 4.7, 4.7]\n",
    "\n",
    "# Display the entire DataFrame\n",
    "print(df)\n",
    "\n",
    "# Calculate and print basic statistics for the 'GPA' column\n",
    "print(\"GPA Statistics:\")\n",
    "print(df['GPA'].describe())\n",
    "\n",
    "# Filter rows based on a condition (e.g., GPA greater than 4.5)\n",
    "filtered_df = df[df['GPA'] > 4.5]\n",
    "print(\"Filtered DataFrame:\")\n",
    "print(filtered_df)\n",
    "\n",
    "# Group the DataFrame by the 'Class' column and calculate the mean GPA for each class\n",
    "class_mean_gpa = df.groupby('Class')['GPA'].mean()\n",
    "print(\"Mean GPA by Class:\")\n",
    "print(class_mean_gpa)\n",
    "\n",
    "# Save the modified DataFrame to a new CSV file\n",
    "df.to_csv('New_Sheet1.csv', index=False)"
   ]
  }
 ],
 "metadata": {
  "kernelspec": {
   "display_name": "Python 3",
   "language": "python",
   "name": "python3"
  },
  "language_info": {
   "codemirror_mode": {
    "name": "ipython",
    "version": 3
   },
   "file_extension": ".py",
   "mimetype": "text/x-python",
   "name": "python",
   "nbconvert_exporter": "python",
   "pygments_lexer": "ipython3",
   "version": "3.11.5"
  },
  "orig_nbformat": 4
 },
 "nbformat": 4,
 "nbformat_minor": 2
}
