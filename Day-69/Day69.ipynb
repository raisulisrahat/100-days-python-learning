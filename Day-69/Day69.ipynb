{
 "cells": [
  {
   "cell_type": "markdown",
   "metadata": {},
   "source": [
    "# Day 69"
   ]
  },
  {
   "cell_type": "markdown",
   "metadata": {},
   "source": [
    "#### Practising Pandas & Numpy Day 2 (Data Processor!)"
   ]
  },
  {
   "cell_type": "code",
   "execution_count": 2,
   "metadata": {},
   "outputs": [
    {
     "name": "stdout",
     "output_type": "stream",
     "text": [
      "Welcome to the Data Processor!\n",
      "\n",
      "Menu:\n",
      "1. Calculate mean\n",
      "2. Calculate median\n",
      "3. Calculate minimum value\n",
      "4. Calculate maximum value\n",
      "5. Exit\n",
      "Mean: 32.5\n",
      "\n",
      "Menu:\n",
      "1. Calculate mean\n",
      "2. Calculate median\n",
      "3. Calculate minimum value\n",
      "4. Calculate maximum value\n",
      "5. Exit\n",
      "Median: 32.5\n",
      "\n",
      "Menu:\n",
      "1. Calculate mean\n",
      "2. Calculate median\n",
      "3. Calculate minimum value\n",
      "4. Calculate maximum value\n",
      "5. Exit\n",
      "Minimum Value: 10\n",
      "\n",
      "Menu:\n",
      "1. Calculate mean\n",
      "2. Calculate median\n",
      "3. Calculate minimum value\n",
      "4. Calculate maximum value\n",
      "5. Exit\n",
      "Maximum Value: 55\n",
      "\n",
      "Menu:\n",
      "1. Calculate mean\n",
      "2. Calculate median\n",
      "3. Calculate minimum value\n",
      "4. Calculate maximum value\n",
      "5. Exit\n",
      "Exiting the Data Analyzer.\n"
     ]
    }
   ],
   "source": [
    "import numpy as np\n",
    "import pandas as pd\n",
    "\n",
    "class DataProcessor:\n",
    "    def __init__(self, data_file):\n",
    "        self.data_file = data_file\n",
    "\n",
    "    def read_data(self):\n",
    "        try:\n",
    "            return pd.read_csv(self.data_file)\n",
    "        except FileNotFoundError:\n",
    "            print(f\"File '{self.data_file}' not found.\")\n",
    "            return None\n",
    "\n",
    "    def analyze_data(self, data):\n",
    "        if data is None:\n",
    "            return\n",
    "\n",
    "        while True:\n",
    "            print(\"\\nMenu:\")\n",
    "            print(\"1. Calculate mean\")\n",
    "            print(\"2. Calculate median\")\n",
    "            print(\"3. Calculate minimum value\")\n",
    "            print(\"4. Calculate maximum value\")\n",
    "            print(\"5. Exit\")\n",
    "\n",
    "            choice = input(\"Enter your choice: \")\n",
    "\n",
    "            if choice == '1':\n",
    "                mean = np.mean(data['Value'])\n",
    "                print(f\"Mean: {mean}\")\n",
    "            elif choice == '2':\n",
    "                median = np.median(data['Value'])\n",
    "                print(f\"Median: {median}\")\n",
    "            elif choice == '3':\n",
    "                min_value = np.min(data['Value'])\n",
    "                print(f\"Minimum Value: {min_value}\")\n",
    "            elif choice == '4':\n",
    "                max_value = np.max(data['Value'])\n",
    "                print(f\"Maximum Value: {max_value}\")\n",
    "            elif choice == '5':\n",
    "                print(\"Exiting the Data Analyzer.\")\n",
    "                break\n",
    "            else:\n",
    "                print(\"Invalid choice. Please enter a valid option.\")\n",
    "\n",
    "def main():\n",
    "    print(\"Welcome to the Data Processor!\")\n",
    "\n",
    "    data_file = \"data.csv\"  # Replace with your CSV file path\n",
    "    data_processor = DataProcessor(data_file)\n",
    "\n",
    "    data = data_processor.read_data()\n",
    "    data_processor.analyze_data(data)\n",
    "\n",
    "if __name__ == \"__main__\":\n",
    "    main()"
   ]
  }
 ],
 "metadata": {
  "kernelspec": {
   "display_name": "Python 3",
   "language": "python",
   "name": "python3"
  },
  "language_info": {
   "codemirror_mode": {
    "name": "ipython",
    "version": 3
   },
   "file_extension": ".py",
   "mimetype": "text/x-python",
   "name": "python",
   "nbconvert_exporter": "python",
   "pygments_lexer": "ipython3",
   "version": "3.11.5"
  },
  "orig_nbformat": 4
 },
 "nbformat": 4,
 "nbformat_minor": 2
}
