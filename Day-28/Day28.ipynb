{
 "cells": [
  {
   "cell_type": "markdown",
   "metadata": {},
   "source": [
    "# Day 28"
   ]
  },
  {
   "cell_type": "markdown",
   "metadata": {},
   "source": [
    "#### Practising Day 23 in python (DataList)"
   ]
  },
  {
   "cell_type": "code",
   "execution_count": 2,
   "metadata": {},
   "outputs": [
    {
     "name": "stdout",
     "output_type": "stream",
     "text": [
      "My Name: Risul Islam\n",
      "My Last Name: Rahat\n",
      "Hobbies: Anime, Traveling, Programming\n",
      "Age: 24\n",
      "\n",
      "Languages:\n",
      "Name: HTML, CSS, Years of Experience: 3\n",
      "Name: Python, Years of Experience: 2\n",
      "Name: PowerShell, Years of Experience: 1\n",
      "Name: Bash Script, Years of Experience: 1\n"
     ]
    }
   ],
   "source": [
    "import json\n",
    "\n",
    "filename = \"example.json\"\n",
    "\n",
    "with open(filename, 'r') as file_object:\n",
    "    json_str = file_object.read()\n",
    "    data = json.loads(json_str)\n",
    "\n",
    "print(\"My Name:\", data[\"myName\"])\n",
    "print(\"My Last Name:\", data[\"myLastName\"])\n",
    "print(\"Hobbies:\", \", \".join(data[\"hobbies\"]))\n",
    "print(\"Age:\", data[\"age\"])\n",
    "\n",
    "print(\"\\nLanguages:\")\n",
    "for lang in data[\"languages\"]:\n",
    "    print(f\"Name: {lang['name']}, Years of Experience: {lang['years']}\")\n"
   ]
  }
 ],
 "metadata": {
  "kernelspec": {
   "display_name": "Python 3",
   "language": "python",
   "name": "python3"
  },
  "language_info": {
   "codemirror_mode": {
    "name": "ipython",
    "version": 3
   },
   "file_extension": ".py",
   "mimetype": "text/x-python",
   "name": "python",
   "nbconvert_exporter": "python",
   "pygments_lexer": "ipython3",
   "version": "3.11.4"
  },
  "orig_nbformat": 4
 },
 "nbformat": 4,
 "nbformat_minor": 2
}
