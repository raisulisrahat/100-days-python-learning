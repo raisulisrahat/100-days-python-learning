{
 "cells": [
  {
   "cell_type": "markdown",
   "metadata": {},
   "source": [
    "# Day 92"
   ]
  },
  {
   "cell_type": "markdown",
   "metadata": {},
   "source": [
    "#### DevOps Project Day 2"
   ]
  },
  {
   "cell_type": "code",
   "execution_count": 2,
   "metadata": {},
   "outputs": [
    {
     "name": "stdout",
     "output_type": "stream",
     "text": [
      "Log source: app.log, Error count: 1\n",
      "Log source: server.log, Error count: 1\n"
     ]
    }
   ],
   "source": [
    "import os\n",
    "import re\n",
    "import collections\n",
    "\n",
    "# Define the log_directory and log_pattern as before\n",
    "\n",
    "# Create a dictionary to store log entries by source\n",
    "log_entries = collections.defaultdict(list)\n",
    "log_directory = os.getcwd()\n",
    "log_pattern = r'\\[(.*?)\\] (.*)'\n",
    "\n",
    "# Loop through log files in the directory\n",
    "for filename in os.listdir(log_directory):\n",
    "    if filename.endswith(\".log\"):\n",
    "        with open(os.path.join(log_directory, filename), 'r') as log_file:\n",
    "            for line in log_file:\n",
    "                match = re.match(log_pattern, line)\n",
    "                if match:\n",
    "                    timestamp, message = match.groups()\n",
    "                    log_entries[filename].append((timestamp, message))\n",
    "\n",
    "# Analyze the logs (e.g., count errors)\n",
    "for source, entries in log_entries.items():\n",
    "    error_count = sum(1 for timestamp, message in entries if \"error\" in message.lower())\n",
    "    print(f\"Log source: {source}, Error count: {error_count}\")\n"
   ]
  }
 ],
 "metadata": {
  "kernelspec": {
   "display_name": "Python 3",
   "language": "python",
   "name": "python3"
  },
  "language_info": {
   "codemirror_mode": {
    "name": "ipython",
    "version": 3
   },
   "file_extension": ".py",
   "mimetype": "text/x-python",
   "name": "python",
   "nbconvert_exporter": "python",
   "pygments_lexer": "ipython3",
   "version": "3.11.6"
  }
 },
 "nbformat": 4,
 "nbformat_minor": 2
}
