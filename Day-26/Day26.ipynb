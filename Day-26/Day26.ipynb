{
 "cells": [
  {
   "cell_type": "markdown",
   "metadata": {},
   "source": [
    "# Day 26"
   ]
  },
  {
   "cell_type": "markdown",
   "metadata": {},
   "source": [
    "#### Practising Day 21 in python (Countdown Timer), (Age Calculator)"
   ]
  },
  {
   "cell_type": "code",
   "execution_count": 1,
   "metadata": {},
   "outputs": [
    {
     "name": "stdout",
     "output_type": "stream",
     "text": [
      "Your time has been closed!!\n"
     ]
    }
   ],
   "source": [
    "# Time Built-In Modules\n",
    "import time\n",
    "\n",
    "def countdown(timer):       # countdown timer\n",
    "    while timer:\n",
    "        hours, mins, secs = divmod(timer, 3600), divmod(timer % 3600, 60), timer % 60\n",
    "        times = '{:02d}:{:02d}:{:02d}'.format(hours[0], mins[0], secs)\n",
    "        print(times, end=\"\\r\")\n",
    "        time.sleep(1)\n",
    "        timer -= 1\n",
    "    print('Your time has been closed!!')\n",
    "\n",
    "timer = input(\"Enter the time in secend: \")\n",
    "countdown(int(timer))"
   ]
  },
  {
   "cell_type": "code",
   "execution_count": 2,
   "metadata": {},
   "outputs": [
    {
     "name": "stdout",
     "output_type": "stream",
     "text": [
      "Your age is: 24\n"
     ]
    }
   ],
   "source": [
    "# Date Built-In Modules\n",
    "from datetime import date\n",
    "\n",
    "def age(birthdate):         # age calculator\n",
    "    today = date.today()\n",
    "    age = today.year - birthdate.year - ((today.month, today.day) < (birthdate.month, birthdate.day))\n",
    "    return age\n",
    "\n",
    "year = int(input(\"Enter birth year (YYYY): \"))\n",
    "month = int(input(\"Enter birth month (MM): \"))\n",
    "day = int(input(\"Enter birth day (DD): \"))\n",
    "birthdate = date(year, month, day)\n",
    "\n",
    "calculated_age = age(birthdate)\n",
    "print(\"Your age is:\", calculated_age)"
   ]
  }
 ],
 "metadata": {
  "kernelspec": {
   "display_name": "Python 3",
   "language": "python",
   "name": "python3"
  },
  "language_info": {
   "codemirror_mode": {
    "name": "ipython",
    "version": 3
   },
   "file_extension": ".py",
   "mimetype": "text/x-python",
   "name": "python",
   "nbconvert_exporter": "python",
   "pygments_lexer": "ipython3",
   "version": "3.11.4"
  },
  "orig_nbformat": 4
 },
 "nbformat": 4,
 "nbformat_minor": 2
}
