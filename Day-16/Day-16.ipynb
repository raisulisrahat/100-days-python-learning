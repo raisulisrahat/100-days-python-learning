{
 "cells": [
  {
   "cell_type": "markdown",
   "metadata": {},
   "source": [
    "# Day 16"
   ]
  },
  {
   "cell_type": "markdown",
   "metadata": {},
   "source": [
    "#### Constructor in python"
   ]
  },
  {
   "cell_type": "code",
   "execution_count": 1,
   "metadata": {},
   "outputs": [
    {
     "name": "stdout",
     "output_type": "stream",
     "text": [
      "ID: 101 \n",
      "Name: Asif \n",
      "Post: Web Developer\n",
      "ID: 102 \n",
      "Name: Sima \n",
      "Post: Android Developer\n",
      "ID: 103 \n",
      "Name: Sakib \n",
      "Post: Web Developer\n",
      "ID: 104 \n",
      "Name: Opi \n",
      "Post: Blockchain Developer\n"
     ]
    }
   ],
   "source": [
    "# Creating the constructor\n",
    "class Employee:  \n",
    "    def __init__(self, name, id, post):  \n",
    "        self.id = id  \n",
    "        self.name = name\n",
    "        self.post = post\n",
    "  \n",
    "    def display(self):  \n",
    "        print(\"ID: %d \\nName: %s \\nPost: %s\" % (self.id, self.name, self.post))  \n",
    "  \n",
    "  \n",
    "emp1 = Employee(\"Asif\", 101, \"Web Developer\")  \n",
    "emp2 = Employee(\"Sima\", 102, \"Android Developer\")\n",
    "emp3 = Employee(\"Sakib\", 103, \"Web Developer\")\n",
    "emp4 = Employee(\"Opi\", 104, \"Blockchain Developer\")\n",
    "  \n",
    "emp1.display() \n",
    "emp2.display()  \n",
    "emp3.display()  \n",
    "emp4.display()"
   ]
  },
  {
   "cell_type": "code",
   "execution_count": 2,
   "metadata": {},
   "outputs": [
    {
     "name": "stdout",
     "output_type": "stream",
     "text": [
      "None\n",
      "{'name': 'Asif', 'id': 101, 'post': 'Web Developer'}\n",
      "__main__\n",
      "None\n",
      "{'name': 'Sima', 'id': 102, 'post': 'Android Developer'}\n",
      "__main__\n",
      "None\n",
      "{'name': 'Sakib', 'id': 103, 'post': 'Web Developer'}\n",
      "__main__\n",
      "None\n",
      "{'name': 'Opi', 'id': 104, 'post': 'Blockchain Developer'}\n",
      "__main__\n"
     ]
    }
   ],
   "source": [
    "# Built-in Constructor\n",
    "class Employee:    \n",
    "    def __init__(self,name,id,post):    \n",
    "        self.name = name;    \n",
    "        self.id = id;    \n",
    "        self.post = post    \n",
    "    def display_details(self):    \n",
    "        print(\"Name:%s, ID:%d, Post:%s\"%(self.name,self.id))    \n",
    "\n",
    "emp1 = Employee(\"Asif\", 101, \"Web Developer\")  \n",
    "emp2 = Employee(\"Sima\", 102, \"Android Developer\")\n",
    "emp3 = Employee(\"Sakib\", 103, \"Web Developer\")\n",
    "emp4 = Employee(\"Opi\", 104, \"Blockchain Developer\")\n",
    "\n",
    "print(emp1.__doc__)    \n",
    "print(emp1.__dict__)    \n",
    "print(emp1.__module__) \n",
    "print(emp2.__doc__)    \n",
    "print(emp2.__dict__)    \n",
    "print(emp2.__module__) \n",
    "print(emp3.__doc__)    \n",
    "print(emp3.__dict__)    \n",
    "print(emp3.__module__) \n",
    "print(emp4.__doc__)    \n",
    "print(emp4.__dict__)    \n",
    "print(emp4.__module__)"
   ]
  },
  {
   "cell_type": "code",
   "execution_count": 3,
   "metadata": {},
   "outputs": [
    {
     "name": "stdout",
     "output_type": "stream",
     "text": [
      "This is parametrized constructor\n",
      "Hello Sakib\n"
     ]
    }
   ],
   "source": [
    "# Parameterized Constructor\n",
    "class Emp:                  # Constructor - parameterized  \n",
    "    def __init__(self, name):  \n",
    "        print(\"This is parametrized constructor\")  \n",
    "        self.name = name  \n",
    "    def show(self):  \n",
    "        print(\"Hello\",self.name)  \n",
    "Employee = Emp(\"Sakib\")  \n",
    "Employee.show()"
   ]
  },
  {
   "cell_type": "code",
   "execution_count": 4,
   "metadata": {},
   "outputs": [
    {
     "name": "stdout",
     "output_type": "stream",
     "text": [
      "This is non parametrized constructor\n",
      "Hello Sakib\n"
     ]
    }
   ],
   "source": [
    "# Non-parameterized Constructor\n",
    "class Emp:                  # Constructor - non parameterized  \n",
    "    def __init__(self):  \n",
    "        print(\"This is non parametrized constructor\")  \n",
    "    def show(self,name):  \n",
    "        print(\"Hello\",name)  \n",
    "Employee = Emp()  \n",
    "Employee.show(\"Sakib\")"
   ]
  },
  {
   "cell_type": "markdown",
   "metadata": {},
   "source": [
    "#### Encapsulation in Python"
   ]
  },
  {
   "cell_type": "code",
   "execution_count": 5,
   "metadata": {},
   "outputs": [
    {
     "name": "stdout",
     "output_type": "stream",
     "text": [
      "I am Asif, I got a A+\n",
      "I am Babul, I got a A\n",
      "I am Cabbit, I got a A-\n",
      "I am Dia, I got a B\n"
     ]
    }
   ],
   "source": [
    "class Students:\n",
    "   def __init__(self, name, rank, numbers):\n",
    "      self.name = name\n",
    "      self.rank = rank\n",
    "      self.numbers = numbers\n",
    "\n",
    "   def info(self):\n",
    "      print(\"I am \"+self.name +\",\"+ \" I got a\", self.rank)\n",
    "\n",
    "st1 = Students(\"Asif\", \"A+\", 100)\n",
    "st2 = Students(\"Babul\", \"A\", 70)\n",
    "st3 = Students(\"Cabbit\", \"A-\", 60)\n",
    "st4 = Students(\"Dia\", \"B\", 50)\n",
    "\n",
    "st1.info()\n",
    "st2.info()\n",
    "st3.info()\n",
    "st4.info()"
   ]
  }
 ],
 "metadata": {
  "kernelspec": {
   "display_name": "Python 3",
   "language": "python",
   "name": "python3"
  },
  "language_info": {
   "codemirror_mode": {
    "name": "ipython",
    "version": 3
   },
   "file_extension": ".py",
   "mimetype": "text/x-python",
   "name": "python",
   "nbconvert_exporter": "python",
   "pygments_lexer": "ipython3",
   "version": "3.11.4"
  },
  "orig_nbformat": 4
 },
 "nbformat": 4,
 "nbformat_minor": 2
}
