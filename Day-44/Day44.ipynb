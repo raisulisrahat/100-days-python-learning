{
 "cells": [
  {
   "cell_type": "markdown",
   "metadata": {},
   "source": [
    "# Day 44"
   ]
  },
  {
   "cell_type": "markdown",
   "metadata": {},
   "source": [
    "#### SMTP Built-In modules "
   ]
  },
  {
   "cell_type": "code",
   "execution_count": null,
   "metadata": {},
   "outputs": [],
   "source": [
    "import smtplib\n",
    "\n",
    "def prompt(prompt):\n",
    "    return input(prompt).strip()\n",
    "\n",
    "fromadd = prompt(\"From: \")\n",
    "toaddrs = prompt(\"To: \").split()\n",
    "print(\"Enter your message: \")\n",
    "\n",
    "\n",
    "msg = (\"From: %s\\r\\nTo: %s\\r\\n\\r\\n\"\n",
    "       % (fromadd, \", \".join(toaddrs)))\n",
    "        \n",
    "while True:\n",
    "    try:\n",
    "        line = input()\n",
    "    except EOFError:\n",
    "        break\n",
    "    if not line:\n",
    "        break\n",
    "\n",
    "print(\"Message length is\", len(msg))\n",
    "\n",
    "server = smtplib.SMTP('localhost')\n",
    "server.set_debuglevel(1)\n",
    "server.sendmail(fromadd, toaddrs, msg)\n",
    "server.quit()"
   ]
  }
 ],
 "metadata": {
  "kernelspec": {
   "display_name": "Python 3",
   "language": "python",
   "name": "python3"
  },
  "language_info": {
   "codemirror_mode": {
    "name": "ipython",
    "version": 3
   },
   "file_extension": ".py",
   "mimetype": "text/x-python",
   "name": "python",
   "nbconvert_exporter": "python",
   "pygments_lexer": "ipython3",
   "version": "3.11.0"
  },
  "orig_nbformat": 4
 },
 "nbformat": 4,
 "nbformat_minor": 2
}
