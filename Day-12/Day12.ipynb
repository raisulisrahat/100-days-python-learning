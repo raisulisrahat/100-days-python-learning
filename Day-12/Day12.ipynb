{
 "cells": [
  {
   "cell_type": "markdown",
   "metadata": {},
   "source": [
    "# Day 12"
   ]
  },
  {
   "cell_type": "markdown",
   "metadata": {},
   "source": [
    "#### Inheritance in python"
   ]
  },
  {
   "cell_type": "code",
   "execution_count": 1,
   "metadata": {},
   "outputs": [
    {
     "name": "stdout",
     "output_type": "stream",
     "text": [
      "You can make a call\n",
      "You can send a message\n"
     ]
    }
   ],
   "source": [
    "class telephone:        # Parent Class\n",
    "    def call(self):\n",
    "        print(\"You can make a call\")\n",
    "    def message(self):\n",
    "        print(\"You can send a message\")\n",
    "\n",
    "x = telephone()\n",
    "x.call()\n",
    "x.message()"
   ]
  },
  {
   "cell_type": "code",
   "execution_count": 2,
   "metadata": {},
   "outputs": [
    {
     "name": "stdout",
     "output_type": "stream",
     "text": [
      "You can make a call\n",
      "You can send a message\n",
      "You can take a picture\n",
      "You can browse any website\n"
     ]
    }
   ],
   "source": [
    "class telephone:        # Parent Class\n",
    "    def call(self):\n",
    "        print(\"You can make a call\")\n",
    "    def message(self):\n",
    "        print(\"You can send a message\")\n",
    "class phone(telephone):     # Child Class\n",
    "    def photo(self):\n",
    "        print(\"You can take a picture\")\n",
    "    def web(self):\n",
    "        print(\"You can browse any website\")\n",
    "\n",
    "x = phone()\n",
    "x.call()\n",
    "x.message()\n",
    "x.photo()\n",
    "x.web()"
   ]
  },
  {
   "cell_type": "code",
   "execution_count": 3,
   "metadata": {},
   "outputs": [
    {
     "name": "stdout",
     "output_type": "stream",
     "text": [
      "You can make a call\n",
      "You can send a message\n",
      "You can take a picture\n",
      "You can browse any website\n"
     ]
    }
   ],
   "source": [
    "class telephone:        # Parent Class\n",
    "    def call(self):\n",
    "        print(\"You can make a call\")\n",
    "    def message(self):\n",
    "        print(\"You can send a message\")\n",
    "class phone(telephone):     # Child Class\n",
    "    def photo(self):\n",
    "        print(\"You can take a picture\")\n",
    "    def web(self):\n",
    "        print(\"You can browse any website\")\n",
    "\n",
    "# Add the __init__() and super() Function\n",
    "class smartphone(phone):\n",
    "    def __init__(self):\n",
    "        super().__init__()\n",
    "\n",
    "x = smartphone()\n",
    "x.call()\n",
    "x.message()\n",
    "x.photo()\n",
    "x.web()"
   ]
  }
 ],
 "metadata": {
  "kernelspec": {
   "display_name": "Python 3",
   "language": "python",
   "name": "python3"
  },
  "language_info": {
   "codemirror_mode": {
    "name": "ipython",
    "version": 3
   },
   "file_extension": ".py",
   "mimetype": "text/x-python",
   "name": "python",
   "nbconvert_exporter": "python",
   "pygments_lexer": "ipython3",
   "version": "3.11.4"
  },
  "orig_nbformat": 4
 },
 "nbformat": 4,
 "nbformat_minor": 2
}
