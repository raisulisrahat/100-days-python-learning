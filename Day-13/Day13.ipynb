{
 "cells": [
  {
   "cell_type": "markdown",
   "metadata": {},
   "source": [
    "# Day 13"
   ]
  },
  {
   "cell_type": "markdown",
   "metadata": {},
   "source": [
    "#### Polymorphism in python"
   ]
  },
  {
   "cell_type": "code",
   "execution_count": 4,
   "metadata": {},
   "outputs": [
    {
     "name": "stdout",
     "output_type": "stream",
     "text": [
      "15\n",
      "3\n",
      "5\n"
     ]
    }
   ],
   "source": [
    "# Function Polymorphism\n",
    "\n",
    "# String\n",
    "x = \"Hi, I am Rahat.\"\n",
    "print(len(x))\n",
    "\n",
    "# Tuple\n",
    "fruits = (\"apple\", \"banana\", \"cherry\")\n",
    "print(len(fruits))\n",
    "\n",
    "# Dictionary\n",
    "Bio = {\n",
    "    \"Name\": \"Rahat\",\n",
    "    \"Age\" : 24,\n",
    "    \"Address\" : \"Dhaka\",\n",
    "    \"Blood\": \"O+\",\n",
    "    \"Nationality\" : \"Bangladeshi\"\n",
    "}\n",
    "print(len(Bio))"
   ]
  },
  {
   "cell_type": "code",
   "execution_count": 5,
   "metadata": {},
   "outputs": [
    {
     "name": "stdout",
     "output_type": "stream",
     "text": [
      "Processor is perfect for you\n",
      "Core i7\n",
      "13700K\n",
      "Motherboard is perfect for you\n",
      "ASUS\n",
      "B760-PLUS\n",
      "RAM is perfect for you\n",
      "G.Skill\n",
      "Z NEO 32GB\n"
     ]
    }
   ],
   "source": [
    "# Class Polymorphism\n",
    "class Processor:\n",
    "    def __init__(self, brand, model):\n",
    "        self.brand = brand\n",
    "        self.model = model\n",
    "\n",
    "    def move(self):\n",
    "        print(\"Processor is perfect for you\")\n",
    "\n",
    "class Motherboard:\n",
    "    def __init__(self, brand, model):\n",
    "        self.brand = brand\n",
    "        self.model = model\n",
    "\n",
    "    def move(self):\n",
    "        print(\"Motherboard is perfect for you\")\n",
    "\n",
    "class RAM:\n",
    "    def __init__(self, brand, model):\n",
    "        self.brand = brand\n",
    "        self.model = model\n",
    "\n",
    "    def move(self):\n",
    "        print(\"RAM is perfect for you\")\n",
    "\n",
    "cpu1 = Processor(\"Core i7\", \"13700K\")       \n",
    "mb1 = Motherboard(\"ASUS\", \"B760-PLUS\") \n",
    "ram1 = RAM(\"G.Skill\", \"Z NEO 32GB\")   \n",
    "\n",
    "for x in (cpu1, mb1, ram1):\n",
    "    x.move()\n",
    "    print(x.brand)\n",
    "    print(x.model)"
   ]
  },
  {
   "cell_type": "code",
   "execution_count": 6,
   "metadata": {},
   "outputs": [
    {
     "name": "stdout",
     "output_type": "stream",
     "text": [
      "You can make a call\n",
      "You can send a message\n",
      "Panasonic\n",
      "KX-TGF350\n",
      "You can take a picture\n",
      "You can browse any website\n",
      "Nokia\n",
      "C1\n"
     ]
    }
   ],
   "source": [
    "# Inheritance Class Polymorphism\n",
    "class telephone:            # Parent Class\n",
    "    def __init__(self, brand, model):\n",
    "        self.brand = brand\n",
    "        self.model = model  \n",
    "\n",
    "    def move(self):\n",
    "        print(\"You can make a call\")\n",
    "        print(\"You can send a message\")\n",
    "\n",
    "class phone(telephone):     # Child Class\n",
    "    def move(self):\n",
    "        print(\"You can take a picture\")\n",
    "        print(\"You can browse any website\")\n",
    "\n",
    "telephone1 = telephone(\"Panasonic\", \"KX-TGF350\")\n",
    "phone1 = phone(\"Nokia\", \"C1\")\n",
    "\n",
    "for x in (telephone1, phone1):\n",
    "    x.move()\n",
    "    print(x.brand)\n",
    "    print(x.model)"
   ]
  }
 ],
 "metadata": {
  "kernelspec": {
   "display_name": "Python 3",
   "language": "python",
   "name": "python3"
  },
  "language_info": {
   "codemirror_mode": {
    "name": "ipython",
    "version": 3
   },
   "file_extension": ".py",
   "mimetype": "text/x-python",
   "name": "python",
   "nbconvert_exporter": "python",
   "pygments_lexer": "ipython3",
   "version": "3.11.4"
  },
  "orig_nbformat": 4
 },
 "nbformat": 4,
 "nbformat_minor": 2
}
