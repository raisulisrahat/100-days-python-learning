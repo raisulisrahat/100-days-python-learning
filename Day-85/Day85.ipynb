{
 "cells": [
  {
   "cell_type": "markdown",
   "metadata": {},
   "source": [
    "# Day 85"
   ]
  },
  {
   "cell_type": "markdown",
   "metadata": {},
   "source": [
    "#### Problem Solving Day 5"
   ]
  },
  {
   "cell_type": "code",
   "execution_count": 1,
   "metadata": {},
   "outputs": [
    {
     "name": "stdout",
     "output_type": "stream",
     "text": [
      "System Information Report\n",
      "----------------------------\n",
      "OS: Windows\n",
      "OS Version: 10.0.19045\n",
      "OS Release: 10\n",
      "Hostname: DESKTOP-G0TOLJU\n",
      "Processor: Intel64 Family 6 Model 151 Stepping 2, GenuineIntel\n",
      "CPU Cores: 20\n",
      "Architecture: ('64bit', 'WindowsPE')\n",
      "Memory (RAM): 63.78\n",
      "Local IP Address: 192.168.0.5\n"
     ]
    }
   ],
   "source": [
    "import os\n",
    "import platform\n",
    "import socket\n",
    "import psutil\n",
    "\n",
    "# Function to get system information\n",
    "def get_system_info():\n",
    "    system_info = {}\n",
    "\n",
    "    # Operating System Information\n",
    "    system_info['OS'] = platform.system()\n",
    "    system_info['OS Version'] = platform.version()\n",
    "    system_info['OS Release'] = platform.release()\n",
    "\n",
    "    # System Hostname\n",
    "    system_info['Hostname'] = socket.gethostname()\n",
    "\n",
    "    # Hardware Information\n",
    "    system_info['Processor'] = platform.processor()\n",
    "    system_info['CPU Cores'] = os.cpu_count()\n",
    "    system_info['Architecture'] = platform.architecture()\n",
    "    system_info['Memory (RAM)'] = round(psutil.virtual_memory().total / (1024. ** 3), 2)  # in GB\n",
    "\n",
    "    # Network Information\n",
    "    system_info['Local IP Address'] = socket.gethostbyname(socket.gethostname())\n",
    "\n",
    "    return system_info\n",
    "\n",
    "# Generate and print the system information report\n",
    "if __name__ == \"__main__\":\n",
    "    system_info = get_system_info()\n",
    "\n",
    "    print(\"System Information Report\")\n",
    "    print(\"----------------------------\")\n",
    "    for key, value in system_info.items():\n",
    "        print(f\"{key}: {value}\")\n"
   ]
  }
 ],
 "metadata": {
  "kernelspec": {
   "display_name": "Python 3",
   "language": "python",
   "name": "python3"
  },
  "language_info": {
   "codemirror_mode": {
    "name": "ipython",
    "version": 3
   },
   "file_extension": ".py",
   "mimetype": "text/x-python",
   "name": "python",
   "nbconvert_exporter": "python",
   "pygments_lexer": "ipython3",
   "version": "3.11.6"
  }
 },
 "nbformat": 4,
 "nbformat_minor": 2
}
