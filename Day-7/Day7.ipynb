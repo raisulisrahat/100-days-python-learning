{
 "cells": [
  {
   "cell_type": "markdown",
   "metadata": {},
   "source": [
    "# Day 7"
   ]
  },
  {
   "cell_type": "markdown",
   "metadata": {},
   "source": [
    "#### Arrays in python"
   ]
  },
  {
   "cell_type": "code",
   "execution_count": 12,
   "metadata": {},
   "outputs": [
    {
     "name": "stdout",
     "output_type": "stream",
     "text": [
      "apple\n"
     ]
    }
   ],
   "source": [
    "# Arrays\n",
    "fruits = [\"apple\", \"banana\", \"mango\", \"malon\", \"orange\", \"kiwi\", \"cherry\"]\n",
    "\n",
    "# Access the Elements of an Array\n",
    "x = fruits[0]\n",
    "print(x)"
   ]
  },
  {
   "cell_type": "code",
   "execution_count": 13,
   "metadata": {},
   "outputs": [
    {
     "name": "stdout",
     "output_type": "stream",
     "text": [
      "7\n"
     ]
    }
   ],
   "source": [
    "# Length of an Array\n",
    "x = len(fruits)\n",
    "print(x)"
   ]
  },
  {
   "cell_type": "code",
   "execution_count": 14,
   "metadata": {},
   "outputs": [
    {
     "name": "stdout",
     "output_type": "stream",
     "text": [
      "apple\n",
      "banana\n",
      "mango\n",
      "malon\n",
      "orange\n",
      "kiwi\n",
      "cherry\n"
     ]
    }
   ],
   "source": [
    "# Looping Array Elements\n",
    "for f in fruits:\n",
    "    print(f)"
   ]
  },
  {
   "cell_type": "code",
   "execution_count": 15,
   "metadata": {},
   "outputs": [
    {
     "name": "stdout",
     "output_type": "stream",
     "text": [
      "['apple', 'banana', 'mango', 'malon', 'orange', 'kiwi', 'cherry', 'stoberry']\n"
     ]
    }
   ],
   "source": [
    "# Adding Array Elements\n",
    "fruits.append(\"stoberry\")\n",
    "print(fruits)"
   ]
  },
  {
   "cell_type": "code",
   "execution_count": 16,
   "metadata": {},
   "outputs": [
    {
     "name": "stdout",
     "output_type": "stream",
     "text": [
      "['apple', 'banana', 'mango', 'malon', 'kiwi', 'cherry']\n"
     ]
    }
   ],
   "source": [
    "# Poping Array Elements\n",
    "fruits = [\"apple\", \"banana\", \"mango\", \"malon\", \"orange\", \"kiwi\", \"cherry\"]\n",
    "fruits.pop(4)\n",
    "print(fruits)"
   ]
  },
  {
   "cell_type": "code",
   "execution_count": 17,
   "metadata": {},
   "outputs": [
    {
     "name": "stdout",
     "output_type": "stream",
     "text": [
      "['apple', 'banana', 'mango', 'malon', 'orange', 'cherry']\n"
     ]
    }
   ],
   "source": [
    "# Removing Array Elements\n",
    "fruits = [\"apple\", \"banana\", \"mango\", \"malon\", \"orange\", \"kiwi\", \"cherry\"]\n",
    "fruits.remove(\"kiwi\")\n",
    "print(fruits)"
   ]
  },
  {
   "cell_type": "markdown",
   "metadata": {},
   "source": [
    "#### Class/Object in python"
   ]
  },
  {
   "cell_type": "code",
   "execution_count": 18,
   "metadata": {},
   "outputs": [
    {
     "name": "stdout",
     "output_type": "stream",
     "text": [
      "<class '__main__.newClass'>\n"
     ]
    }
   ],
   "source": [
    "# Creating a Class\n",
    "class newClass:\n",
    "  x = 3\n",
    "print(newClass)"
   ]
  },
  {
   "cell_type": "code",
   "execution_count": 19,
   "metadata": {},
   "outputs": [
    {
     "name": "stdout",
     "output_type": "stream",
     "text": [
      "7\n"
     ]
    }
   ],
   "source": [
    "# Creating a Object\n",
    "class newClass:\n",
    "  x = 7\n",
    "\n",
    "p1 = newClass()\n",
    "print(p1.x)"
   ]
  },
  {
   "cell_type": "code",
   "execution_count": 20,
   "metadata": {},
   "outputs": [
    {
     "name": "stdout",
     "output_type": "stream",
     "text": [
      "Rahat\n",
      "24\n"
     ]
    }
   ],
   "source": [
    "# The __init__() Function\n",
    "class bio:\n",
    "  def __init__(self, name, age):\n",
    "    self.name = name\n",
    "    self.age = age\n",
    "\n",
    "b1 = bio(\"Rahat\", 24)\n",
    "print(b1.name)\n",
    "print(b1.age)"
   ]
  },
  {
   "cell_type": "code",
   "execution_count": 21,
   "metadata": {},
   "outputs": [
    {
     "name": "stdout",
     "output_type": "stream",
     "text": [
      "Rahat(24)\n"
     ]
    }
   ],
   "source": [
    "# The __str__() Function\n",
    "class bio:\n",
    "    def __init__(self, name, age):\n",
    "        self.name = name\n",
    "        self.age = age\n",
    "    def __str__(self):\n",
    "        return f\"{self.name}({self.age})\"\n",
    "\n",
    "b1 = bio(\"Rahat\", 24)\n",
    "print(b1)"
   ]
  },
  {
   "cell_type": "code",
   "execution_count": 22,
   "metadata": {},
   "outputs": [
    {
     "name": "stdout",
     "output_type": "stream",
     "text": [
      "Hi I am Rahat\n"
     ]
    }
   ],
   "source": [
    "# Object Methods\n",
    "class bio:\n",
    "    def __init__(self, name, age):\n",
    "        self.name = name\n",
    "        self.age = age\n",
    "    def myfunc(self):\n",
    "       print(\"Hi I am \" + self.name)\n",
    "\n",
    "b1 = bio(\"Rahat\", 24)\n",
    "b1.myfunc()"
   ]
  },
  {
   "cell_type": "code",
   "execution_count": 23,
   "metadata": {},
   "outputs": [
    {
     "name": "stdout",
     "output_type": "stream",
     "text": [
      "Hi I am Rahat. I am 25 years old.\n"
     ]
    }
   ],
   "source": [
    "# Customs self Parameter\n",
    "class bio:\n",
    "    def __init__(abc, name, age):\n",
    "        abc.name = name\n",
    "        abc.age = age\n",
    "    def myfunc(abc):\n",
    "       print(\"Hi I am \" + abc.name + \". I am \" + str(abc.age) +\" years old.\")\n",
    "\n",
    "b1 = bio(\"Rahat\", 25)\n",
    "b1.myfunc()"
   ]
  }
 ],
 "metadata": {
  "kernelspec": {
   "display_name": "Python 3",
   "language": "python",
   "name": "python3"
  },
  "language_info": {
   "codemirror_mode": {
    "name": "ipython",
    "version": 3
   },
   "file_extension": ".py",
   "mimetype": "text/x-python",
   "name": "python",
   "nbconvert_exporter": "python",
   "pygments_lexer": "ipython3",
   "version": "3.11.4"
  },
  "orig_nbformat": 4
 },
 "nbformat": 4,
 "nbformat_minor": 2
}
