{
 "cells": [
  {
   "cell_type": "markdown",
   "metadata": {},
   "source": [
    "# Day 48"
   ]
  },
  {
   "cell_type": "markdown",
   "metadata": {},
   "source": [
    "#### Practising Day 43 in python (FileManager Project)"
   ]
  },
  {
   "cell_type": "code",
   "execution_count": 1,
   "metadata": {},
   "outputs": [
    {
     "name": "stdout",
     "output_type": "stream",
     "text": [
      "Welcome to the File Manager!\n",
      "\n",
      "Menu:\n",
      "1. Create a directory\n",
      "2. Create a file\n",
      "3. List files in a directory\n",
      "4. Exit\n",
      "Directory 'Test-Dir' created successfully.\n",
      "\n",
      "Menu:\n",
      "1. Create a directory\n",
      "2. Create a file\n",
      "3. List files in a directory\n",
      "4. Exit\n",
      "File 'Test-File.txt' created successfully.\n",
      "\n",
      "Menu:\n",
      "1. Create a directory\n",
      "2. Create a file\n",
      "3. List files in a directory\n",
      "4. Exit\n",
      "Files in directory '.':\n",
      "Day48.ipynb\n",
      "practising.py\n",
      "Test-Dir\n",
      "Test-File.txt\n",
      "\n",
      "Menu:\n",
      "1. Create a directory\n",
      "2. Create a file\n",
      "3. List files in a directory\n",
      "4. Exit\n",
      "Exiting the File Manager.\n"
     ]
    }
   ],
   "source": [
    "import os\n",
    "\n",
    "class FileManager:\n",
    "    def create_directory(self, directory_name):\n",
    "        if not os.path.exists(directory_name):\n",
    "            os.makedirs(directory_name)\n",
    "            print(f\"Directory '{directory_name}' created successfully.\")\n",
    "        else:\n",
    "            print(f\"Directory '{directory_name}' already exists.\")\n",
    "\n",
    "    def create_file(self, file_name):\n",
    "        if not os.path.exists(file_name):\n",
    "            with open(file_name, 'w') as file:\n",
    "                print(f\"File '{file_name}' created successfully.\")\n",
    "        else:\n",
    "            print(f\"File '{file_name}' already exists.\")\n",
    "\n",
    "    def list_files(self, directory):\n",
    "        if os.path.exists(directory) and os.path.isdir(directory):\n",
    "            files = os.listdir(directory)\n",
    "            if files:\n",
    "                print(f\"Files in directory '{directory}':\")\n",
    "                for file in files:\n",
    "                    print(file)\n",
    "            else:\n",
    "                print(f\"No files found in directory '{directory}'.\")\n",
    "        else:\n",
    "            print(f\"Directory '{directory}' does not exist.\")\n",
    "\n",
    "def main():\n",
    "    print(\"Welcome to the File Manager!\")\n",
    "\n",
    "    file_manager = FileManager()\n",
    "\n",
    "    while True:\n",
    "        print(\"\\nMenu:\")\n",
    "        print(\"1. Create a directory\")\n",
    "        print(\"2. Create a file\")\n",
    "        print(\"3. List files in a directory\")\n",
    "        print(\"4. Exit\")\n",
    "\n",
    "        choice = input(\"Enter your choice: \")\n",
    "\n",
    "        if choice == '1':\n",
    "            directory_name = input(\"Enter directory name: \")\n",
    "            file_manager.create_directory(directory_name)\n",
    "        elif choice == '2':\n",
    "            file_name = input(\"Enter file name: \")\n",
    "            file_manager.create_file(file_name)\n",
    "        elif choice == '3':\n",
    "            directory = input(\"Enter directory to list files: \")\n",
    "            file_manager.list_files(directory)\n",
    "        elif choice == '4':\n",
    "            print(\"Exiting the File Manager.\")\n",
    "            break\n",
    "        else:\n",
    "            print(\"Invalid choice. Please enter a valid option.\")\n",
    "\n",
    "if __name__ == \"__main__\":\n",
    "    main()\n"
   ]
  }
 ],
 "metadata": {
  "kernelspec": {
   "display_name": "Python 3",
   "language": "python",
   "name": "python3"
  },
  "language_info": {
   "codemirror_mode": {
    "name": "ipython",
    "version": 3
   },
   "file_extension": ".py",
   "mimetype": "text/x-python",
   "name": "python",
   "nbconvert_exporter": "python",
   "pygments_lexer": "ipython3",
   "version": "3.11.0"
  },
  "orig_nbformat": 4
 },
 "nbformat": 4,
 "nbformat_minor": 2
}
