{
 "cells": [
  {
   "cell_type": "markdown",
   "metadata": {},
   "source": [
    "# Day 27"
   ]
  },
  {
   "cell_type": "markdown",
   "metadata": {},
   "source": [
    "#### Practising Day 22 in python (Calculator)"
   ]
  },
  {
   "cell_type": "code",
   "execution_count": 1,
   "metadata": {},
   "outputs": [
    {
     "name": "stdout",
     "output_type": "stream",
     "text": [
      "Please select operation -\n",
      "1. Add\n",
      "2. Subtract\n",
      "3. Multiply\n",
      "4. Divide\n",
      "5. Power\n",
      "\n",
      "5 ^ 4 = 625\n"
     ]
    }
   ],
   "source": [
    "# Basic Calculator \n",
    "import math\n",
    "\n",
    "def add(number1, number2):\n",
    "    return number1 + number2\n",
    "\n",
    "def subtract(number1, number2):\n",
    "    return number1 - number2\n",
    "\n",
    "def multiply(number1, number2):\n",
    "    return number1 * number2\n",
    "\n",
    "def divide(number1, number2):\n",
    "    return number1 / number2\n",
    "\n",
    "def power(number1, number2):\n",
    "    return int(math.pow(number1, number2))\n",
    "\n",
    "print(\"Please select operation -\\n\" \\\n",
    "        \"1. Add\\n\" \\\n",
    "        \"2. Subtract\\n\" \\\n",
    "        \"3. Multiply\\n\" \\\n",
    "        \"4. Divide\\n\"\n",
    "        \"5. Power\\n\")\n",
    "\n",
    "select = int(input(\"Select operations:\"))\n",
    " \n",
    "num1 = int(input(\"Enter a first number: \"))\n",
    "num2 = int(input(\"Enter a second number: \"))\n",
    " \n",
    "if select == 1:\n",
    "    print(num1, \"+\", num2, \"=\",\n",
    "                    add(num1, num2))\n",
    " \n",
    "elif select == 2:\n",
    "    print(num1, \"-\", num2, \"=\",\n",
    "                    subtract(num1, num2))\n",
    " \n",
    "elif select == 3:\n",
    "    print(num1, \"*\", num2, \"=\",\n",
    "                    multiply(num1, num2))\n",
    " \n",
    "elif select == 4:\n",
    "    print(num1, \"/\", num2, \"=\",\n",
    "                    divide(num1, num2))\n",
    "elif select == 5:\n",
    "    print(num1, \"^\", num2, \"=\",\n",
    "                    power(num1, num2))\n",
    "else:\n",
    "    print(\"Invalid input\")"
   ]
  }
 ],
 "metadata": {
  "kernelspec": {
   "display_name": "Python 3",
   "language": "python",
   "name": "python3"
  },
  "language_info": {
   "codemirror_mode": {
    "name": "ipython",
    "version": 3
   },
   "file_extension": ".py",
   "mimetype": "text/x-python",
   "name": "python",
   "nbconvert_exporter": "python",
   "pygments_lexer": "ipython3",
   "version": "3.11.4"
  },
  "orig_nbformat": 4
 },
 "nbformat": 4,
 "nbformat_minor": 2
}
