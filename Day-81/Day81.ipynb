{
 "cells": [
  {
   "cell_type": "markdown",
   "metadata": {},
   "source": [
    "# Day 81"
   ]
  },
  {
   "cell_type": "markdown",
   "metadata": {},
   "source": [
    "#### Problem Solving Day 1 "
   ]
  },
  {
   "cell_type": "code",
   "execution_count": 5,
   "metadata": {},
   "outputs": [],
   "source": [
    "import re\n",
    "import logging\n",
    "import smtplib\n",
    "from email.mime.text import MIMEText\n",
    "from email.mime.multipart import MIMEMultipart\n",
    "\n",
    "# Set up logging to read from a log file\n",
    "log_file_path = \"your_log_file.log\"\n",
    "logging.basicConfig(filename=log_file_path, level=logging.ERROR)\n",
    "\n",
    "# Define the regular expression pattern to match critical errors\n",
    "error_pattern = r\"\\[ERROR\\] (.*)\"\n",
    "\n",
    "# Function to extract and send alerts for critical errors\n",
    "def analyze_log_and_alert():\n",
    "    try:\n",
    "        with open(log_file_path, \"r\") as log_file:\n",
    "            for line in log_file:\n",
    "                match = re.search(error_pattern, line)\n",
    "                if match:\n",
    "                    error_message = match.group(1)\n",
    "                    send_alert(error_message)\n",
    "    except Exception as e:\n",
    "        print(f\"Error reading log file: {str(e)}\")\n",
    "\n",
    "# Function to send alerts via email\n",
    "def send_alert(error_message):\n",
    "    sender_email = \"risulislam089@gmail.com\"\n",
    "    receiver_email = \"bulletsblack4@gmail.com\"\n",
    "    password = \"---\"\n",
    "\n",
    "    subject = \"Critical Error Alert\"\n",
    "    body = f\"Critical error detected: {error_message}\"\n",
    "\n",
    "    message = MIMEMultipart()\n",
    "    message[\"From\"] = sender_email\n",
    "    message[\"To\"] = receiver_email\n",
    "    message[\"Subject\"] = subject\n",
    "    message.attach(MIMEText(body, \"plain\"))\n",
    "\n",
    "    try:\n",
    "        server = smtplib.SMTP(\"smtp.gmail.com\", 587)\n",
    "        server.starttls()\n",
    "        server.login(sender_email, password)\n",
    "        server.sendmail(sender_email, receiver_email, message.as_string())\n",
    "        server.quit()\n",
    "        print(\"Alert sent successfully.\")\n",
    "    except Exception as e:\n",
    "        print(f\"Error sending alert: {str(e)}\")\n",
    "\n",
    "# Run the log analysis and alerting\n",
    "analyze_log_and_alert()"
   ]
  }
 ],
 "metadata": {
  "kernelspec": {
   "display_name": "Python 3",
   "language": "python",
   "name": "python3"
  },
  "language_info": {
   "codemirror_mode": {
    "name": "ipython",
    "version": 3
   },
   "file_extension": ".py",
   "mimetype": "text/x-python",
   "name": "python",
   "nbconvert_exporter": "python",
   "pygments_lexer": "ipython3",
   "version": "3.11.6"
  }
 },
 "nbformat": 4,
 "nbformat_minor": 2
}
