{
 "cells": [
  {
   "cell_type": "markdown",
   "metadata": {},
   "source": [
    "# Day 42"
   ]
  },
  {
   "cell_type": "markdown",
   "metadata": {},
   "source": [
    "#### Built-In Logging modules in python"
   ]
  },
  {
   "cell_type": "code",
   "execution_count": null,
   "metadata": {},
   "outputs": [],
   "source": [
    "import logging\n",
    "import logging.config\n",
    "\n",
    "logging.config.fileConfig('Demo.conf')\n",
    "\n",
    "file_handler = logging.FileHandler('Demo.log')\n",
    "\n",
    "log = logging.getLogger('simpleExample')\n",
    "log.setLevel(logging.DEBUG)\n",
    "log.addHandler(file_handler)\n",
    "\n",
    "log.debug(\"Debug!! fix you appliction risk too high\")\n",
    "log.critical(\"Critical!! appliction health level too high\")\n",
    "log.error(\"Error!! appliction not responding\")\n",
    "log.warning(\"Warning! appliction level too high\")\n",
    "log.info(\"Info!! appliction checker\")"
   ]
  }
 ],
 "metadata": {
  "kernelspec": {
   "display_name": "Python 3",
   "language": "python",
   "name": "python3"
  },
  "language_info": {
   "name": "python",
   "version": "3.11.0"
  },
  "orig_nbformat": 4
 },
 "nbformat": 4,
 "nbformat_minor": 2
}
