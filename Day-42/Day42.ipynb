{
 "cells": [
  {
   "cell_type": "markdown",
   "metadata": {},
   "source": [
    "# Day 42"
   ]
  },
  {
   "cell_type": "markdown",
   "metadata": {},
   "source": [
    "#### Built-In Logging modules in python"
   ]
  },
  {
   "cell_type": "code",
   "execution_count": 1,
   "metadata": {},
   "outputs": [
    {
     "name": "stdout",
     "output_type": "stream",
     "text": [
      "2023-09-01 23:32:00,008 - simpleExample - DEBUG - Debug!! fix you appliction risk too high\n",
      "2023-09-01 23:32:00,012 - simpleExample - CRITICAL - Critical!! appliction health level too high\n",
      "2023-09-01 23:32:00,015 - simpleExample - ERROR - Error!! appliction not responding\n",
      "2023-09-01 23:32:00,022 - simpleExample - WARNING - Warning! appliction level too high\n",
      "2023-09-01 23:32:00,030 - simpleExample - INFO - Info!! appliction checker\n"
     ]
    }
   ],
   "source": [
    "import logging\n",
    "import logging.config\n",
    "\n",
    "logging.config.fileConfig('Demo.conf')\n",
    "\n",
    "file_handler = logging.FileHandler('Demo.log')\n",
    "\n",
    "log = logging.getLogger('simpleExample')\n",
    "log.setLevel(logging.DEBUG)\n",
    "log.addHandler(file_handler)\n",
    "\n",
    "log.debug(\"Debug!! fix you appliction risk too high\")\n",
    "log.critical(\"Critical!! appliction health level too high\")\n",
    "log.error(\"Error!! appliction not responding\")\n",
    "log.warning(\"Warning! appliction level too high\")\n",
    "log.info(\"Info!! appliction checker\")"
   ]
  }
 ],
 "metadata": {
  "kernelspec": {
   "display_name": "Python 3",
   "language": "python",
   "name": "python3"
  },
  "language_info": {
   "codemirror_mode": {
    "name": "ipython",
    "version": 3
   },
   "file_extension": ".py",
   "mimetype": "text/x-python",
   "name": "python",
   "nbconvert_exporter": "python",
   "pygments_lexer": "ipython3",
   "version": "3.11.0"
  },
  "orig_nbformat": 4
 },
 "nbformat": 4,
 "nbformat_minor": 2
}
