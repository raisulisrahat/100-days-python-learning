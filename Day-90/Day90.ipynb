{
 "cells": [
  {
   "cell_type": "markdown",
   "metadata": {},
   "source": [
    "# Day 90"
   ]
  },
  {
   "cell_type": "markdown",
   "metadata": {},
   "source": [
    "#### Problem Solving Day 10"
   ]
  },
  {
   "cell_type": "code",
   "execution_count": 3,
   "metadata": {},
   "outputs": [
    {
     "name": "stdout",
     "output_type": "stream",
     "text": [
      "Quote 1: “The world as we have created it is a process of our thinking. It cannot be changed without changing our thinking.”\n",
      "Quote 2: “It is our choices, Harry, that show what we truly are, far more than our abilities.”\n",
      "Quote 3: “There are only two ways to live your life. One is as though nothing is a miracle. The other is as though everything is a miracle.”\n",
      "Quote 4: “The person, be it gentleman or lady, who has not pleasure in a good novel, must be intolerably stupid.”\n",
      "Quote 5: “Imperfection is beauty, madness is genius and it's better to be absolutely ridiculous than absolutely boring.”\n",
      "Quote 6: “Try not to become a man of success. Rather become a man of value.”\n",
      "Quote 7: “It is better to be hated for what you are than to be loved for what you are not.”\n",
      "Quote 8: “I have not failed. I've just found 10,000 ways that won't work.”\n",
      "Quote 9: “A woman is like a tea bag; you never know how strong it is until it's in hot water.”\n",
      "Quote 10: “A day without sunshine is like, you know, night.”\n"
     ]
    }
   ],
   "source": [
    "import requests\n",
    "from bs4 import BeautifulSoup\n",
    "\n",
    "# Send an HTTP GET request to the website\n",
    "url = \"http://quotes.toscrape.com\"\n",
    "response = requests.get(url)\n",
    "\n",
    "# Check if the request was successful\n",
    "if response.status_code == 200:\n",
    "    # Parse the HTML content of the page\n",
    "    soup = BeautifulSoup(response.text, 'html.parser')\n",
    "\n",
    "    # Extract data from the page\n",
    "    quotes = []\n",
    "    for quote in soup.find_all('span', class_='text'):\n",
    "        quotes.append(quote.text)\n",
    "\n",
    "    # Print the scraped quotes\n",
    "    for i, quote in enumerate(quotes, start=1):\n",
    "        print(f\"Quote {i}: {quote}\")\n",
    "\n",
    "else:\n",
    "    print(f\"Failed to retrieve data. Status code: {response.status_code}\")\n"
   ]
  }
 ],
 "metadata": {
  "kernelspec": {
   "display_name": "Python 3",
   "language": "python",
   "name": "python3"
  },
  "language_info": {
   "codemirror_mode": {
    "name": "ipython",
    "version": 3
   },
   "file_extension": ".py",
   "mimetype": "text/x-python",
   "name": "python",
   "nbconvert_exporter": "python",
   "pygments_lexer": "ipython3",
   "version": "3.11.6"
  }
 },
 "nbformat": 4,
 "nbformat_minor": 2
}
