{
 "cells": [
  {
   "cell_type": "markdown",
   "metadata": {},
   "source": [
    "# Day 18"
   ]
  },
  {
   "cell_type": "markdown",
   "metadata": {},
   "source": [
    "#### Practising Day 12 to Day 14"
   ]
  },
  {
   "cell_type": "code",
   "execution_count": 1,
   "metadata": {},
   "outputs": [
    {
     "name": "stdout",
     "output_type": "stream",
     "text": [
      "Brand: Blackberry\n",
      "Model: A1\n",
      "Price: $1000\n",
      "\n",
      "Brand: Samsung\n",
      "Model: S20+\n",
      "Price: $1100\n",
      "\n",
      "Brand: Iphone\n",
      "Model: 14 pro\n",
      "Price: $1200\n",
      "\n",
      "Brand: Sony\n",
      "Model: XZ22\n",
      "Price: $900\n",
      "\n",
      "Brand: Xiaomi\n",
      "Model: Note 15\n",
      "Price: $500\n",
      "\n",
      "Brand: Realme\n",
      "Model: C3\n",
      "Price: $300\n",
      "\n",
      "Brand: Opp\n",
      "Model: H6\n",
      "Price: $400\n",
      "\n"
     ]
    }
   ],
   "source": [
    "class Phone:\n",
    "    def __init__(self, brand, model, price):\n",
    "        self.brand = brand\n",
    "        self.model = model\n",
    "        self.price = price\n",
    "\n",
    "class PhoneList:\n",
    "    def __init__(self):\n",
    "        self.phones = []\n",
    "        self.index = 0\n",
    "\n",
    "    def add_phone(self, phone):\n",
    "        self.phones.append(phone)\n",
    "\n",
    "    def __iter__(self):\n",
    "        return self\n",
    "\n",
    "    def __next__(self):\n",
    "        if self.index < len(self.phones):\n",
    "            phone = self.phones[self.index]\n",
    "            self.index += 1\n",
    "            return phone\n",
    "        raise StopIteration\n",
    "\n",
    "brand = (\"Blackberry\", \"Samsung\", \"Iphone\", \"Sony\", \"Xiaomi\", \"Realme\", \"Opp\")\n",
    "price = (\"$1000\", \"$1100\", \"$1200\", \"$900\", \"$500\", \"$300\", \"$400\")\n",
    "model = (\"A1\", \"S20+\", \"14 pro\", \"XZ22\", \"Note 15\", \"C3\", \"H6\")\n",
    "\n",
    "phone_list = PhoneList()\n",
    "\n",
    "for i in range(len(brand)):\n",
    "    new_phone = Phone(brand[i], model[i], price[i])\n",
    "    phone_list.add_phone(new_phone)\n",
    "\n",
    "for phone in phone_list:\n",
    "    print(\"Brand:\", phone.brand)\n",
    "    print(\"Model:\", phone.model)\n",
    "    print(\"Price:\", phone.price)\n",
    "    print()\n"
   ]
  }
 ],
 "metadata": {
  "kernelspec": {
   "display_name": "Python 3",
   "language": "python",
   "name": "python3"
  },
  "language_info": {
   "codemirror_mode": {
    "name": "ipython",
    "version": 3
   },
   "file_extension": ".py",
   "mimetype": "text/x-python",
   "name": "python",
   "nbconvert_exporter": "python",
   "pygments_lexer": "ipython3",
   "version": "3.11.4"
  },
  "orig_nbformat": 4
 },
 "nbformat": 4,
 "nbformat_minor": 2
}
