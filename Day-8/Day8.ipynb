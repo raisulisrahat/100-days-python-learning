{
 "cells": [
  {
   "cell_type": "markdown",
   "metadata": {},
   "source": [
    "# Day 8"
   ]
  },
  {
   "cell_type": "markdown",
   "metadata": {},
   "source": [
    "#### Scopes in Python"
   ]
  },
  {
   "cell_type": "code",
   "execution_count": 1,
   "metadata": {},
   "outputs": [
    {
     "name": "stdout",
     "output_type": "stream",
     "text": [
      "apple\n"
     ]
    }
   ],
   "source": [
    "# Local Scope\n",
    "def myfunc():\n",
    "    s = \"apple\"\n",
    "    print(s)\n",
    "\n",
    "myfunc()"
   ]
  },
  {
   "cell_type": "code",
   "execution_count": 2,
   "metadata": {},
   "outputs": [
    {
     "name": "stdout",
     "output_type": "stream",
     "text": [
      "15\n"
     ]
    }
   ],
   "source": [
    "# Function Inside Function\n",
    "def myfunc():\n",
    "    n = 15\n",
    "    def myinnerfunc():\n",
    "        print(n)\n",
    "    myinnerfunc()\n",
    "\n",
    "myfunc()"
   ]
  },
  {
   "cell_type": "code",
   "execution_count": 3,
   "metadata": {},
   "outputs": [
    {
     "name": "stdout",
     "output_type": "stream",
     "text": [
      "105\n",
      "105\n"
     ]
    }
   ],
   "source": [
    "# Global Scope\n",
    "a = 105\n",
    "def newfunc():\n",
    "    print(a)\n",
    "newfunc()\n",
    "print(a)"
   ]
  },
  {
   "cell_type": "code",
   "execution_count": 4,
   "metadata": {},
   "outputs": [
    {
     "name": "stdout",
     "output_type": "stream",
     "text": [
      "27\n",
      "18\n"
     ]
    }
   ],
   "source": [
    "# Naming Variables\n",
    "i = 18      # Global\n",
    "def Ifunc():\n",
    "    i = 27  # Local\n",
    "    print(i)\n",
    "\n",
    "Ifunc()\n",
    "print(i)"
   ]
  },
  {
   "cell_type": "code",
   "execution_count": 5,
   "metadata": {},
   "outputs": [
    {
     "name": "stdout",
     "output_type": "stream",
     "text": [
      "75\n"
     ]
    }
   ],
   "source": [
    "# Global Keyword\n",
    "x = 83\n",
    "def myfunc():\n",
    "    global x    #The global keyword makes the variable global.\n",
    "    x = 75\n",
    "\n",
    "myfunc()\n",
    "print(x)"
   ]
  },
  {
   "cell_type": "markdown",
   "metadata": {},
   "source": [
    "#### Sorting in python"
   ]
  },
  {
   "cell_type": "code",
   "execution_count": 6,
   "metadata": {},
   "outputs": [
    {
     "name": "stdout",
     "output_type": "stream",
     "text": [
      "[1, 2, 3, 5, 6, 7, 11, 18]\n",
      "[1, 2, 3, 5, 6, 7, 11, 18]\n"
     ]
    }
   ],
   "source": [
    "# Sorting Basics\n",
    "\n",
    "Num = [1, 5, 7, 3, 11, 2, 6, 18]\n",
    "print(sorted(Num))\n",
    "\n",
    "ListNum = {1:'G', 5:'H', 7:'D', 3:'E', 11:'F', 2:'B', 6:'C', 18:'A'}\n",
    "print(sorted(ListNum))"
   ]
  },
  {
   "cell_type": "code",
   "execution_count": 7,
   "metadata": {},
   "outputs": [
    {
     "name": "stdout",
     "output_type": "stream",
     "text": [
      "['am', 'Hi', 'I', 'Rahat.']\n"
     ]
    }
   ],
   "source": [
    "# Key Functions\n",
    "x = \"Hi I am Rahat.\"\n",
    "print(sorted(x.split(), key=str.lower))"
   ]
  },
  {
   "cell_type": "code",
   "execution_count": 8,
   "metadata": {},
   "outputs": [
    {
     "name": "stdout",
     "output_type": "stream",
     "text": [
      "[18, 11, 7, 6, 5, 3, 2, 1]\n"
     ]
    }
   ],
   "source": [
    "# reverse sorts\n",
    "Num = [1, 5, 7, 3, 11, 2, 6, 18]\n",
    "print(sorted(Num, reverse=True))"
   ]
  }
 ],
 "metadata": {
  "kernelspec": {
   "display_name": "Python 3",
   "language": "python",
   "name": "python3"
  },
  "language_info": {
   "codemirror_mode": {
    "name": "ipython",
    "version": 3
   },
   "file_extension": ".py",
   "mimetype": "text/x-python",
   "name": "python",
   "nbconvert_exporter": "python",
   "pygments_lexer": "ipython3",
   "version": "3.11.4"
  },
  "orig_nbformat": 4
 },
 "nbformat": 4,
 "nbformat_minor": 2
}
