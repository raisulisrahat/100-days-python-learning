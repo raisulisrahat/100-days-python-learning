{
 "cells": [
  {
   "cell_type": "markdown",
   "metadata": {},
   "source": [
    "# Day 58"
   ]
  },
  {
   "cell_type": "markdown",
   "metadata": {},
   "source": [
    "#### NumPy Built-In modules Day 8"
   ]
  },
  {
   "cell_type": "code",
   "execution_count": 1,
   "metadata": {},
   "outputs": [
    {
     "name": "stdout",
     "output_type": "stream",
     "text": [
      "[[0.6563073  0.98617453 0.89084219]\n",
      " [0.51002854 0.65265137 0.70086613]]\n",
      "[3 4 2 7 0 1 1 0 2 1]\n",
      "[10 10 10 10 10 10 10 10 10 10]\n",
      "[[0.63448614 0.50109021 1.72913291]\n",
      " [0.86263133 0.16903457 0.1559547 ]]\n",
      "[[1 1 9]\n",
      " [1 1 1]]\n"
     ]
    }
   ],
   "source": [
    "from numpy import random\n",
    "\n",
    "x = random.uniform(size=(2, 3))\n",
    "print(x)                        # Uniform Distribution\n",
    "\n",
    "y = random.poisson(lam=2, size=10)\n",
    "print(y)                        # Poisson Distribution\n",
    "\n",
    "z = random.binomial(n=10, p=1, size=10)\n",
    "print(z)                        # Binomial Distribution\n",
    "\n",
    "a = random.pareto(a=2, size=(2, 3))\n",
    "print(a)                        # Pareto Distribution\n",
    "\n",
    "b = random.zipf(a=2, size=(2, 3))\n",
    "print(b)                        # Zipf Distribution"
   ]
  }
 ],
 "metadata": {
  "kernelspec": {
   "display_name": "Python 3",
   "language": "python",
   "name": "python3"
  },
  "language_info": {
   "codemirror_mode": {
    "name": "ipython",
    "version": 3
   },
   "file_extension": ".py",
   "mimetype": "text/x-python",
   "name": "python",
   "nbconvert_exporter": "python",
   "pygments_lexer": "ipython3",
   "version": "3.11.5"
  },
  "orig_nbformat": 4
 },
 "nbformat": 4,
 "nbformat_minor": 2
}
