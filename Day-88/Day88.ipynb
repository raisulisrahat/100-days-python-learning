{
 "cells": [
  {
   "cell_type": "markdown",
   "metadata": {},
   "source": [
    "# Day 88"
   ]
  },
  {
   "cell_type": "markdown",
   "metadata": {},
   "source": [
    "#### Problem Solving Day 8"
   ]
  },
  {
   "cell_type": "code",
   "execution_count": null,
   "metadata": {},
   "outputs": [],
   "source": [
    "import subprocess\n",
    "import time\n",
    "\n",
    "# Define the process to monitor and its command\n",
    "process_command = \"ping www.google.com\"\n",
    "\n",
    "def run_process():\n",
    "    try:\n",
    "        # Start the process\n",
    "        process = subprocess.Popen(process_command, shell=True)\n",
    "        process.wait()\n",
    "    except Exception as e:\n",
    "        print(f\"Exception occurred: {e}\")\n",
    "        # Implement recovery logic here (e.g., restarting the process)\n",
    "\n",
    "def main():\n",
    "    while True:\n",
    "        try:\n",
    "            run_process()\n",
    "        except Exception as e:\n",
    "            print(f\"Recovery failed: {e}\")\n",
    "        # Wait for a while before attempting to restart the process\n",
    "        time.sleep(10)\n",
    "\n",
    "if __name__ == \"__main__\":\n",
    "    main()\n"
   ]
  }
 ],
 "metadata": {
  "kernelspec": {
   "display_name": "Python 3",
   "language": "python",
   "name": "python3"
  },
  "language_info": {
   "codemirror_mode": {
    "name": "ipython",
    "version": 3
   },
   "file_extension": ".py",
   "mimetype": "text/x-python",
   "name": "python",
   "nbconvert_exporter": "python",
   "pygments_lexer": "ipython3",
   "version": "3.11.6"
  }
 },
 "nbformat": 4,
 "nbformat_minor": 2
}
