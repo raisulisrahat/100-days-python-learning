{
 "cells": [
  {
   "cell_type": "markdown",
   "metadata": {},
   "source": [
    "# Day 94"
   ]
  },
  {
   "cell_type": "markdown",
   "metadata": {},
   "source": [
    "#### DevOps Project Day 4"
   ]
  },
  {
   "cell_type": "code",
   "execution_count": null,
   "metadata": {},
   "outputs": [],
   "source": [
    "import docker\n",
    "\n",
    "# Initialize the Docker client\n",
    "client = docker.from_env()\n",
    "\n",
    "# Define container names and images\n",
    "nginx_container_name = \"nginx_container\"\n",
    "nginx_image = \"nginx:latest\"\n",
    "mysql_container_name = \"mysql_container\"\n",
    "mysql_image = \"mysql:latest\"\n",
    "wordpress_container_name = \"wordpress_container\"\n",
    "wordpress_image = \"wordpress:latest\"\n",
    "\n",
    "# Function to start containers\n",
    "def start_containers():\n",
    "    # Start the MySQL container\n",
    "    client.containers.run(\n",
    "        image=mysql_image,\n",
    "        name=mysql_container_name,\n",
    "        environment=[\"MYSQL_ROOT_PASSWORD=mysecretpassword\"],\n",
    "        detach=True,\n",
    "    )\n",
    "    \n",
    "    # Start the WordPress container\n",
    "    client.containers.run(\n",
    "        image=wordpress_image,\n",
    "        name=wordpress_container_name,\n",
    "        ports={\"80/tcp\": 8080},\n",
    "        environment=[\n",
    "            \"WORDPRESS_DB_HOST=\" + mysql_container_name,\n",
    "            \"WORDPRESS_DB_PASSWORD=mysecretpassword\",\n",
    "        ],\n",
    "        detach=True,\n",
    "    )\n",
    "    \n",
    "    # Start the Nginx container (proxying to WordPress)\n",
    "    client.containers.run(\n",
    "        image=nginx_image,\n",
    "        name=nginx_container_name,\n",
    "        ports={\"80/tcp\": 80},\n",
    "        volumes={\n",
    "            \"/path/to/nginx/config\": {\"bind\": \"/etc/nginx/conf.d\", \"mode\": \"ro\"}\n",
    "        },\n",
    "        links={wordpress_container_name: \"wordpress\"},\n",
    "        detach=True,\n",
    "    )\n",
    "    print(\"Containers started successfully.\")\n",
    "\n",
    "# Function to stop and remove containers\n",
    "def stop_containers():\n",
    "    for container_name in [nginx_container_name, wordpress_container_name, mysql_container_name]:\n",
    "        try:\n",
    "            container = client.containers.get(container_name)\n",
    "            container.stop()\n",
    "            container.remove()\n",
    "            print(f\"Container {container_name} stopped and removed.\")\n",
    "        except docker.errors.NotFound:\n",
    "            print(f\"Container {container_name} not found.\")\n",
    "\n",
    "# Example usage\n",
    "start_containers()  # Start containers\n",
    "# Additional actions can be added, such as scaling or monitoring\n",
    "stop_containers()  # Stop and remove containers when done\n"
   ]
  }
 ],
 "metadata": {
  "kernelspec": {
   "display_name": "Python 3",
   "language": "python",
   "name": "python3"
  },
  "language_info": {
   "codemirror_mode": {
    "name": "ipython",
    "version": 3
   },
   "file_extension": ".py",
   "mimetype": "text/x-python",
   "name": "python",
   "nbconvert_exporter": "python",
   "pygments_lexer": "ipython3",
   "version": "3.11.6"
  }
 },
 "nbformat": 4,
 "nbformat_minor": 2
}
