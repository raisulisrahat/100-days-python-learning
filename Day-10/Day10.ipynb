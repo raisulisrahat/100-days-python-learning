{
 "cells": [
  {
   "cell_type": "markdown",
   "metadata": {},
   "source": [
    "# Day 10"
   ]
  },
  {
   "cell_type": "markdown",
   "metadata": {},
   "source": [
    "####  Practising Day 5 to Day 8"
   ]
  },
  {
   "cell_type": "code",
   "execution_count": 6,
   "metadata": {},
   "outputs": [
    {
     "name": "stdout",
     "output_type": "stream",
     "text": [
      "A is in waiting list.\n",
      "B is in waiting list.\n",
      "C can get the job.\n",
      "D can't get the job.\n"
     ]
    }
   ],
   "source": [
    "Student_List = [{\"Id\": \"01\", \"Name\": \"A\", \"Result\": 4.06},\n",
    "                {\"Id\": \"02\", \"Name\": \"B\", \"Result\": 4.46},\n",
    "                {\"Id\": \"03\", \"Name\": \"C\", \"Result\": 5.0},\n",
    "                {\"Id\": \"04\", \"Name\": \"D\", \"Result\": 3.0}]\n",
    "\n",
    "for x in Student_List:\n",
    "    result = float(x[\"Result\"])\n",
    "    if result > 4.50:\n",
    "        print(f\"{x['Name']} can get the job.\")\n",
    "    elif result > 4.0:\n",
    "        print(f\"{x['Name']} is in waiting list.\")\n",
    "    else:\n",
    "        print(f\"{x['Name']} can't get the job.\")"
   ]
  },
  {
   "cell_type": "code",
   "execution_count": 7,
   "metadata": {},
   "outputs": [
    {
     "name": "stdout",
     "output_type": "stream",
     "text": [
      "[{'Id': '01', 'Name': 'A', 'Result': 4.06}, {'Id': '02', 'Name': 'B', 'Result': 4.46}, {'Id': '03', 'Name': 'C', 'Result': 5.0}, {'Id': '04', 'Name': 'D', 'Result': 3.0}, {'Id': '04', 'Name': 'A', 'Result': 3.8}, {'Id': '05', 'Name': 'B', 'Result': 4.9}, {'Id': '06', 'Name': 'C', 'Result': 4.2}]\n"
     ]
    }
   ],
   "source": [
    "def add_student(student_list, student_id, name, result):\n",
    "    new_student = {\"Id\": student_id, \"Name\": name, \"Result\": result}\n",
    "    student_list.append(new_student)\n",
    "\n",
    "add_student(Student_List, \"04\", \"A\", 3.8)\n",
    "add_student(Student_List, \"05\", \"B\", 4.9)\n",
    "add_student(Student_List, \"06\", \"C\", 4.2)\n",
    "\n",
    "print(Student_List)"
   ]
  },
  {
   "cell_type": "code",
   "execution_count": 8,
   "metadata": {},
   "outputs": [
    {
     "name": "stdout",
     "output_type": "stream",
     "text": [
      "D can't get the job.\n",
      "E can't get the job.\n",
      "A is in waiting list.\n",
      "G is in waiting list.\n",
      "B is in waiting list.\n",
      "F can get the job.\n",
      "C can get the job.\n"
     ]
    }
   ],
   "source": [
    "Student_List = [{\"Id\": \"01\", \"Name\": \"A\", \"Result\": 4.06},\n",
    "                {\"Id\": \"02\", \"Name\": \"B\", \"Result\": 4.46},\n",
    "                {\"Id\": \"03\", \"Name\": \"C\", \"Result\": 5.0},\n",
    "                {\"Id\": \"04\", \"Name\": \"D\", \"Result\": 3.0}]\n",
    "\n",
    "def Add_Students(student_list, students_id, name, result):\n",
    "    new_student = {\"Id\": students_id, \"Name\": name, \"Result\": result}\n",
    "    student_list.append(new_student)\n",
    "    \n",
    "\n",
    "def Student_result():\n",
    "    sort_list = sorted(Student_List, key=lambda x: x[\"Result\"])\n",
    "    for x in sort_list:\n",
    "        result = float(x[\"Result\"])\n",
    "\n",
    "        if result > 4.50:\n",
    "            print(f\"{x['Name']} can get the job.\")\n",
    "        elif result > 4.0:\n",
    "            print(f\"{x['Name']} is in waiting list.\")\n",
    "        else:\n",
    "            print(f\"{x['Name']} can't get the job.\")\n",
    "    \n",
    "Add_Students(Student_List, \"05\", \"E\", 3.80)\n",
    "Add_Students(Student_List, \"06\", \"F\", 4.90)\n",
    "Add_Students(Student_List, \"07\", \"G\", 4.20)\n",
    "\n",
    "Student_result()"
   ]
  }
 ],
 "metadata": {
  "kernelspec": {
   "display_name": "Python 3",
   "language": "python",
   "name": "python3"
  },
  "language_info": {
   "codemirror_mode": {
    "name": "ipython",
    "version": 3
   },
   "file_extension": ".py",
   "mimetype": "text/x-python",
   "name": "python",
   "nbconvert_exporter": "python",
   "pygments_lexer": "ipython3",
   "version": "3.11.4"
  },
  "orig_nbformat": 4
 },
 "nbformat": 4,
 "nbformat_minor": 2
}
