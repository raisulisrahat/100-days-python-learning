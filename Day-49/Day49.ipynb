{
 "cells": [
  {
   "cell_type": "markdown",
   "metadata": {},
   "source": [
    "# Day 49"
   ]
  },
  {
   "cell_type": "markdown",
   "metadata": {},
   "source": [
    "#### Practising Day 44 in python (SMTP Email Sender)"
   ]
  },
  {
   "cell_type": "code",
   "execution_count": 1,
   "metadata": {},
   "outputs": [
    {
     "name": "stdout",
     "output_type": "stream",
     "text": [
      "Welcome to the Email Sender!\n",
      "\n",
      "Menu:\n",
      "1. Send an email\n",
      "2. Exit\n",
      "An error occurred: [Errno 11001] getaddrinfo failed\n",
      "\n",
      "Menu:\n",
      "1. Send an email\n",
      "2. Exit\n",
      "Exiting the Email Sender.\n"
     ]
    }
   ],
   "source": [
    "import smtplib\n",
    "from email.mime.text import MIMEText\n",
    "from email.mime.multipart import MIMEMultipart\n",
    "\n",
    "class EmailSender:\n",
    "    def __init__(self, smtp_server, smtp_port, sender_email, sender_password):\n",
    "        self.smtp_server = smtp_server\n",
    "        self.smtp_port = smtp_port\n",
    "        self.sender_email = sender_email\n",
    "        self.sender_password = sender_password\n",
    "\n",
    "    def send_email(self, recipient_email, subject, message):\n",
    "        try:\n",
    "            # Create an SMTP connection\n",
    "            server = smtplib.SMTP(self.smtp_server, self.smtp_port)\n",
    "            server.starttls()\n",
    "            server.login(self.sender_email, self.sender_password)\n",
    "\n",
    "            # Create and send the email\n",
    "            msg = MIMEMultipart()\n",
    "            msg['From'] = self.sender_email\n",
    "            msg['To'] = recipient_email\n",
    "            msg['Subject'] = subject\n",
    "\n",
    "            msg.attach(MIMEText(message, 'plain'))\n",
    "\n",
    "            server.sendmail(self.sender_email, recipient_email, msg.as_string())\n",
    "            server.quit()\n",
    "\n",
    "            print(f\"Email sent successfully to {recipient_email}\")\n",
    "        except Exception as e:\n",
    "            print(f\"An error occurred: {str(e)}\")\n",
    "\n",
    "def main():\n",
    "    print(\"Welcome to the Email Sender!\")\n",
    "\n",
    "    smtp_server = \"smtp.example.com\"  # Replace with your SMTP server\n",
    "    smtp_port = 587  # Replace with your SMTP port\n",
    "    sender_email = \"your_email@example.com\"  # Replace with your sender email\n",
    "    sender_password = \"your_password\"  # Replace with your sender password\n",
    "\n",
    "    email_sender = EmailSender(smtp_server, smtp_port, sender_email, sender_password)\n",
    "\n",
    "    while True:\n",
    "        print(\"\\nMenu:\")\n",
    "        print(\"1. Send an email\")\n",
    "        print(\"2. Exit\")\n",
    "\n",
    "        choice = input(\"Enter your choice: \")\n",
    "\n",
    "        if choice == '1':\n",
    "            recipient_email = input(\"Enter recipient's email: \")\n",
    "            subject = input(\"Enter email subject: \")\n",
    "            message = input(\"Enter email message: \")\n",
    "\n",
    "            email_sender.send_email(recipient_email, subject, message)\n",
    "        elif choice == '2':\n",
    "            print(\"Exiting the Email Sender.\")\n",
    "            break\n",
    "        else:\n",
    "            print(\"Invalid choice. Please enter a valid option.\")\n",
    "\n",
    "if __name__ == \"__main__\":\n",
    "    main()\n"
   ]
  }
 ],
 "metadata": {
  "kernelspec": {
   "display_name": "Python 3",
   "language": "python",
   "name": "python3"
  },
  "language_info": {
   "codemirror_mode": {
    "name": "ipython",
    "version": 3
   },
   "file_extension": ".py",
   "mimetype": "text/x-python",
   "name": "python",
   "nbconvert_exporter": "python",
   "pygments_lexer": "ipython3",
   "version": "3.11.0"
  },
  "orig_nbformat": 4
 },
 "nbformat": 4,
 "nbformat_minor": 2
}
