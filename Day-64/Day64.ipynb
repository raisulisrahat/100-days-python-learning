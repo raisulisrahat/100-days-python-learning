{
 "cells": [
  {
   "cell_type": "markdown",
   "metadata": {},
   "source": [
    "# Day 64"
   ]
  },
  {
   "cell_type": "markdown",
   "metadata": {},
   "source": [
    "#### Pandas Built-In modules Day 4"
   ]
  },
  {
   "cell_type": "code",
   "execution_count": 1,
   "metadata": {},
   "outputs": [
    {
     "name": "stdout",
     "output_type": "stream",
     "text": [
      "0    1\n",
      "1    2\n",
      "2    3\n",
      "3    4\n",
      "4    5\n",
      "5    6\n",
      "6    7\n",
      "dtype: int32\n"
     ]
    }
   ],
   "source": [
    "# Numpy and Pandas uesing in Series\n",
    "import pandas as pd\n",
    "import numpy as np\n",
    "\n",
    "data = np.array([1,2,3,4,5,6,7])\n",
    "x = pd.Series(data)\n",
    "print(x)"
   ]
  },
  {
   "cell_type": "code",
   "execution_count": 2,
   "metadata": {},
   "outputs": [
    {
     "name": "stdout",
     "output_type": "stream",
     "text": [
      "                 0         1         2\n",
      "Item 1 0  0.761693  0.720693  0.902937\n",
      "       1  0.437283  0.288859  0.410659\n",
      "       2  0.001562  0.038338  0.749223\n",
      "       3  0.319938  0.305461  0.952598\n",
      "Item 2 0  0.679383  0.824061       NaN\n",
      "       1  0.404658  0.849267       NaN\n",
      "       2  0.947754  0.351412       NaN\n",
      "       3  0.595646  0.266698       NaN\n"
     ]
    }
   ],
   "source": [
    "# Numpy and Pandas useing in DataFrame\n",
    "import pandas as pd\n",
    "import numpy as np\n",
    "\n",
    "data2 = {'Item 1': pd.DataFrame(np.random.rand(4,3)), \n",
    "         'Item 2': pd.DataFrame(np.random.rand(4,2))}\n",
    "y = pd.concat(data2)\n",
    "print(y)"
   ]
  }
 ],
 "metadata": {
  "kernelspec": {
   "display_name": "Python 3",
   "language": "python",
   "name": "python3"
  },
  "language_info": {
   "codemirror_mode": {
    "name": "ipython",
    "version": 3
   },
   "file_extension": ".py",
   "mimetype": "text/x-python",
   "name": "python",
   "nbconvert_exporter": "python",
   "pygments_lexer": "ipython3",
   "version": "3.11.5"
  },
  "orig_nbformat": 4
 },
 "nbformat": 4,
 "nbformat_minor": 2
}
