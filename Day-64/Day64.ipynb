{
 "cells": [
  {
   "cell_type": "markdown",
   "metadata": {},
   "source": [
    "# Day 64"
   ]
  },
  {
   "cell_type": "markdown",
   "metadata": {},
   "source": [
    "#### Pandas Built-In modules Day 5"
   ]
  },
  {
   "cell_type": "code",
   "execution_count": 1,
   "metadata": {},
   "outputs": [
    {
     "name": "stdout",
     "output_type": "stream",
     "text": [
      "0    1\n",
      "1    2\n",
      "2    3\n",
      "3    4\n",
      "4    5\n",
      "5    6\n",
      "6    7\n",
      "dtype: int32\n"
     ]
    }
   ],
   "source": [
    "# Numpy and Pandas uesing in Series\n",
    "import pandas as pd\n",
    "import numpy as np\n",
    "\n",
    "data = np.array([1,2,3,4,5,6,7])\n",
    "x = pd.Series(data)\n",
    "print(x)"
   ]
  },
  {
   "cell_type": "code",
   "execution_count": 2,
   "metadata": {},
   "outputs": [
    {
     "name": "stdout",
     "output_type": "stream",
     "text": [
      "                 0         1         2\n",
      "Item 1 0  0.737924  0.911625  0.505507\n",
      "       1  0.329726  0.753348  0.905329\n",
      "       2  0.041646  0.448044  0.848308\n",
      "       3  0.663791  0.910509  0.042821\n",
      "Item 2 0  0.866336  0.187201       NaN\n",
      "       1  0.779764  0.510833       NaN\n",
      "       2  0.635584  0.573361       NaN\n",
      "       3  0.012330  0.708986       NaN\n"
     ]
    }
   ],
   "source": [
    "# Numpy and Pandas useing in DataFrame\n",
    "import pandas as pd\n",
    "import numpy as np\n",
    "\n",
    "data2 = {'Item 1': pd.DataFrame(np.random.rand(4,3)), \n",
    "         'Item 2': pd.DataFrame(np.random.rand(4,2))}\n",
    "y = pd.concat(data2)\n",
    "print(y)"
   ]
  }
 ],
 "metadata": {
  "kernelspec": {
   "display_name": "Python 3",
   "language": "python",
   "name": "python3"
  },
  "language_info": {
   "codemirror_mode": {
    "name": "ipython",
    "version": 3
   },
   "file_extension": ".py",
   "mimetype": "text/x-python",
   "name": "python",
   "nbconvert_exporter": "python",
   "pygments_lexer": "ipython3",
   "version": "3.11.5"
  },
  "orig_nbformat": 4
 },
 "nbformat": 4,
 "nbformat_minor": 2
}
