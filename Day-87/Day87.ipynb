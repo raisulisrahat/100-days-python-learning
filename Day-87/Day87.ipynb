{
 "cells": [
  {
   "cell_type": "markdown",
   "metadata": {},
   "source": [
    "# Day 87"
   ]
  },
  {
   "cell_type": "markdown",
   "metadata": {},
   "source": [
    "#### Problem Solving Day 7"
   ]
  },
  {
   "cell_type": "code",
   "execution_count": 3,
   "metadata": {},
   "outputs": [
    {
     "name": "stdout",
     "output_type": "stream",
     "text": [
      "Discovered: https://ctsolutionbd.com/admin\n",
      "Discovered: https://ctsolutionbd.com/login\n",
      "Discovered: https://ctsolutionbd.com/wp-admin\n",
      "Vulnerability testing results for WordPress at https://ctsolutionbd.com/wp-admin:\n"
     ]
    }
   ],
   "source": [
    "import requests\n",
    "from bs4 import BeautifulSoup\n",
    "\n",
    "# List of common web application paths\n",
    "common_paths = [\n",
    "    \"/admin\", \"/login\", \"/wp-admin\", \"/phpmyadmin\",\n",
    "]\n",
    "\n",
    "# Target URL to scan\n",
    "target_url = \"https://ctsolutionbd.com\"\n",
    "\n",
    "# Initialize a session\n",
    "session = requests.Session()\n",
    "\n",
    "def discover_web_applications(base_url, paths):\n",
    "    discovered_apps = {}\n",
    "    \n",
    "    for path in paths:\n",
    "        url = base_url + path\n",
    "        response = session.get(url)\n",
    "        \n",
    "        if response.status_code == 200:\n",
    "            # Check if it's a common CMS (e.g., WordPress)\n",
    "            if \"wp-content\" in response.text:\n",
    "                discovered_apps[\"WordPress\"] = url\n",
    "            # You can add more checks for other CMS, frameworks, or web apps\n",
    "            \n",
    "            # Log findings\n",
    "            print(f\"Discovered: {url}\")\n",
    "    \n",
    "    return discovered_apps\n",
    "\n",
    "def scan_for_vulnerabilities(apps_to_scan):\n",
    "    for app_name, app_url in apps_to_scan.items():\n",
    "        # Here, you can perform various vulnerability scans using Requests\n",
    "        # For example, you can check for common vulnerabilities like SQL injection, XSS, CSRF, etc.\n",
    "        \n",
    "        # Log vulnerability testing results\n",
    "        print(f\"Vulnerability testing results for {app_name} at {app_url}:\")\n",
    "\n",
    "if __name__ == \"__main__\":\n",
    "    discovered_apps = discover_web_applications(target_url, common_paths)\n",
    "    if discovered_apps:\n",
    "        scan_for_vulnerabilities(discovered_apps)\n",
    "    else:\n",
    "        print(\"No web applications discovered.\")"
   ]
  }
 ],
 "metadata": {
  "kernelspec": {
   "display_name": "Python 3",
   "language": "python",
   "name": "python3"
  },
  "language_info": {
   "codemirror_mode": {
    "name": "ipython",
    "version": 3
   },
   "file_extension": ".py",
   "mimetype": "text/x-python",
   "name": "python",
   "nbconvert_exporter": "python",
   "pygments_lexer": "ipython3",
   "version": "3.11.6"
  }
 },
 "nbformat": 4,
 "nbformat_minor": 2
}
