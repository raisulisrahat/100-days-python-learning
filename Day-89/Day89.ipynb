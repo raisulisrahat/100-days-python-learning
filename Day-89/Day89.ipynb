{
 "cells": [
  {
   "cell_type": "markdown",
   "metadata": {},
   "source": [
    "# Day 89"
   ]
  },
  {
   "cell_type": "markdown",
   "metadata": {},
   "source": [
    "#### Problem Solving Day 9"
   ]
  },
  {
   "cell_type": "code",
   "execution_count": 4,
   "metadata": {},
   "outputs": [
    {
     "name": "stdout",
     "output_type": "stream",
     "text": [
      "Remote Server Output:\n",
      "total 324992\n",
      "drwxr-xr-x. 4 root root        28 Aug 22 05:34 auth\n",
      "drwxr-xr-x. 2 root root        42 Aug 22 05:35 bin\n",
      "drwxr-xr-x. 3 root root        48 Aug 22 05:34 conf\n",
      "-rw-r--r--. 1 root root 331267299 Sep 29 21:36 db-agent-23.8.0.3312.zip\n",
      "-rw-r--r--. 1 root root   1372637 Aug 22 05:34 db-agent.jar\n",
      "-rwxr-xr-x. 1 root root       726 Aug 22 05:34 Dockerfile\n",
      "drwxr-xr-x. 2 root root       150 Aug 22 05:34 k8s-deploy\n",
      "drwxr-xr-x. 2 root root        24 Aug 22 05:34 keys\n",
      "drwxr-xr-x. 2 root root     24576 Aug 22 05:34 lib\n",
      "-rw-r--r--. 1 root root       729 Aug 22 05:34 LICENSE\n",
      "-rw-r--r--. 1 root root     86592 Sep 30 03:53 ols1clk.sh\n",
      "-rw-r--r--. 1 root root      1319 Aug 22 05:34 README-to-run-dbagent-in-docker.md\n",
      "-rwxr-xr-x. 1 root root      4851 Aug 22 05:34 start-dbagent\n",
      "-rw-r--r--. 1 root root      2403 Aug 22 05:34 start-dbagent.bat\n",
      "-rwxr-xr-x. 1 root root      2635 Aug 22 05:34 start-dbagent-dockerfile-entrypoint.sh\n",
      "drwxr-xr-x. 2 root root        27 Aug 22 05:34 vbs\n",
      "An error occurred: Failure\n"
     ]
    }
   ],
   "source": [
    "import paramiko\n",
    "\n",
    "# Define the SSH server details\n",
    "ssh_host = '192.168.0.7'\n",
    "ssh_port = 22\n",
    "ssh_user = 'root'\n",
    "ssh_password = '1234'  # For SSH password authentication\n",
    "\n",
    "# Define the local and remote paths for file transfer\n",
    "local_file_path = 'data.txt'\n",
    "remote_file_path = '/home/'\n",
    "\n",
    "# SSH connection and command execution\n",
    "try:\n",
    "    # Create an SSH client\n",
    "    ssh_client = paramiko.SSHClient()\n",
    "    ssh_client.set_missing_host_key_policy(paramiko.AutoAddPolicy())\n",
    "\n",
    "    # Connect to the remote server\n",
    "    ssh_client.connect(ssh_host, ssh_port, ssh_user, ssh_password)\n",
    "\n",
    "    # Run a command on the remote server\n",
    "    stdin, stdout, stderr = ssh_client.exec_command('ls -l')\n",
    "\n",
    "    # Print the command output\n",
    "    print('Remote Server Output:')\n",
    "    for line in stdout:\n",
    "        print(line.strip())\n",
    "\n",
    "    # Copy a file to the remote server (you can use sftp.put() for file upload)\n",
    "    sftp = ssh_client.open_sftp()\n",
    "    sftp.get(remote_file_path, local_file_path)\n",
    "\n",
    "    # Close the SSH and SFTP connections\n",
    "    sftp.close()\n",
    "    ssh_client.close()\n",
    "\n",
    "except paramiko.AuthenticationException:\n",
    "    print('Authentication failed, please check your credentials')\n",
    "except paramiko.SSHException as e:\n",
    "    print(f'SSH connection failed: {e}')\n",
    "except Exception as e:\n",
    "    print(f'An error occurred: {e}')"
   ]
  }
 ],
 "metadata": {
  "kernelspec": {
   "display_name": "Python 3",
   "language": "python",
   "name": "python3"
  },
  "language_info": {
   "codemirror_mode": {
    "name": "ipython",
    "version": 3
   },
   "file_extension": ".py",
   "mimetype": "text/x-python",
   "name": "python",
   "nbconvert_exporter": "python",
   "pygments_lexer": "ipython3",
   "version": "3.11.6"
  }
 },
 "nbformat": 4,
 "nbformat_minor": 2
}
