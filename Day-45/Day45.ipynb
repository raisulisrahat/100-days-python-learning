{
 "cells": [
  {
   "cell_type": "markdown",
   "metadata": {},
   "source": [
    "# Day 45 "
   ]
  },
  {
   "cell_type": "markdown",
   "metadata": {},
   "source": [
    "#### Argparse Built-In Modules"
   ]
  },
  {
   "cell_type": "code",
   "execution_count": null,
   "metadata": {},
   "outputs": [],
   "source": [
    "import argparse\n",
    "\n",
    "if __name__ == \"__main__\":\n",
    "    # Create an ArgumentParser with a program description\n",
    "    parser = argparse.ArgumentParser(description=\"A program that does something with multiple arguments.\")\n",
    "\n",
    "    # Add the arguments\n",
    "    parser.add_argument(\"arg1\", help=\"Description of arg1\")\n",
    "    parser.add_argument(\"arg2\", help=\"Description of arg2\")\n",
    "    # Add more arguments as needed...\n",
    "\n",
    "    # Parse the command line arguments\n",
    "    args = parser.parse_args()\n",
    "\n",
    "    # Now you can access and use the arguments as needed\n",
    "    print(\"arg1:\", args.arg1)\n",
    "    print(\"arg2:\", args.arg2)\n"
   ]
  }
 ],
 "metadata": {
  "kernelspec": {
   "display_name": "Python 3",
   "language": "python",
   "name": "python3"
  },
  "language_info": {
   "codemirror_mode": {
    "name": "ipython",
    "version": 3
   },
   "file_extension": ".py",
   "mimetype": "text/x-python",
   "name": "python",
   "nbconvert_exporter": "python",
   "pygments_lexer": "ipython3",
   "version": "3.11.0"
  },
  "orig_nbformat": 4
 },
 "nbformat": 4,
 "nbformat_minor": 2
}
