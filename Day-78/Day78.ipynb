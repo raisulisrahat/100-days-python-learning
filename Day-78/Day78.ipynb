{
 "cells": [
  {
   "cell_type": "markdown",
   "metadata": {},
   "source": [
    "# Day 78"
   ]
  },
  {
   "cell_type": "markdown",
   "metadata": {},
   "source": [
    "#### Matplotlib Built-In modules Day 8"
   ]
  },
  {
   "cell_type": "code",
   "execution_count": 1,
   "metadata": {},
   "outputs": [
    {
     "name": "stdout",
     "output_type": "stream",
     "text": [
      "Welcome to the Data Analyzer and Plotter!\n",
      "Data saved to 'data.csv'\n",
      "Data Analysis Results:\n",
      "Mean Value1: 50.93\n",
      "Mean Value2: 0.47900000000000004\n",
      "Max Value1: 100\n",
      "Min Value2: 0.01\n"
     ]
    },
    {
     "data": {
      "image/png": "[encoded data removed]",
      "text/plain": [
       "<Figure size 800x600 with 1 Axes>"
      ]
     },
     "metadata": {},
     "output_type": "display_data"
    }
   ],
   "source": [
    "import random\n",
    "import pandas as pd\n",
    "import numpy as np\n",
    "import matplotlib.pyplot as plt\n",
    "\n",
    "class DataAnalyzer:\n",
    "    def __init__(self, data_file):\n",
    "        self.data_file = data_file\n",
    "\n",
    "    def generate_data(self, num_rows):\n",
    "        try:\n",
    "            random.seed(42)  # Seed for reproducibility\n",
    "\n",
    "            data = {\n",
    "                'ID': [i + 1 for i in range(num_rows)],\n",
    "                'Name': [''.join(random.choices('ABCDEFGHIJKLMNOPQRSTUVWXYZ', k=5)) for _ in range(num_rows)],\n",
    "                'Value1': [random.randint(1, 100) for _ in range(num_rows)],\n",
    "                'Value2': [round(random.uniform(0, 1), 2) for _ in range(num_rows)],\n",
    "            }\n",
    "\n",
    "            return pd.DataFrame(data)\n",
    "        except Exception as e:\n",
    "            print(f\"Error generating data: {e}\")\n",
    "            return None\n",
    "\n",
    "    def save_to_csv(self, data):\n",
    "        if data is None:\n",
    "            return\n",
    "\n",
    "        try:\n",
    "            data.to_csv(self.data_file, index=False)\n",
    "            print(f\"Data saved to '{self.data_file}'\")\n",
    "        except Exception as e:\n",
    "            print(f\"Error saving data to CSV: {e}\")\n",
    "\n",
    "    def load_data(self):\n",
    "        try:\n",
    "            return pd.read_csv(self.data_file)\n",
    "        except FileNotFoundError:\n",
    "            print(f\"File '{self.data_file}' not found.\")\n",
    "            return None\n",
    "        except pd.errors.EmptyDataError:\n",
    "            print(f\"File '{self.data_file}' is empty.\")\n",
    "            return None\n",
    "        except pd.errors.ParserError:\n",
    "            print(f\"Error parsing '{self.data_file}'. Check the file format.\")\n",
    "            return None\n",
    "\n",
    "    def analyze_data(self, data):\n",
    "        if data is None:\n",
    "            return None\n",
    "\n",
    "        try:\n",
    "            # Calculate basic statistics using NumPy\n",
    "            mean_value1 = np.mean(data['Value1'])\n",
    "            mean_value2 = np.mean(data['Value2'])\n",
    "            max_value1 = np.max(data['Value1'])\n",
    "            min_value2 = np.min(data['Value2'])\n",
    "            return mean_value1, mean_value2, max_value1, min_value2\n",
    "        except KeyError:\n",
    "            print(\"Column 'Value1' or 'Value2' not found in the data.\")\n",
    "            return None\n",
    "\n",
    "    def plot_data(self, data):\n",
    "        if data is None:\n",
    "            return\n",
    "\n",
    "        try:\n",
    "            plt.figure(figsize=(8, 6))  # Set figure size\n",
    "\n",
    "            plt.hist(data['Value1'], bins=20, color='skyblue', alpha=0.7, label='Value1')\n",
    "            plt.hist(data['Value2'], bins=20, color='lightcoral', alpha=0.7, label='Value2')\n",
    "            plt.xlabel('Value')\n",
    "            plt.ylabel('Frequency')\n",
    "            plt.title('Histogram of Data')\n",
    "            plt.legend()\n",
    "            plt.grid(True)\n",
    "            plt.show()\n",
    "        except ValueError:\n",
    "            print(\"Error while plotting data. Ensure 'Value1' and 'Value2' columns contain numeric values.\")\n",
    "\n",
    "def main():\n",
    "    print(\"Welcome to the Data Analyzer and Plotter!\")\n",
    "\n",
    "    data_file = \"data.csv\"\n",
    "    num_rows = 100  # Number of rows of data to generate\n",
    "\n",
    "    data_analyzer = DataAnalyzer(data_file)\n",
    "\n",
    "    generated_data = data_analyzer.generate_data(num_rows)\n",
    "    data_analyzer.save_to_csv(generated_data)\n",
    "\n",
    "    data = data_analyzer.load_data()\n",
    "    if data is not None:\n",
    "        analysis_result = data_analyzer.analyze_data(data)\n",
    "        if analysis_result is not None:\n",
    "            mean_value1, mean_value2, max_value1, min_value2 = analysis_result\n",
    "            print(\"Data Analysis Results:\")\n",
    "            print(f\"Mean Value1: {mean_value1}\")\n",
    "            print(f\"Mean Value2: {mean_value2}\")\n",
    "            print(f\"Max Value1: {max_value1}\")\n",
    "            print(f\"Min Value2: {min_value2}\")\n",
    "\n",
    "        data_analyzer.plot_data(data)\n",
    "\n",
    "if __name__ == \"__main__\":\n",
    "    main()\n"
   ]
  }
 ],
 "metadata": {
  "kernelspec": {
   "display_name": "Python 3",
   "language": "python",
   "name": "python3"
  },
  "language_info": {
   "codemirror_mode": {
    "name": "ipython",
    "version": 3
   },
   "file_extension": ".py",
   "mimetype": "text/x-python",
   "name": "python",
   "nbconvert_exporter": "python",
   "pygments_lexer": "ipython3",
   "version": "3.11.6"
  },
  "orig_nbformat": 4
 },
 "nbformat": 4,
 "nbformat_minor": 2
}
