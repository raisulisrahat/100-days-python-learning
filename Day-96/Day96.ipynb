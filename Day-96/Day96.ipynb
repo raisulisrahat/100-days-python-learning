{
 "cells": [
  {
   "cell_type": "markdown",
   "metadata": {},
   "source": [
    "# Day 96"
   ]
  },
  {
   "cell_type": "markdown",
   "metadata": {},
   "source": [
    "#### DevOps Projects Day 6"
   ]
  },
  {
   "cell_type": "code",
   "execution_count": 1,
   "metadata": {},
   "outputs": [],
   "source": [
    "import inspect\n",
    "\n",
    "def generate_function_documentation(module):\n",
    "    documentation = []\n",
    "    functions = inspect.getmembers(module, inspect.isfunction)\n",
    "\n",
    "    for name, func in functions:\n",
    "        docstring = func.__doc__\n",
    "        if docstring:\n",
    "            documentation.append(f\"### Function: {name}\\n\\n{docstring}\\n\")\n",
    "\n",
    "    return '\\n'.join(documentation)\n",
    "\n",
    "if __name__ == '__main__':\n",
    "    import my_module  # Replace with the name of your module\n",
    "    documentation = generate_function_documentation(my_module)\n",
    "    with open('documentation.md', 'w') as doc_file:\n",
    "        doc_file.write(documentation)\n"
   ]
  }
 ],
 "metadata": {
  "kernelspec": {
   "display_name": "Python 3",
   "language": "python",
   "name": "python3"
  },
  "language_info": {
   "codemirror_mode": {
    "name": "ipython",
    "version": 3
   },
   "file_extension": ".py",
   "mimetype": "text/x-python",
   "name": "python",
   "nbconvert_exporter": "python",
   "pygments_lexer": "ipython3",
   "version": "3.11.6"
  }
 },
 "nbformat": 4,
 "nbformat_minor": 2
}
