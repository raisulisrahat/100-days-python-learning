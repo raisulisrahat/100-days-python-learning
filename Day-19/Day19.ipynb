{
 "cells": [
  {
   "cell_type": "markdown",
   "metadata": {},
   "source": [
    "# Day 19"
   ]
  },
  {
   "cell_type": "markdown",
   "metadata": {},
   "source": [
    "#### Practising Day 15 to Day 17"
   ]
  },
  {
   "cell_type": "markdown",
   "metadata": {},
   "source": [
    "File Handling(Read, Write and Delete file), Constructor and Encapsulation, Exception Handling "
   ]
  },
  {
   "cell_type": "code",
   "execution_count": 1,
   "metadata": {},
   "outputs": [
    {
     "name": "stdout",
     "output_type": "stream",
     "text": [
      "Roll: roll\n",
      "Name: name\n",
      "Subject: sub\n",
      "\n",
      "Roll: 01\n",
      "Name: A\n",
      "Subject: Science\n",
      "\n",
      "Roll: 02\n",
      "Name: B\n",
      "Subject: Science\n",
      "\n",
      "Roll: 03\n",
      "Name: C\n",
      "Subject: Commerce\n",
      "\n",
      "Roll: 04\n",
      "Name: D\n",
      "Subject: Commerce\n",
      "\n",
      "Roll: 05\n",
      "Name: E\n",
      "Subject: Commerce\n",
      "\n",
      "Roll: 07\n",
      "Name: F\n",
      "Subject: Arts\n",
      "\n",
      "Roll: 08\n",
      "Name: G\n",
      "Subject: Arts\n",
      "\n",
      "Roll: 09\n",
      "Name: H\n",
      "Subject: Arts\n",
      "\n",
      "Roll: 10\n",
      "Name: I\n",
      "Subject: Science\n",
      "\n"
     ]
    }
   ],
   "source": [
    "import csv\n",
    "\n",
    "class Student:\n",
    "    def __init__(self, roll, name, sub):\n",
    "        self.roll = roll\n",
    "        self.name = name\n",
    "        self.sub = sub\n",
    "\n",
    "    def display(self):\n",
    "        print(\"Roll: %s\" % self.roll)\n",
    "        print(\"Name: %s\" % self.name)\n",
    "        print(\"Subject: %s\" % self.sub)\n",
    "        print()\n",
    "\n",
    "    def student_sheet():\n",
    "        try:\n",
    "            with open(\"students_sheet.csv\", \"r\") as file_sheet:\n",
    "                read_sheet = csv.reader(file_sheet)\n",
    "                for row in read_sheet:\n",
    "                    roll, name, sub = row\n",
    "                    student = Student(roll, name, sub)\n",
    "                    student.display()\n",
    "        except FileNotFoundError:\n",
    "            print(\"File not found\")\n",
    "        except Exception as e:\n",
    "            print(\"Something went wrong:\", e)\n",
    "\n",
    "Student.student_sheet()"
   ]
  }
 ],
 "metadata": {
  "kernelspec": {
   "display_name": "Python 3",
   "language": "python",
   "name": "python3"
  },
  "language_info": {
   "codemirror_mode": {
    "name": "ipython",
    "version": 3
   },
   "file_extension": ".py",
   "mimetype": "text/x-python",
   "name": "python",
   "nbconvert_exporter": "python",
   "pygments_lexer": "ipython3",
   "version": "3.11.4"
  },
  "orig_nbformat": 4
 },
 "nbformat": 4,
 "nbformat_minor": 2
}
