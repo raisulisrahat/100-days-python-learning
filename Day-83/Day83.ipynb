{
 "cells": [
  {
   "cell_type": "markdown",
   "metadata": {},
   "source": [
    "# Day 83"
   ]
  },
  {
   "cell_type": "markdown",
   "metadata": {},
   "source": [
    "#### Problem Solving Day 3"
   ]
  },
  {
   "cell_type": "code",
   "execution_count": null,
   "metadata": {},
   "outputs": [],
   "source": [
    "import os\n",
    "import subprocess\n",
    "\n",
    "# Configuration variables\n",
    "repository_url = \"https://github.com/raisulisrahat/Assignment-2.git\"\n",
    "web_app_directory = \"C:/Program Files (x86)/nginx/html\"\n",
    "app_service_name = \"nginx\"\n",
    "\n",
    "# Function to update the web application\n",
    "def update_web_app():\n",
    "    try:\n",
    "        # Change to the web application directory\n",
    "        os.chdir(web_app_directory)\n",
    "\n",
    "        # Pull the latest code from the Git repository\n",
    "        subprocess.call([\"git\", \"pull\"])\n",
    "\n",
    "        # Restart the application service (e.g., using systemd)\n",
    "        subprocess.call([\"systemctl\", \"restart\", app_service_name])\n",
    "\n",
    "        print(\"Deployment successful.\")\n",
    "    except Exception as e:\n",
    "        print(f\"Deployment error: {str(e)}\")\n",
    "\n",
    "if __name__ == \"__main__\":\n",
    "    update_web_app()"
   ]
  }
 ],
 "metadata": {
  "kernelspec": {
   "display_name": "Python 3",
   "language": "python",
   "name": "python3"
  },
  "language_info": {
   "codemirror_mode": {
    "name": "ipython",
    "version": 3
   },
   "file_extension": ".py",
   "mimetype": "text/x-python",
   "name": "python",
   "nbconvert_exporter": "python",
   "pygments_lexer": "ipython3",
   "version": "3.11.6"
  }
 },
 "nbformat": 4,
 "nbformat_minor": 2
}
