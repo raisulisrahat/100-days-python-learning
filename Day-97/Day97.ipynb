{
 "cells": [
  {
   "cell_type": "markdown",
   "metadata": {},
   "source": [
    "# Day 97"
   ]
  },
  {
   "cell_type": "markdown",
   "metadata": {},
   "source": [
    "#### DevOps Project Day 7"
   ]
  },
  {
   "cell_type": "code",
   "execution_count": 1,
   "metadata": {},
   "outputs": [],
   "source": [
    "import tkinter as tk\n",
    "from tkinter import messagebox\n",
    "\n",
    "def deploy():\n",
    "    # Add deployment logic here\n",
    "    messagebox.showinfo(\"Deployment\", \"Deployment initiated\")\n",
    "\n",
    "def scale():\n",
    "    # Add scaling logic here\n",
    "    messagebox.showinfo(\"Scaling\", \"Scaling initiated\")\n",
    "\n",
    "def monitor():\n",
    "    # Add monitoring logic here\n",
    "    messagebox.showinfo(\"Monitoring\", \"Monitoring initiated\")\n",
    "\n",
    "def main():\n",
    "    root = tk.Tk()\n",
    "    root.title(\"DevOps Tool\")\n",
    "\n",
    "    deploy_button = tk.Button(root, text=\"Deploy\", command=deploy)\n",
    "    deploy_button.pack()\n",
    "\n",
    "    scale_button = tk.Button(root, text=\"Scale\", command=scale)\n",
    "    scale_button.pack()\n",
    "\n",
    "    monitor_button = tk.Button(root, text=\"Monitor\", command=monitor)\n",
    "    monitor_button.pack()\n",
    "\n",
    "    root.mainloop()\n",
    "\n",
    "if __name__ == \"__main__\":\n",
    "    main()\n"
   ]
  }
 ],
 "metadata": {
  "kernelspec": {
   "display_name": "Python 3",
   "language": "python",
   "name": "python3"
  },
  "language_info": {
   "codemirror_mode": {
    "name": "ipython",
    "version": 3
   },
   "file_extension": ".py",
   "mimetype": "text/x-python",
   "name": "python",
   "nbconvert_exporter": "python",
   "pygments_lexer": "ipython3",
   "version": "3.11.6"
  }
 },
 "nbformat": 4,
 "nbformat_minor": 2
}
