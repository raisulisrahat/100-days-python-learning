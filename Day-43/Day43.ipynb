{
 "cells": [
  {
   "cell_type": "markdown",
   "metadata": {},
   "source": [
    "# Day 43"
   ]
  },
  {
   "cell_type": "markdown",
   "metadata": {},
   "source": [
    "#### Built-In OS modules"
   ]
  },
  {
   "cell_type": "code",
   "execution_count": 1,
   "metadata": {},
   "outputs": [
    {
     "name": "stdout",
     "output_type": "stream",
     "text": [
      "Your PID is: 7632\n",
      "Folder 'demo' created successfully.\n",
      "Your system information is: 1\n",
      "You are logged in as: risul\n"
     ]
    }
   ],
   "source": [
    "import os\n",
    "\n",
    "# Get and print the process ID (PID)\n",
    "pid = os.getpid()\n",
    "print(f\"Your PID is: {pid}\")\n",
    "\n",
    "# Create a folder with user input\n",
    "folder_name = input(\"Enter a folder name: \")\n",
    "os.mkdir(folder_name)\n",
    "print(f\"Folder '{folder_name}' created successfully.\")\n",
    "\n",
    "# Get and print the system information\n",
    "system_info = os.system('version')\n",
    "print(f\"Your system information is: {system_info}\")\n",
    "\n",
    "# Get and print the current login username\n",
    "login = os.getlogin()\n",
    "print(f\"You are logged in as: {login}\")"
   ]
  }
 ],
 "metadata": {
  "kernelspec": {
   "display_name": "Python 3",
   "language": "python",
   "name": "python3"
  },
  "language_info": {
   "codemirror_mode": {
    "name": "ipython",
    "version": 3
   },
   "file_extension": ".py",
   "mimetype": "text/x-python",
   "name": "python",
   "nbconvert_exporter": "python",
   "pygments_lexer": "ipython3",
   "version": "3.11.0"
  },
  "orig_nbformat": 4
 },
 "nbformat": 4,
 "nbformat_minor": 2
}
