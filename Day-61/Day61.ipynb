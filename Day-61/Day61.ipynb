{
 "cells": [
  {
   "cell_type": "markdown",
   "metadata": {},
   "source": [
    "# Day 61"
   ]
  },
  {
   "cell_type": "markdown",
   "metadata": {},
   "source": [
    "#### Pandas Built-In modules Day 1"
   ]
  },
  {
   "cell_type": "code",
   "execution_count": 1,
   "metadata": {},
   "outputs": [
    {
     "name": "stdout",
     "output_type": "stream",
     "text": [
      "a    1\n",
      "b    2\n",
      "c    3\n",
      "d    4\n",
      "dtype: int64\n",
      "a    1\n",
      "b    2\n",
      "dtype: int64\n",
      "      Name  Age\n",
      "i    Rahat   24\n",
      "ii     Opi   23\n",
      "iii  Sakib   25\n",
      "    Name  Age\n",
      "i  Rahat   24\n"
     ]
    }
   ],
   "source": [
    "import pandas as pd\n",
    "\n",
    "arr = [1,2,3,4]\n",
    "newarr = pd.Series(arr, index=['a','b','c','d'])\n",
    "print(newarr)\n",
    "\n",
    "print(newarr[['a', 'b']])\n",
    "\n",
    "data = {\n",
    "    'Name':['Rahat', 'Opi', 'Sakib'],\n",
    "    'Age':[24, 23, 25]\n",
    "}\n",
    "df = pd.DataFrame(data, index=['i', 'ii', 'iii'])\n",
    "print(df)\n",
    "\n",
    "print(df.loc[['i']])"
   ]
  }
 ],
 "metadata": {
  "kernelspec": {
   "display_name": "Python 3",
   "language": "python",
   "name": "python3"
  },
  "language_info": {
   "codemirror_mode": {
    "name": "ipython",
    "version": 3
   },
   "file_extension": ".py",
   "mimetype": "text/x-python",
   "name": "python",
   "nbconvert_exporter": "python",
   "pygments_lexer": "ipython3",
   "version": "3.11.5"
  },
  "orig_nbformat": 4
 },
 "nbformat": 4,
 "nbformat_minor": 2
}
