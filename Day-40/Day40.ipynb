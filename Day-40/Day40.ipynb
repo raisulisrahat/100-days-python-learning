{
 "cells": [
  {
   "cell_type": "markdown",
   "metadata": {},
   "source": [
    "# Day 40"
   ]
  },
  {
   "cell_type": "markdown",
   "metadata": {},
   "source": [
    "#### Practising Day 37 in python (Web Status Checker)"
   ]
  },
  {
   "cell_type": "code",
   "execution_count": 1,
   "metadata": {},
   "outputs": [],
   "source": [
    "import requests\n",
    "import tkinter as tk\n",
    "from tkinter import messagebox\n",
    "\n",
    "def check_status(url):\n",
    "    try:\n",
    "        response = requests.get(url)\n",
    "        if response.status_code == 200:\n",
    "            return \"is up\"\n",
    "        else:\n",
    "            return f\"is down with status code {response.status_code}\"\n",
    "    except requests.RequestException:\n",
    "        return \"could not be reached\"\n",
    "\n",
    "def check_button_click():\n",
    "    urls = url_text.get(\"1.0\", \"end-1c\").splitlines()\n",
    "    \n",
    "    if not urls:\n",
    "        messagebox.showwarning(\"No URLs\", \"Please enter at least one URL.\")\n",
    "        return\n",
    "    \n",
    "    results_text.delete(\"1.0\", \"end\")\n",
    "    \n",
    "    for url in urls:\n",
    "        status = check_status(url)\n",
    "        results_text.insert(\"end\", f\"{url} {status}\\n\")\n",
    "    \n",
    "    results_text.see(\"end\")\n",
    "\n",
    "# Create the main window\n",
    "root = tk.Tk()\n",
    "root.title(\"Website Status Checker\")\n",
    "\n",
    "# Create and pack GUI components\n",
    "url_label = tk.Label(root, text=\"Enter URLs (one per line):\")\n",
    "url_label.pack()\n",
    "\n",
    "url_text = tk.Text(root, height=5, width=40)\n",
    "url_text.pack()\n",
    "\n",
    "check_button = tk.Button(root, text=\"Check Status\", command=check_button_click)\n",
    "check_button.pack()\n",
    "\n",
    "results_label = tk.Label(root, text=\"Results:\")\n",
    "results_label.pack()\n",
    "\n",
    "results_text = tk.Text(root, height=10, width=40)\n",
    "results_text.pack()\n",
    "\n",
    "root.mainloop()"
   ]
  }
 ],
 "metadata": {
  "kernelspec": {
   "display_name": "Python 3",
   "language": "python",
   "name": "python3"
  },
  "language_info": {
   "codemirror_mode": {
    "name": "ipython",
    "version": 3
   },
   "file_extension": ".py",
   "mimetype": "text/x-python",
   "name": "python",
   "nbconvert_exporter": "python",
   "pygments_lexer": "ipython3",
   "version": "3.11.0"
  },
  "orig_nbformat": 4
 },
 "nbformat": 4,
 "nbformat_minor": 2
}
