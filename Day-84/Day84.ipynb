{
 "cells": [
  {
   "cell_type": "markdown",
   "metadata": {},
   "source": [
    "# Day 84"
   ]
  },
  {
   "cell_type": "markdown",
   "metadata": {},
   "source": [
    "#### Problem Solving Day 4"
   ]
  },
  {
   "cell_type": "code",
   "execution_count": 3,
   "metadata": {},
   "outputs": [
    {
     "name": "stdout",
     "output_type": "stream",
     "text": [
      "            Timestamp Log Level                               Message\n",
      "0 2023-10-15 10:20:30      INFO               This is an info message\n",
      "1 2023-10-15 10:25:45     ERROR  Error occurred: Something went wrong\n",
      "2 2023-10-15 10:30:15     DEBUG                         Debug message\n"
     ]
    }
   ],
   "source": [
    "import re\n",
    "import pandas as pd\n",
    "\n",
    "# Define the log entry format\n",
    "log_pattern = r'(\\d{4}-\\d{2}-\\d{2} \\d{2}:\\d{2}:\\d{2}) \\[(\\w+)\\] (.+)'\n",
    "\n",
    "# Create an empty list to store log data\n",
    "log_data = []\n",
    "\n",
    "# Open and read the log file\n",
    "with open('custom_log.txt', 'r') as log_file:\n",
    "    for line in log_file:\n",
    "        match = re.match(log_pattern, line)\n",
    "        if match:\n",
    "            timestamp, log_level, message = match.groups()\n",
    "            log_data.append([timestamp, log_level, message])\n",
    "\n",
    "# Create a Pandas DataFrame from the log data\n",
    "df = pd.DataFrame(log_data, columns=['Timestamp', 'Log Level', 'Message'])\n",
    "\n",
    "# Convert the 'Timestamp' column to datetime format\n",
    "df['Timestamp'] = pd.to_datetime(df['Timestamp'])\n",
    "\n",
    "# Print the DataFrame\n",
    "print(df)\n"
   ]
  }
 ],
 "metadata": {
  "kernelspec": {
   "display_name": "Python 3",
   "language": "python",
   "name": "python3"
  },
  "language_info": {
   "codemirror_mode": {
    "name": "ipython",
    "version": 3
   },
   "file_extension": ".py",
   "mimetype": "text/x-python",
   "name": "python",
   "nbconvert_exporter": "python",
   "pygments_lexer": "ipython3",
   "version": "3.11.6"
  }
 },
 "nbformat": 4,
 "nbformat_minor": 2
}
