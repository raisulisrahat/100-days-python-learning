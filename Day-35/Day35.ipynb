{
 "cells": [
  {
   "cell_type": "markdown",
   "metadata": {},
   "source": [
    "# Day 35"
   ]
  },
  {
   "cell_type": "markdown",
   "metadata": {},
   "source": [
    "#### Built-In Turtle modules in python"
   ]
  },
  {
   "cell_type": "code",
   "execution_count": null,
   "metadata": {},
   "outputs": [],
   "source": [
    "# Turtle\n",
    "from turtle import *\n",
    "\n",
    "for x in range(50):\n",
    "    for i in ('red', 'blue'):\n",
    "        color(i)\n",
    "        forward(x)\n",
    "        right(30)"
   ]
  },
  {
   "cell_type": "code",
   "execution_count": null,
   "metadata": {},
   "outputs": [],
   "source": [
    "# Turtle and Random\n",
    "from turtle import Turtle\n",
    "from random import *\n",
    "\n",
    "t = Turtle()\n",
    "for i in range(100):\n",
    "    step = int(random() * 100)\n",
    "    angle = int(random() * 360)\n",
    "    t.right(angle)\n",
    "    t.fd(step)\n",
    "\n",
    "t.screen.mainloop()"
   ]
  }
 ],
 "metadata": {
  "kernelspec": {
   "display_name": "Python 3",
   "language": "python",
   "name": "python3"
  },
  "language_info": {
   "codemirror_mode": {
    "name": "ipython",
    "version": 3
   },
   "file_extension": ".py",
   "mimetype": "text/x-python",
   "name": "python",
   "nbconvert_exporter": "python",
   "pygments_lexer": "ipython3",
   "version": "3.11.0"
  },
  "orig_nbformat": 4
 },
 "nbformat": 4,
 "nbformat_minor": 2
}
