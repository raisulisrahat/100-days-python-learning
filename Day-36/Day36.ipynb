{
 "cells": [
  {
   "cell_type": "markdown",
   "metadata": {},
   "source": [
    "# Day 36"
   ]
  },
  {
   "cell_type": "markdown",
   "metadata": {},
   "source": [
    "#### Built-in Sys Modules"
   ]
  },
  {
   "cell_type": "code",
   "execution_count": null,
   "metadata": {},
   "outputs": [],
   "source": [
    "import sys\n",
    "\n",
    "for line in sys.stdin:\n",
    "    line = line.rstrip()  # Remove newline character from the input line\n",
    "    if 'q' == line:\n",
    "        break\n",
    "    sys.stdout.write(f'Input: {line}\\n')  # Fix the newline character escape sequence\n",
    "    sys.stdout.flush()  # Correct the function call\n",
    "\n",
    "else:\n",
    "    sys.stderr.write(\"Error\\n\")  # Correct the function call\n",
    "\n",
    "print(\"Exit\")"
   ]
  }
 ],
 "metadata": {
  "kernelspec": {
   "display_name": "Python 3",
   "language": "python",
   "name": "python3"
  },
  "language_info": {
   "name": "python",
   "version": "3.11.0"
  },
  "orig_nbformat": 4
 },
 "nbformat": 4,
 "nbformat_minor": 2
}
