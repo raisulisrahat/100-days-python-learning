{
 "cells": [
  {
   "cell_type": "markdown",
   "metadata": {},
   "source": [
    "# Day 3"
   ]
  },
  {
   "cell_type": "markdown",
   "metadata": {},
   "source": [
    "# String type"
   ]
  },
  {
   "cell_type": "markdown",
   "metadata": {},
   "source": [
    "Hare I am showing python strings"
   ]
  },
  {
   "cell_type": "markdown",
   "metadata": {},
   "source": [
    "string example:"
   ]
  },
  {
   "cell_type": "code",
   "execution_count": null,
   "metadata": {},
   "outputs": [],
   "source": [
    "print(\"Hello World!\")"
   ]
  },
  {
   "cell_type": "markdown",
   "metadata": {},
   "source": [
    "Assing with veriable with strings:"
   ]
  },
  {
   "cell_type": "code",
   "execution_count": null,
   "metadata": {},
   "outputs": [],
   "source": [
    "a = \"Hello World!\"\n",
    "print(a)"
   ]
  },
  {
   "cell_type": "markdown",
   "metadata": {},
   "source": [
    "Multi string with a variable:"
   ]
  },
  {
   "cell_type": "code",
   "execution_count": null,
   "metadata": {},
   "outputs": [],
   "source": [
    "a = \"\"\"Lorem ipsum dolor sit amet consectetur adipisicing elit. Maxime mollitia,\n",
    "molestiae quas vel sint commodi repudiandae consequuntur\"\"\"\n",
    "print(a)"
   ]
  },
  {
   "cell_type": "markdown",
   "metadata": {},
   "source": [
    "# Condition if, elif and else"
   ]
  },
  {
   "cell_type": "markdown",
   "metadata": {},
   "source": [
    "Here I am showing python conditions.\n",
    "\n",
    "if conditions:\n",
    "```\n",
    "a = 10\n",
    "b = 7\n",
    "if a > b:\n",
    "    print(\"a is greater than b\")\n",
    "```\n",
    "\n",
    "elif conditions:\n",
    "```\n",
    "a = 10\n",
    "b = 7\n",
    "if a < b:\n",
    "    print(\"a is less than b\")\n",
    "elif b < a:\n",
    "    print(\"b is less than a\")\n",
    "```\n",
    "else conditions:\n",
    "```\n",
    "a = 10\n",
    "b = 7\n",
    "if a == b:\n",
    "    print(\"a equal b\")\n",
    "elif b == a:\n",
    "    print(\"b equal a\")\n",
    "else:\n",
    "    print(\"a and b are different\")\n",
    "```"
   ]
  }
 ],
 "metadata": {
  "kernelspec": {
   "display_name": "Python 3",
   "language": "python",
   "name": "python3"
  },
  "language_info": {
   "name": "python",
   "version": "3.11.0"
  },
  "orig_nbformat": 4
 },
 "nbformat": 4,
 "nbformat_minor": 2
}
