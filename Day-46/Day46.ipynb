{
 "cells": [
  {
   "cell_type": "markdown",
   "metadata": {},
   "source": [
    "# Day 46"
   ]
  },
  {
   "cell_type": "markdown",
   "metadata": {},
   "source": [
    "#### Practising Day 41 in python (Task Manager)"
   ]
  },
  {
   "cell_type": "code",
   "execution_count": 1,
   "metadata": {},
   "outputs": [
    {
     "name": "stdout",
     "output_type": "stream",
     "text": [
      "Welcome to the Task Manager!\n",
      "\n",
      "Menu:\n",
      "1. Add a new task\n",
      "2. List all tasks\n",
      "3. Exit\n",
      "New Task Added.\n",
      "\n",
      "Menu:\n",
      "1. Add a new task\n",
      "2. List all tasks\n",
      "3. Exit\n",
      "New Task Added.\n",
      "\n",
      "Menu:\n",
      "1. Add a new task\n",
      "2. List all tasks\n",
      "3. Exit\n",
      "New Task Added.\n",
      "\n",
      "Menu:\n",
      "1. Add a new task\n",
      "2. List all tasks\n",
      "3. Exit\n",
      "Tasks:\n",
      "1, Description: Creating a new task for practising Day 41, Status: Not Completed\n",
      "2, Description: Testing Day 46 Task, Status: Not Completed\n",
      "3, Description:  Uploading on the Github repo, Status: Not Completed\n",
      "\n",
      "Menu:\n",
      "1. Add a new task\n",
      "2. List all tasks\n",
      "3. Exit\n",
      "Tasks:\n",
      "1, Description: Creating a new task for practising Day 41, Status: Not Completed\n",
      "2, Description: Testing Day 46 Task, Status: Not Completed\n",
      "3, Description:  Uploading on the Github repo, Status: Not Completed\n",
      "\n",
      "Menu:\n",
      "1. Add a new task\n",
      "2. List all tasks\n",
      "3. Exit\n",
      "Exiting the Task Manager.\n"
     ]
    }
   ],
   "source": [
    "import yaml\n",
    "\n",
    "class Task:\n",
    "    def __init__(self, description, completed=False):\n",
    "        self.description = description\n",
    "        self.completed = completed\n",
    "\n",
    "def taskLoad():\n",
    "    try:\n",
    "        with open('Task.yaml', 'r') as file:\n",
    "            return yaml.safe_load(file) or []\n",
    "    except FileNotFoundError:\n",
    "        return []\n",
    "\n",
    "def taskSave(tasks):\n",
    "    with open('Task.yaml', 'w') as file:\n",
    "        yaml.dump(tasks, file)\n",
    "\n",
    "def main():\n",
    "    print('Welcome to the Task Manager!')\n",
    "    \n",
    "    tasks = taskLoad()\n",
    "\n",
    "    while True:\n",
    "        print(\"\\nMenu:\")\n",
    "        print(\"1. Add a new task\")\n",
    "        print(\"2. List all tasks\")\n",
    "        print(\"3. Exit\")\n",
    "\n",
    "        choice = input(\"Enter your choice: \")\n",
    "\n",
    "        if choice == '1':\n",
    "            description = input(\"Enter your task description: \")\n",
    "            newTask = Task(description)\n",
    "            tasks.append(newTask)\n",
    "            taskSave(tasks)\n",
    "            print(\"New Task Added.\")\n",
    "        elif choice == '2':\n",
    "            if not tasks:\n",
    "                print(\"No Task Found.\")\n",
    "            else:\n",
    "                print(\"Tasks:\")\n",
    "                for idx, task in enumerate(tasks, start=1):\n",
    "                    status = 'Completed' if task.completed else 'Not Completed'\n",
    "                    print(f\"{idx}, Description: {task.description}, Status: {status}\")\n",
    "        elif choice == '3':\n",
    "            print(\"Exiting the Task Manager.\")\n",
    "            break\n",
    "        else:\n",
    "            print(\"Invalid choice. Please enter a valid option\")\n",
    "\n",
    "if __name__ == \"__main__\":\n",
    "    main()\n"
   ]
  }
 ],
 "metadata": {
  "kernelspec": {
   "display_name": "Python 3",
   "language": "python",
   "name": "python3"
  },
  "language_info": {
   "codemirror_mode": {
    "name": "ipython",
    "version": 3
   },
   "file_extension": ".py",
   "mimetype": "text/x-python",
   "name": "python",
   "nbconvert_exporter": "python",
   "pygments_lexer": "ipython3",
   "version": "3.11.0"
  },
  "orig_nbformat": 4
 },
 "nbformat": 4,
 "nbformat_minor": 2
}
