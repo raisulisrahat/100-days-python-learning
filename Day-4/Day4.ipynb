{
 "cells": [
  {
   "cell_type": "markdown",
   "metadata": {},
   "source": [
    "# Day 4"
   ]
  },
  {
   "cell_type": "markdown",
   "metadata": {},
   "source": [
    "### List in python"
   ]
  },
  {
   "cell_type": "code",
   "execution_count": 15,
   "metadata": {},
   "outputs": [
    {
     "name": "stdout",
     "output_type": "stream",
     "text": [
      "['apple', 'banana', 'mango', 'malon', 'orange', 'kiwi', 'cherry']\n"
     ]
    }
   ],
   "source": [
    "fruitsList = [\"apple\", \"banana\", \"mango\", \"malon\", \"orange\", \"kiwi\", \"cherry\"]\n",
    "print(fruitsList)   # printing fruitslist"
   ]
  },
  {
   "cell_type": "markdown",
   "metadata": {},
   "source": [
    "List length"
   ]
  },
  {
   "cell_type": "code",
   "execution_count": 16,
   "metadata": {},
   "outputs": [
    {
     "name": "stdout",
     "output_type": "stream",
     "text": [
      "7\n"
     ]
    }
   ],
   "source": [
    "print(len(fruitsList))  # Counting item list length "
   ]
  },
  {
   "cell_type": "markdown",
   "metadata": {},
   "source": [
    "Access list item"
   ]
  },
  {
   "cell_type": "code",
   "execution_count": 17,
   "metadata": {},
   "outputs": [
    {
     "name": "stdout",
     "output_type": "stream",
     "text": [
      "banana\n"
     ]
    }
   ],
   "source": [
    "print(fruitsList[1])    # Item list call only 1"
   ]
  },
  {
   "cell_type": "markdown",
   "metadata": {},
   "source": [
    "Negative item"
   ]
  },
  {
   "cell_type": "code",
   "execution_count": 18,
   "metadata": {},
   "outputs": [
    {
     "name": "stdout",
     "output_type": "stream",
     "text": [
      "cherry\n"
     ]
    }
   ],
   "source": [
    "print(fruitsList[-1])   # Negative indexing means starting from the end of the list."
   ]
  },
  {
   "cell_type": "markdown",
   "metadata": {},
   "source": [
    "Range of Indexes\n"
   ]
  },
  {
   "cell_type": "code",
   "execution_count": 19,
   "metadata": {},
   "outputs": [
    {
     "name": "stdout",
     "output_type": "stream",
     "text": [
      "['orange', 'kiwi', 'cherry']\n",
      "['apple', 'banana', 'mango', 'malon', 'orange']\n",
      "['malon', 'orange']\n",
      "['malon', 'orange', 'kiwi']\n"
     ]
    }
   ],
   "source": [
    "print(fruitsList[4:]) # collect list item 0 to 4\n",
    "print(fruitsList[:5])   # collect list item 0 to 4 and item 5 not included\n",
    "print(fruitsList[3:5])  # collect list item 3 to 4 and item 5 not included\n",
    "print(fruitsList[-4:-1])    # items from index -4 (included) to index -1 (excluded)"
   ]
  },
  {
   "cell_type": "markdown",
   "metadata": {},
   "source": [
    "# Sets in Python"
   ]
  },
  {
   "cell_type": "code",
   "execution_count": 20,
   "metadata": {},
   "outputs": [
    {
     "name": "stdout",
     "output_type": "stream",
     "text": [
      "{'apple', 'cherry', 'malon', 'kiwi', 'mango', 'banana', 'orange'}\n"
     ]
    }
   ],
   "source": [
    "fruitsset = {\"apple\", \"banana\", \"mango\", \"malon\", \"orange\", \"kiwi\", \"cherry\"}\n",
    "# itemCall     0        1         2        3        4         5       6\n",
    "print(fruitsset)   # printing fruitsset"
   ]
  },
  {
   "cell_type": "markdown",
   "metadata": {},
   "source": [
    "Set length"
   ]
  },
  {
   "cell_type": "code",
   "execution_count": 21,
   "metadata": {},
   "outputs": [
    {
     "name": "stdout",
     "output_type": "stream",
     "text": [
      "7\n"
     ]
    }
   ],
   "source": [
    "print(len(fruitsset))  # Counting item set length"
   ]
  },
  {
   "cell_type": "markdown",
   "metadata": {},
   "source": [
    "Add iteam"
   ]
  },
  {
   "cell_type": "code",
   "execution_count": 22,
   "metadata": {},
   "outputs": [
    {
     "name": "stdout",
     "output_type": "stream",
     "text": [
      "{'apple', 'cherry', 'malon', 'kiwi', 'mango', 'banana', 'orange', 'Stoberry'}\n"
     ]
    }
   ],
   "source": [
    "fruitsset.add(\"Stoberry\")\n",
    "print(fruitsset)"
   ]
  },
  {
   "cell_type": "markdown",
   "metadata": {},
   "source": [
    "# Tuples in python"
   ]
  },
  {
   "cell_type": "code",
   "execution_count": 23,
   "metadata": {},
   "outputs": [
    {
     "name": "stdout",
     "output_type": "stream",
     "text": [
      "('apple', 'banana', 'mango', 'malon', 'orange', 'kiwi', 'cherry')\n"
     ]
    }
   ],
   "source": [
    "fruitstuples = (\"apple\", \"banana\", \"mango\", \"malon\", \"orange\", \"kiwi\", \"cherry\")\n",
    "# itemCall     0        1         2        3        4         5       6\n",
    "print(fruitstuples)   # printing fruitstuples"
   ]
  },
  {
   "cell_type": "markdown",
   "metadata": {},
   "source": [
    "Tuples length"
   ]
  },
  {
   "cell_type": "code",
   "execution_count": 24,
   "metadata": {},
   "outputs": [
    {
     "name": "stdout",
     "output_type": "stream",
     "text": [
      "7\n"
     ]
    }
   ],
   "source": [
    "print(len(fruitstuples))  # Counting item Tuples length"
   ]
  },
  {
   "cell_type": "markdown",
   "metadata": {},
   "source": [
    "Update iteam"
   ]
  },
  {
   "cell_type": "code",
   "execution_count": 25,
   "metadata": {},
   "outputs": [
    {
     "name": "stdout",
     "output_type": "stream",
     "text": [
      "('apple', 'banana', 'mango', 'malon', 'orange', 'kiwi', 'cherry', 'Stoberry')\n"
     ]
    }
   ],
   "source": [
    "fruit = (\"Stoberry\",)\n",
    "fruitstuples += fruit\n",
    "print(fruitstuples)"
   ]
  }
 ],
 "metadata": {
  "kernelspec": {
   "display_name": "Python 3",
   "language": "python",
   "name": "python3"
  },
  "language_info": {
   "codemirror_mode": {
    "name": "ipython",
    "version": 3
   },
   "file_extension": ".py",
   "mimetype": "text/x-python",
   "name": "python",
   "nbconvert_exporter": "python",
   "pygments_lexer": "ipython3",
   "version": "3.11.0"
  },
  "orig_nbformat": 4
 },
 "nbformat": 4,
 "nbformat_minor": 2
}
