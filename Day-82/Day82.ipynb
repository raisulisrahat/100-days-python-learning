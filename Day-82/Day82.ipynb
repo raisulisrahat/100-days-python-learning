{
 "cells": [
  {
   "cell_type": "markdown",
   "metadata": {},
   "source": [
    "# Day 82"
   ]
  },
  {
   "cell_type": "markdown",
   "metadata": {},
   "source": [
    "#### Problem Solving Day 2"
   ]
  },
  {
   "cell_type": "code",
   "execution_count": 1,
   "metadata": {},
   "outputs": [],
   "source": [
    "from locust import HttpUser, task, between\n",
    "\n",
    "class MyUser(HttpUser):\n",
    "    wait_time = between(1, 5)  # Wait time between tasks in seconds\n",
    "\n",
    "    @task\n",
    "    def my_task(self):\n",
    "        self.client.get(\"/\")  # Replace with the URL you want to test\n",
    "\n",
    "    # You can add more tasks to simulate different user interactions\n",
    "\n",
    "if __name__ == '__main__':\n",
    "    import os\n",
    "    import time\n",
    "    from locust import events, runners\n",
    "\n",
    "    # Define the number of users and hatch rate for the test\n",
    "    num_users = int(os.environ.get(\"LOCUST_NUM_USERS\", 10))\n",
    "    hatch_rate = int(os.environ.get(\"LOCUST_HATCH_RATE\", 2))\n",
    "\n",
    "    # Start the Locust runner with the desired user count and hatch rate\n",
    "    runner = runners.locust_runner\n",
    "    runner.start(user_count=num_users, hatch_rate=hatch_rate)\n",
    "\n",
    "    # Run the load test for a specified duration (in seconds)\n",
    "    test_duration = int(os.environ.get(\"LOCUST_TEST_DURATION\", 60))\n",
    "    time.sleep(test_duration)\n",
    "\n",
    "    # Stop the Locust runner\n",
    "    runner.quit()"
   ]
  }
 ],
 "metadata": {
  "kernelspec": {
   "display_name": "Python 3",
   "language": "python",
   "name": "python3"
  },
  "language_info": {
   "codemirror_mode": {
    "name": "ipython",
    "version": 3
   },
   "file_extension": ".py",
   "mimetype": "text/x-python",
   "name": "python",
   "nbconvert_exporter": "python",
   "pygments_lexer": "ipython3",
   "version": "3.11.6"
  }
 },
 "nbformat": 4,
 "nbformat_minor": 2
}
