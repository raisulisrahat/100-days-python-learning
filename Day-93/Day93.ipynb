{
 "cells": [
  {
   "cell_type": "markdown",
   "metadata": {},
   "source": [
    "# Day 93"
   ]
  },
  {
   "cell_type": "markdown",
   "metadata": {},
   "source": [
    "#### DevOps Project Day 3"
   ]
  },
  {
   "cell_type": "code",
   "execution_count": 8,
   "metadata": {},
   "outputs": [
    {
     "name": "stdout",
     "output_type": "stream",
     "text": [
      "Drift detected in Nginx configuration:\n",
      "+ b\n",
      "- server {\n",
      "\n",
      "-     listen                  80;\n",
      "\n",
      "-     listen                  [::]:80;\n",
      "\n",
      "-     server_name             www.example.com;\n",
      "\n",
      "-     set                     $base /home/webserver;\n",
      "\n",
      "-     root                    $base/public_html;\n",
      "\n",
      "- \n",
      "\n",
      "-     # logging\n",
      "\n",
      "-     access_log              /var/log/nginx/access.log combined buffer=512k flush=1m;\n",
      "\n",
      "-     error_log               /var/log/nginx/error.log warn;\n",
      "\n",
      "- \n",
      "\n",
      "-     # index.php\n",
      "\n",
      "-     index                   index.html index.php;\n",
      "\n",
      "- \n",
      "\n",
      "-     # index.php fallback\n",
      "\n",
      "-     location / {\n",
      "\n",
      "-         try_files $uri $uri/ /index.php?$query_string;\n",
      "\n",
      "-     }\n",
      "\n",
      "- \n",
      "\n",
      "-     # handle .php\n",
      "\n",
      "-     location ~ \\.php$ {\n",
      "\n",
      "-         fastcgi_pass unix:/var/run/php/php-fpm.sock;\n",
      "\n",
      "-     }\n",
      "\n",
      "- }\n"
     ]
    }
   ],
   "source": [
    "import difflib\n",
    "\n",
    "nginx_server_conf = \"server.conf\"\n",
    "\n",
    "with open(nginx_server_conf, 'r') as files:\n",
    "    server_contents = files.readlines()\n",
    "\n",
    "differ = difflib.Differ()\n",
    "diff = list(differ.compare(server_contents, 'b'))\n",
    "\n",
    "df = any(line.startswith('- ') or line.startswith('+ ') for line in diff)\n",
    "\n",
    "if df:\n",
    "    print(\"Drift detected in Nginx configuration:\")\n",
    "    for line in diff:\n",
    "        if line.startswith('- ') or line.startswith('+ '):\n",
    "            print(line)\n",
    "\n",
    "else:\n",
    "    print(\"No configuration drift detected in Nginx configuration.\")"
   ]
  }
 ],
 "metadata": {
  "kernelspec": {
   "display_name": "Python 3",
   "language": "python",
   "name": "python3"
  },
  "language_info": {
   "codemirror_mode": {
    "name": "ipython",
    "version": 3
   },
   "file_extension": ".py",
   "mimetype": "text/x-python",
   "name": "python",
   "nbconvert_exporter": "python",
   "pygments_lexer": "ipython3",
   "version": "3.11.6"
  }
 },
 "nbformat": 4,
 "nbformat_minor": 2
}
