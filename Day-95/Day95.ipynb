{
 "cells": [
  {
   "cell_type": "markdown",
   "metadata": {},
   "source": [
    "# Day 95"
   ]
  },
  {
   "cell_type": "markdown",
   "metadata": {},
   "source": [
    "#### DevOsps Project Day 5"
   ]
  },
  {
   "cell_type": "code",
   "execution_count": null,
   "metadata": {},
   "outputs": [],
   "source": [
    "from flask import Flask, render_template\n",
    "\n",
    "app = Flask(__name__)\n",
    "\n",
    "# Mock data (replace with real data sources)\n",
    "data = {\n",
    "    'server1': {\n",
    "        'cpu_usage': 80,\n",
    "        'memory_usage': 60,\n",
    "    },\n",
    "    'server2': {\n",
    "        'cpu_usage': 45,\n",
    "        'memory_usage': 75,\n",
    "    },\n",
    "    # Add more servers and metrics as needed\n",
    "}\n",
    "\n",
    "@app.route('/')\n",
    "def dashboard():\n",
    "    return render_template('dashboard.html', data=data)\n",
    "\n",
    "if __name__ == '__main__':\n",
    "    app.run(debug=True)\n"
   ]
  }
 ],
 "metadata": {
  "kernelspec": {
   "display_name": "Python 3",
   "language": "python",
   "name": "python3"
  },
  "language_info": {
   "codemirror_mode": {
    "name": "ipython",
    "version": 3
   },
   "file_extension": ".py",
   "mimetype": "text/x-python",
   "name": "python",
   "nbconvert_exporter": "python",
   "pygments_lexer": "ipython3",
   "version": "3.11.6"
  }
 },
 "nbformat": 4,
 "nbformat_minor": 2
}
