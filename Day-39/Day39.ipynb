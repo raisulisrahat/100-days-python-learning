{
 "cells": [
  {
   "cell_type": "markdown",
   "metadata": {},
   "source": [
    "# Day 39"
   ]
  },
  {
   "cell_type": "markdown",
   "metadata": {},
   "source": [
    "#### Practising Day 35 in python (Turtle Clock)"
   ]
  },
  {
   "cell_type": "code",
   "execution_count": 1,
   "metadata": {},
   "outputs": [],
   "source": [
    "import turtle\n",
    "import datetime\n",
    "\n",
    "# Initialize Turtle settings\n",
    "myPen = turtle.Turtle()\n",
    "myPen.shape(\"arrow\")\n",
    "myPen.speed(0)\n",
    "myPen.penup()\n",
    "\n",
    "# Get current time\n",
    "current_time = datetime.datetime.now()\n",
    "current_hour = current_time.hour\n",
    "current_minute = current_time.minute\n",
    "\n",
    "# Draw clock face\n",
    "myPen.goto(0, -180)\n",
    "myPen.color(\"blue\")\n",
    "myPen.pendown()\n",
    "myPen.circle(180)\n",
    "\n",
    "# Draw hour hand\n",
    "myPen.color(\"red\")\n",
    "myPen.goto(0, 0)\n",
    "myPen.setheading(90)  # Point to the top - 12 o'clock\n",
    "myPen.right(current_hour * 360 / 12)\n",
    "myPen.pendown()\n",
    "myPen.forward(100)\n",
    "\n",
    "# Draw minute hand\n",
    "myPen.penup()\n",
    "myPen.goto(0, 0)\n",
    "myPen.setheading(90)  # Point to the top - 0 minute\n",
    "myPen.right(current_minute * 360 / 60)\n",
    "myPen.pendown()\n",
    "myPen.forward(150)\n",
    "\n",
    "# Hide the turtle and display the clock\n",
    "myPen.hideturtle()\n",
    "turtle.done()\n"
   ]
  }
 ],
 "metadata": {
  "kernelspec": {
   "display_name": "Python 3",
   "language": "python",
   "name": "python3"
  },
  "language_info": {
   "codemirror_mode": {
    "name": "ipython",
    "version": 3
   },
   "file_extension": ".py",
   "mimetype": "text/x-python",
   "name": "python",
   "nbconvert_exporter": "python",
   "pygments_lexer": "ipython3",
   "version": "3.11.0"
  },
  "orig_nbformat": 4
 },
 "nbformat": 4,
 "nbformat_minor": 2
}
