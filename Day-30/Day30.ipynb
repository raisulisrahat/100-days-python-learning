{
 "cells": [
  {
   "cell_type": "markdown",
   "metadata": {},
   "source": [
    "# Day 30"
   ]
  },
  {
   "cell_type": "markdown",
   "metadata": {},
   "source": [
    "#### Practising Day 25 in python (Gussing Game)"
   ]
  },
  {
   "cell_type": "code",
   "execution_count": 1,
   "metadata": {},
   "outputs": [
    {
     "name": "stdout",
     "output_type": "stream",
     "text": [
      "Welcome to the Coin Flip Game!\n",
      "The coin landed on: Tails\n",
      "Sorry! Your guess was incorrect.\n",
      "Thanks for playing!\n"
     ]
    }
   ],
   "source": [
    "import random\n",
    "\n",
    "def coin_flip():\n",
    "    return random.choice([\"Heads\", \"Tails\"])\n",
    "\n",
    "def game():\n",
    "    print(\"Welcome to the Coin Flip Game!\")\n",
    "\n",
    "    while True:\n",
    "        user_guess = input(\"Guess heads or tails: \").capitalize()\n",
    "\n",
    "        if user_guess not in [\"Heads\", \"Tails\"]:\n",
    "            print(\"Invalid guess. Please enter 'Heads' or 'Tails'.\")\n",
    "            continue\n",
    "\n",
    "        result = coin_flip()\n",
    "\n",
    "        print(f\"The coin landed on: {result}\")\n",
    "\n",
    "        if user_guess == result:\n",
    "            print(\"Congratulations! Your guess was correct.\")\n",
    "        else:\n",
    "            print(\"Sorry! Your guess was incorrect.\")\n",
    "\n",
    "        play_again = input(\"Do you want to play again? (yes/no): \").lower()\n",
    "\n",
    "        if play_again != 'yes':\n",
    "            print(\"Thanks for playing!\")\n",
    "            break\n",
    "game()"
   ]
  }
 ],
 "metadata": {
  "kernelspec": {
   "display_name": "Python 3",
   "language": "python",
   "name": "python3"
  },
  "language_info": {
   "codemirror_mode": {
    "name": "ipython",
    "version": 3
   },
   "file_extension": ".py",
   "mimetype": "text/x-python",
   "name": "python",
   "nbconvert_exporter": "python",
   "pygments_lexer": "ipython3",
   "version": "3.11.0"
  },
  "orig_nbformat": 4
 },
 "nbformat": 4,
 "nbformat_minor": 2
}
