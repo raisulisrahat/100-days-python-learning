{
 "cells": [
  {
   "cell_type": "markdown",
   "metadata": {},
   "source": [
    "# Day 9"
   ]
  },
  {
   "cell_type": "markdown",
   "metadata": {},
   "source": [
    "#### Practising Day 1 to Day 4"
   ]
  },
  {
   "cell_type": "markdown",
   "metadata": {},
   "source": [
    "| 1 | Print, Input and variable\n",
    "| 2 | Data types and Operators \n",
    "| 3 | String and Condition \n",
    "| 4 | Lists, Sets and Tuples"
   ]
  },
  {
   "cell_type": "code",
   "execution_count": 1,
   "metadata": {},
   "outputs": [],
   "source": [
    "# List\n",
    "myList = [\"Hello\", 15.5, 47, \"Rahat\", 4.6, True, False, 24, \"Age\", 41]\n"
   ]
  },
  {
   "cell_type": "code",
   "execution_count": 2,
   "metadata": {},
   "outputs": [
    {
     "name": "stdout",
     "output_type": "stream",
     "text": [
      "{False, 'Rahat', True, 4.6, 41, 'Age', 47, 15.5, 24, 'Hello'}\n"
     ]
    }
   ],
   "source": [
    "# convert with set\n",
    "x = set(myList)\n",
    "print(x)"
   ]
  },
  {
   "cell_type": "code",
   "execution_count": 3,
   "metadata": {},
   "outputs": [
    {
     "name": "stdout",
     "output_type": "stream",
     "text": [
      "(False, 'Rahat', True, 4.6, 41, 'Age', 47, 15.5, 24, 'Hello')\n"
     ]
    }
   ],
   "source": [
    "# convert with tuple\n",
    "myTuple = tuple(x)\n",
    "print(myTuple)"
   ]
  },
  {
   "cell_type": "code",
   "execution_count": 4,
   "metadata": {},
   "outputs": [
    {
     "name": "stdout",
     "output_type": "stream",
     "text": [
      "['Rahat', 'Age', 'Hello']\n"
     ]
    }
   ],
   "source": [
    "# Find only string\n",
    "string_list = []\n",
    "for item in myTuple:\n",
    "    if isinstance(item, str):\n",
    "        string_list.append(item)\n",
    "\n",
    "print(string_list)"
   ]
  },
  {
   "cell_type": "code",
   "execution_count": 5,
   "metadata": {},
   "outputs": [
    {
     "name": "stdout",
     "output_type": "stream",
     "text": [
      "[False, True, 41, 47, 24]\n"
     ]
    }
   ],
   "source": [
    "# Find only Integer\n",
    "integer_list = []\n",
    "for item in myTuple:\n",
    "    if isinstance(item, int):\n",
    "        integer_list.append(item)\n",
    "\n",
    "print(integer_list)"
   ]
  },
  {
   "cell_type": "code",
   "execution_count": 6,
   "metadata": {},
   "outputs": [
    {
     "name": "stdout",
     "output_type": "stream",
     "text": [
      "[False, True]\n"
     ]
    }
   ],
   "source": [
    "# Find only bool\n",
    "bool_list = []\n",
    "for item in myTuple:\n",
    "    if isinstance(item, bool):\n",
    "        bool_list.append(item)\n",
    "\n",
    "print(bool_list)"
   ]
  },
  {
   "cell_type": "code",
   "execution_count": 7,
   "metadata": {},
   "outputs": [
    {
     "name": "stdout",
     "output_type": "stream",
     "text": [
      "[4.6, 15.5]\n"
     ]
    }
   ],
   "source": [
    "# Find only float\n",
    "float_list = []\n",
    "for item in myTuple:\n",
    "    if isinstance(item, float):\n",
    "        float_list.append(item)\n",
    "\n",
    "print(float_list)"
   ]
  }
 ],
 "metadata": {
  "kernelspec": {
   "display_name": "Python 3",
   "language": "python",
   "name": "python3"
  },
  "language_info": {
   "codemirror_mode": {
    "name": "ipython",
    "version": 3
   },
   "file_extension": ".py",
   "mimetype": "text/x-python",
   "name": "python",
   "nbconvert_exporter": "python",
   "pygments_lexer": "ipython3",
   "version": "3.11.0"
  },
  "orig_nbformat": 4
 },
 "nbformat": 4,
 "nbformat_minor": 2
}
