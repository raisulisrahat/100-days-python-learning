{
 "cells": [
  {
   "cell_type": "markdown",
   "metadata": {},
   "source": [
    "# Day 38"
   ]
  },
  {
   "cell_type": "markdown",
   "metadata": {},
   "source": [
    "#### Practising Day 32 to Day 34 in python (GUI Calculator)"
   ]
  },
  {
   "cell_type": "code",
   "execution_count": 1,
   "metadata": {},
   "outputs": [],
   "source": [
    "from tkinter import *\n",
    "from tkinter.ttk import *\n",
    "\n",
    "class Calculator(Frame):\n",
    "    def __init__(self, gui):\n",
    "        super().__init__(gui)\n",
    "        self.gui = gui\n",
    "        self.gui.configure(background=\"light blue\")\n",
    "        self.gui.title(\"GUI Calculator\")\n",
    "        self.gui.geometry(\"340x240\")\n",
    "        self.equation = StringVar()\n",
    "        self.expression_field = Entry(self.gui, textvariable=self.equation)\n",
    "        self.expression_field.grid(column=4, ipadx=70)\n",
    "\n",
    "        self.style = Style()\n",
    "        self.style.configure(\"TButton\", foreground=\"black\", background=\"red\")\n",
    "\n",
    "        self.create_buttons()\n",
    "\n",
    "    def press(self, num):\n",
    "        ex = self.equation.get() + str(num)\n",
    "        self.equation.set(ex)\n",
    "\n",
    "    def equalpress(self):\n",
    "        try:\n",
    "            total = str(eval(self.equation.get()))\n",
    "            self.equation.set(total)\n",
    "        except:\n",
    "            self.equation.set(\"error\")\n",
    "\n",
    "    def clear(self):\n",
    "        self.equation.set(\"\")\n",
    "\n",
    "    def create_buttons(self):\n",
    "        buttons = [\n",
    "            '7', '8', '9', '/',\n",
    "            '4', '5', '6', '*',\n",
    "            '1', '2', '3', '-',\n",
    "            '0', '.', '=', '+'\n",
    "        ]\n",
    "\n",
    "        row = 2\n",
    "        col = 0\n",
    "        for button in buttons:\n",
    "            if button == '=':\n",
    "                btn = Button(self.gui, text=button, command=self.equalpress)\n",
    "            else:\n",
    "                btn = Button(self.gui, text=button, command=lambda b=button: self.press(b))\n",
    "\n",
    "            btn.grid(row=row, column=col)\n",
    "            col += 1\n",
    "            if col > 3:\n",
    "                col = 0\n",
    "                row += 1\n",
    "\n",
    "\n",
    "if __name__ == \"__main__\":\n",
    "    gui = Tk()\n",
    "    app = Calculator(gui)\n",
    "    gui.mainloop()"
   ]
  }
 ],
 "metadata": {
  "kernelspec": {
   "display_name": "Python 3",
   "language": "python",
   "name": "python3"
  },
  "language_info": {
   "codemirror_mode": {
    "name": "ipython",
    "version": 3
   },
   "file_extension": ".py",
   "mimetype": "text/x-python",
   "name": "python",
   "nbconvert_exporter": "python",
   "pygments_lexer": "ipython3",
   "version": "3.11.0"
  },
  "orig_nbformat": 4
 },
 "nbformat": 4,
 "nbformat_minor": 2
}
