{
 "cells": [
  {
   "cell_type": "markdown",
   "metadata": {},
   "source": [
    "# Day 2"
   ]
  },
  {
   "cell_type": "markdown",
   "metadata": {},
   "source": [
    "#### Data Types:"
   ]
  },
  {
   "cell_type": "markdown",
   "metadata": {},
   "source": [
    "Here I am showing python datatypes.\n",
    "```\n",
    "String(str): \"Hellow World\"\n",
    "Integer(int): 15, 0, -5\n",
    "Float(float): 1.45\n",
    "Bool(bool): True, False\n",
    "Complex(complex): 1f, 0+1.4j\n",
    "Tuple(tuple): (\"A\", \"B\", \"C\")\n",
    "Set(set): {\"A\", \"B\", \"C\"}\n",
    "List(list): [\"A\", \"B\", \"C\"]\n",
    "Dictionary(dict): {\"A\":\"a\", \"B\":\"b\", \"C\":\"c\"}\n",
    "```"
   ]
  },
  {
   "cell_type": "code",
   "execution_count": 7,
   "metadata": {},
   "outputs": [
    {
     "name": "stdout",
     "output_type": "stream",
     "text": [
      "<class 'str'>\n",
      "<class 'int'>\n",
      "<class 'float'>\n",
      "<class 'bool'>\n",
      "<class 'complex'>\n",
      "<class 'tuple'>\n",
      "<class 'set'>\n",
      "<class 'list'>\n",
      "<class 'dict'>\n"
     ]
    }
   ],
   "source": [
    "x = \"Hello World\"\n",
    "print(type(x))\n",
    "\n",
    "x = -15\n",
    "print(type(x))\n",
    "\n",
    "x = 1.45\n",
    "print(type(x))\n",
    "\n",
    "x = True\n",
    "print(type(x))\n",
    "\n",
    "x = 0+1.4j\n",
    "print(type(x))\n",
    "\n",
    "x = (\"A\", \"B\", \"C\")\n",
    "print(type(x))\n",
    "\n",
    "x = {\"A\", \"B\", \"C\"}\n",
    "print(type(x))\n",
    "\n",
    "x = [\"A\", \"B\", \"C\"]\n",
    "print(type(x))\n",
    "\n",
    "x = {\"A\":\"a\", \"B\":\"b\", \"C\":\"c\"}\n",
    "print(type(x))"
   ]
  },
  {
   "cell_type": "markdown",
   "metadata": {},
   "source": [
    "#### Operators types"
   ]
  },
  {
   "cell_type": "markdown",
   "metadata": {},
   "source": [
    "Here I am showing python operators.\n",
    "\n",
    "```\n",
    "Arithmetic operators: +, -, *, /, %, **, //\n",
    "Assignment operators: =, +=, -=, *=, /=, %=, **=, //=, |=, &=, ^=, <<=, >>=\n",
    "Comparison operators: ==, !=, >, <, >=, <=\n",
    "Logical operators: and, or, not\n",
    "Identity operators: is, is not\n",
    "Membership operators: in, not in\n",
    "Bitwise operators: &, |, ~, <<, >>, ^\n",
    "```"
   ]
  },
  {
   "cell_type": "markdown",
   "metadata": {},
   "source": [
    "Arithmetic operators: "
   ]
  },
  {
   "cell_type": "code",
   "execution_count": 8,
   "metadata": {},
   "outputs": [
    {
     "name": "stdout",
     "output_type": "stream",
     "text": [
      "8\n",
      "4\n",
      "12\n",
      "3.0\n",
      "0\n",
      "36\n",
      "3\n"
     ]
    }
   ],
   "source": [
    "x = 6\n",
    "y = 2\n",
    "\n",
    "print(x + y)\n",
    "print(x - y)\n",
    "print(x * y)\n",
    "print(x / y)\n",
    "print(x % y)\n",
    "print(x ** y)\n",
    "print(x // y)"
   ]
  },
  {
   "cell_type": "markdown",
   "metadata": {},
   "source": [
    "Assignment operators:"
   ]
  },
  {
   "cell_type": "code",
   "execution_count": 9,
   "metadata": {},
   "outputs": [
    {
     "name": "stdout",
     "output_type": "stream",
     "text": [
      "6\n",
      "11\n",
      "1\n",
      "30\n",
      "1.2\n",
      "1\n",
      "7776\n",
      "1\n",
      "7\n",
      "4\n",
      "3\n",
      "192\n",
      "0\n"
     ]
    }
   ],
   "source": [
    "x = 6\n",
    "print(x)\n",
    "\n",
    "x = 6\n",
    "x += 5\n",
    "print(x)\n",
    "\n",
    "x = 6\n",
    "x -= 5\n",
    "print(x)\n",
    "\n",
    "x = 6\n",
    "x *= 5\n",
    "print(x)\n",
    "\n",
    "x = 6\n",
    "x /= 5\n",
    "print(x)\n",
    "\n",
    "x = 6\n",
    "x %= 5\n",
    "print(x)\n",
    "\n",
    "x = 6\n",
    "x **= 5\n",
    "print(x)\n",
    "\n",
    "x = 6\n",
    "x //= 5\n",
    "print(x)\n",
    "\n",
    "x = 6\n",
    "x |= 5\n",
    "print(x)\n",
    "\n",
    "x = 6\n",
    "x &= 5\n",
    "print(x)\n",
    "\n",
    "x = 6\n",
    "x ^= 5\n",
    "print(x)\n",
    "\n",
    "x = 6\n",
    "x <<= 5\n",
    "print(x)\n",
    "\n",
    "x = 6\n",
    "x >>= 5\n",
    "print(x)"
   ]
  },
  {
   "cell_type": "markdown",
   "metadata": {},
   "source": [
    "Comparison operators:"
   ]
  },
  {
   "cell_type": "code",
   "execution_count": 10,
   "metadata": {},
   "outputs": [
    {
     "name": "stdout",
     "output_type": "stream",
     "text": [
      "False\n",
      "True\n",
      "True\n",
      "False\n",
      "True\n",
      "False\n"
     ]
    }
   ],
   "source": [
    "x = 5\n",
    "y = 4\n",
    "\n",
    "print(x == y)\n",
    "print(x != y)\n",
    "print(x > y)\n",
    "print(x < y)\n",
    "print(x >= y)\n",
    "print(x <= y)"
   ]
  },
  {
   "cell_type": "markdown",
   "metadata": {},
   "source": [
    "Logical operators:"
   ]
  },
  {
   "cell_type": "code",
   "execution_count": 11,
   "metadata": {},
   "outputs": [
    {
     "name": "stdout",
     "output_type": "stream",
     "text": [
      "False\n",
      "False\n",
      "True\n"
     ]
    }
   ],
   "source": [
    "x = 5\n",
    "print(x < 5 and  x < 10)\n",
    "print(x < 5 or x < 4)\n",
    "print(not(x < 5 and  x < 10))"
   ]
  },
  {
   "cell_type": "markdown",
   "metadata": {},
   "source": [
    "Membership operators:"
   ]
  },
  {
   "cell_type": "code",
   "execution_count": 12,
   "metadata": {},
   "outputs": [
    {
     "name": "stdout",
     "output_type": "stream",
     "text": [
      "False\n",
      "True\n"
     ]
    }
   ],
   "source": [
    "x = [\"A\", \"B\"]\n",
    "y = [\"A\", \"B\"]\n",
    "print(x is y)\n",
    "print(x is not y)"
   ]
  },
  {
   "cell_type": "markdown",
   "metadata": {},
   "source": [
    "Bitwise operators:"
   ]
  },
  {
   "cell_type": "code",
   "execution_count": 13,
   "metadata": {},
   "outputs": [
    {
     "name": "stdout",
     "output_type": "stream",
     "text": [
      "4\n",
      "6\n",
      "-5\n",
      "0\n",
      "96\n",
      "2\n"
     ]
    }
   ],
   "source": [
    "x = 6\n",
    "y = 4\n",
    "\n",
    "print(x & y)\n",
    "print(x | y)\n",
    "print(~y)\n",
    "print(x >> y)\n",
    "print(x << y)\n",
    "print(x ^ y)"
   ]
  }
 ],
 "metadata": {
  "kernelspec": {
   "display_name": "Python 3",
   "language": "python",
   "name": "python3"
  },
  "language_info": {
   "codemirror_mode": {
    "name": "ipython",
    "version": 3
   },
   "file_extension": ".py",
   "mimetype": "text/x-python",
   "name": "python",
   "nbconvert_exporter": "python",
   "pygments_lexer": "ipython3",
   "version": "3.11.0"
  },
  "orig_nbformat": 4
 },
 "nbformat": 4,
 "nbformat_minor": 2
}
