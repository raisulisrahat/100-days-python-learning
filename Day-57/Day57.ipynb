{
 "cells": [
  {
   "cell_type": "markdown",
   "metadata": {},
   "source": [
    "# Day 57"
   ]
  },
  {
   "cell_type": "markdown",
   "metadata": {},
   "source": [
    "#### NumPy Built-In modules Day 6"
   ]
  },
  {
   "cell_type": "code",
   "execution_count": 1,
   "metadata": {},
   "outputs": [
    {
     "name": "stdout",
     "output_type": "stream",
     "text": [
      "[7 6 7 7 7 6 5 7 6 7 6 7 5 7 7 6 7 7 5 6 7 7 7 7 7 6 7 7 7 7 6 7 7 7 7 7 7\n",
      " 5 7 7 6 7 6 5 7 7 7 6 7 7 7 7 7 7 7 7 6 7 7 5 7 7 5 6 6 6 6 7 7 7 7 5 7 6\n",
      " 7 5 7 7 7 5 5 7 7 7 7 7 7 6 6 5 6 7 6 7 6 5 6 6 6 7]\n",
      "[7 6 7 5 6 4 5 5 6 8 7 8 7 4 7 7 9 4 7 7 4 6 4 5 7 4 7 7 8 6 4 7 6 5 5 4 8\n",
      " 7 5 4 8 6 6 7 8 9 8 6 5 7 7 1 5 4 3 7 7 6 6 7 7 9 8 7 4 7 5 5 5 6 6 6 7 5\n",
      " 7 3 5 7 7 5 7 7 6 6 6 5 8 5 6 4 8 6 3 9 5 4 6 7 8 7]\n",
      "[[ 0.17182979 -0.94964512  0.57546989  0.9395263  -0.30758925]\n",
      " [-0.18358362  0.34420031 -1.18776505 -0.69640227  2.36015498]\n",
      " [ 1.66132755  1.52165154 -0.06155209  0.48171222 -0.69676123]]\n"
     ]
    }
   ],
   "source": [
    "from numpy import random\n",
    "\n",
    "arr = random.choice([5,6,7,9], p=[0.1, 0.3, 0.6, 0.0], size=(100))\n",
    "print(arr)\n",
    "\n",
    "arr = random.binomial(n=10, p=0.6, size=100)\n",
    "print(arr)\n",
    "\n",
    "# Normal Distribution\n",
    "x = random.normal(size=(3,5))\n",
    "print(x)"
   ]
  }
 ],
 "metadata": {
  "kernelspec": {
   "display_name": "Python 3",
   "language": "python",
   "name": "python3"
  },
  "language_info": {
   "codemirror_mode": {
    "name": "ipython",
    "version": 3
   },
   "file_extension": ".py",
   "mimetype": "text/x-python",
   "name": "python",
   "nbconvert_exporter": "python",
   "pygments_lexer": "ipython3",
   "version": "3.11.5"
  },
  "orig_nbformat": 4
 },
 "nbformat": 4,
 "nbformat_minor": 2
}
