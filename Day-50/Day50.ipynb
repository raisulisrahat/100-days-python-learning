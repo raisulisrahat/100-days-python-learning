{
 "cells": [
  {
   "cell_type": "markdown",
   "metadata": {},
   "source": [
    "# Day 50"
   ]
  },
  {
   "cell_type": "markdown",
   "metadata": {},
   "source": [
    "#### #### Practising Day 45 in python (CLI calculator)"
   ]
  },
  {
   "cell_type": "code",
   "execution_count": null,
   "metadata": {},
   "outputs": [],
   "source": [
    "import argparse\n",
    "\n",
    "class Calculator:\n",
    "    def add(self, x, y):\n",
    "        return x + y\n",
    "\n",
    "    def subtract(self, x, y):\n",
    "        return x - y\n",
    "\n",
    "    def multiply(self, x, y):\n",
    "        return x * y\n",
    "\n",
    "    def divide(self, x, y):\n",
    "        if y == 0:\n",
    "            raise ValueError(\"Cannot divide by zero\")\n",
    "        return x / y\n",
    "\n",
    "def main():\n",
    "    parser = argparse.ArgumentParser(description=\"Simple command-line calculator\")\n",
    "    parser.add_argument(\"operation\", choices=[\"add\", \"subtract\", \"multiply\", \"divide\"], help=\"Operation to perform\")\n",
    "    parser.add_argument(\"x\", type=float, help=\"First operand\")\n",
    "    parser.add_argument(\"y\", type=float, help=\"Second operand\")\n",
    "\n",
    "    args = parser.parse_args()\n",
    "\n",
    "    calculator = Calculator()\n",
    "\n",
    "    if args.operation == \"add\":\n",
    "        result = calculator.add(args.x, args.y)\n",
    "    elif args.operation == \"subtract\":\n",
    "        result = calculator.subtract(args.x, args.y)\n",
    "    elif args.operation == \"multiply\":\n",
    "        result = calculator.multiply(args.x, args.y)\n",
    "    elif args.operation == \"divide\":\n",
    "        try:\n",
    "            result = calculator.divide(args.x, args.y)\n",
    "        except ValueError as e:\n",
    "            print(f\"Error: {str(e)}\")\n",
    "            return\n",
    "\n",
    "    print(f\"Result of {args.operation}: {result}\")\n",
    "\n",
    "if __name__ == \"__main__\":\n",
    "    main()\n"
   ]
  }
 ],
 "metadata": {
  "kernelspec": {
   "display_name": "Python 3",
   "language": "python",
   "name": "python3"
  },
  "language_info": {
   "codemirror_mode": {
    "name": "ipython",
    "version": 3
   },
   "file_extension": ".py",
   "mimetype": "text/x-python",
   "name": "python",
   "nbconvert_exporter": "python",
   "pygments_lexer": "ipython3",
   "version": "3.11.0"
  },
  "orig_nbformat": 4
 },
 "nbformat": 4,
 "nbformat_minor": 2
}
