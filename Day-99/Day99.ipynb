{
 "cells": [
  {
   "cell_type": "markdown",
   "metadata": {},
   "source": [
    "# Day 99"
   ]
  },
  {
   "cell_type": "markdown",
   "metadata": {},
   "source": [
    "#### DevOps Project Day 9"
   ]
  },
  {
   "cell_type": "code",
   "execution_count": null,
   "metadata": {},
   "outputs": [],
   "source": [
    "import psutil\n",
    "import time\n",
    "\n",
    "# Simulating a deployment process (Replace with actual deployment logic)\n",
    "def deploy_application():\n",
    "    print(\"Deploying application...\")\n",
    "\n",
    "    # Simulating deployment time\n",
    "    time.sleep(3)\n",
    "    print(\"Application deployed successfully.\")\n",
    "\n",
    "# Function to monitor system resources\n",
    "def monitor_system():\n",
    "    while True:\n",
    "        cpu_percent = psutil.cpu_percent()\n",
    "        memory_percent = psutil.virtual_memory().percent\n",
    "        disk_usage = psutil.disk_usage('/').percent\n",
    "\n",
    "        print(f\"Current CPU usage: {cpu_percent}%\")\n",
    "        print(f\"Current Memory usage: {memory_percent}%\")\n",
    "        print(f\"Current Disk usage: {disk_usage}%\")\n",
    "\n",
    "        # Example: Trigger deployment if CPU usage is below 10% and memory usage is below 20%\n",
    "        if cpu_percent < 10 and memory_percent < 20:\n",
    "            deploy_application()\n",
    "\n",
    "        time.sleep(3)  # Adjust the interval as needed\n",
    "\n",
    "# Main function\n",
    "if __name__ == \"__main__\":\n",
    "    # Start the monitoring process\n",
    "    monitor_system()"
   ]
  }
 ],
 "metadata": {
  "kernelspec": {
   "display_name": "Python 3",
   "language": "python",
   "name": "python3"
  },
  "language_info": {
   "codemirror_mode": {
    "name": "ipython",
    "version": 3
   },
   "file_extension": ".py",
   "mimetype": "text/x-python",
   "name": "python",
   "nbconvert_exporter": "python",
   "pygments_lexer": "ipython3",
   "version": "3.11.6"
  }
 },
 "nbformat": 4,
 "nbformat_minor": 2
}
