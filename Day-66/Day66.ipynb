{
 "cells": [
  {
   "cell_type": "markdown",
   "metadata": {},
   "source": [
    "# Day 66"
   ]
  },
  {
   "cell_type": "markdown",
   "metadata": {},
   "source": [
    "#### Pandas Built-In modules Day 6"
   ]
  },
  {
   "cell_type": "code",
   "execution_count": 6,
   "metadata": {},
   "outputs": [
    {
     "name": "stdout",
     "output_type": "stream",
     "text": [
      "       Roll Name Subject Division\n",
      "Class                            \n",
      "XI        1    A          Science\n",
      "XI        2    B          Science\n",
      "XI        3    C          Science\n",
      "XI        4    D          Science\n",
      "XI        5    E             Arts\n",
      "XI        6    F             Arts\n",
      "XI        7    G             Arts\n",
      "XI        8    H         Commarce\n",
      "XI        9    I         Commarce\n",
      "XI       10    J         Commarce\n"
     ]
    }
   ],
   "source": [
    "import pandas as pd\n",
    "\n",
    "df = pd.read_csv(\"Sheet1.csv\", index_col=\"Class\")\n",
    "print(df)"
   ]
  },
  {
   "cell_type": "code",
   "execution_count": 7,
   "metadata": {},
   "outputs": [
    {
     "name": "stdout",
     "output_type": "stream",
     "text": [
      "Class\n",
      "XI     Science\n",
      "XI     Science\n",
      "XI     Science\n",
      "XI     Science\n",
      "XI        Arts\n",
      "XI        Arts\n",
      "XI        Arts\n",
      "XI    Commarce\n",
      "XI    Commarce\n",
      "XI    Commarce\n",
      "Name: Subject Division, dtype: object\n"
     ]
    }
   ],
   "source": [
    "import pandas as pd\n",
    "\n",
    "df = pd.read_csv(\"Sheet1.csv\", index_col=\"Class\")\n",
    "d = df[\"Subject Division\"]\n",
    "print(d)"
   ]
  }
 ],
 "metadata": {
  "kernelspec": {
   "display_name": "Python 3",
   "language": "python",
   "name": "python3"
  },
  "language_info": {
   "codemirror_mode": {
    "name": "ipython",
    "version": 3
   },
   "file_extension": ".py",
   "mimetype": "text/x-python",
   "name": "python",
   "nbconvert_exporter": "python",
   "pygments_lexer": "ipython3",
   "version": "3.11.5"
  },
  "orig_nbformat": 4
 },
 "nbformat": 4,
 "nbformat_minor": 2
}
