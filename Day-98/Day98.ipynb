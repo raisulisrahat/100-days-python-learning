{
 "cells": [
  {
   "cell_type": "markdown",
   "metadata": {},
   "source": [
    "# Day 98"
   ]
  },
  {
   "cell_type": "markdown",
   "metadata": {},
   "source": [
    "#### DevOps Project Day 7"
   ]
  },
  {
   "cell_type": "code",
   "execution_count": 3,
   "metadata": {},
   "outputs": [],
   "source": [
    "import requests\n",
    "from bs4 import BeautifulSoup\n",
    "\n",
    "def scrape_dynamic_content(url):\n",
    "    all_results = []\n",
    "    page_number = 1\n",
    "    while True:\n",
    "        response = requests.get(f\"{url}?page={page_number}\")\n",
    "\n",
    "        if response.status_code != 200:\n",
    "            break\n",
    "\n",
    "        soup = BeautifulSoup(response.content, 'html.parser')\n",
    "        results = soup.find_all('div', class_='result')\n",
    "\n",
    "        if not results:\n",
    "            break\n",
    "\n",
    "        all_results.extend(results)\n",
    "        page_number += 1\n",
    "\n",
    "    return all_results\n",
    "\n",
    "# Usage\n",
    "scraped_data = scrape_dynamic_content('https://www.amarstock.com')\n",
    "\n",
    "# Save the scraped data into a text file\n",
    "with open('scraped_data.txt', 'w', encoding='utf-8') as file:\n",
    "    for result in scraped_data:\n",
    "        file.write(result.get_text() + '\\n')\n"
   ]
  }
 ],
 "metadata": {
  "kernelspec": {
   "display_name": "Python 3",
   "language": "python",
   "name": "python3"
  },
  "language_info": {
   "codemirror_mode": {
    "name": "ipython",
    "version": 3
   },
   "file_extension": ".py",
   "mimetype": "text/x-python",
   "name": "python",
   "nbconvert_exporter": "python",
   "pygments_lexer": "ipython3",
   "version": "3.11.6"
  }
 },
 "nbformat": 4,
 "nbformat_minor": 2
}
