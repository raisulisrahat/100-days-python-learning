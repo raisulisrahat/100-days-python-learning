{
 "cells": [
  {
   "cell_type": "markdown",
   "metadata": {},
   "source": [
    "# Day 41"
   ]
  },
  {
   "cell_type": "markdown",
   "metadata": {},
   "source": [
    "#### Built-In Python YAML modules"
   ]
  },
  {
   "cell_type": "code",
   "execution_count": 1,
   "metadata": {},
   "outputs": [
    {
     "name": "stdout",
     "output_type": "stream",
     "text": [
      "[{'Programming': ['Python', 'Node.js', 'PHP']}, {'Script': ['Bash Shell', 'Power Shell']}]\n"
     ]
    }
   ],
   "source": [
    "# Read Files\n",
    "import yaml\n",
    "\n",
    "with open('demo.yaml', 'r') as file:\n",
    "    files = yaml.safe_load_all(file)\n",
    "    for readfile in files:\n",
    "        print(readfile)"
   ]
  },
  {
   "cell_type": "code",
   "execution_count": 2,
   "metadata": {},
   "outputs": [
    {
     "name": "stdout",
     "output_type": "stream",
     "text": [
      "- Programming: C++\n",
      "- Script: Batch Script\n",
      "\n"
     ]
    }
   ],
   "source": [
    "# Write Files\n",
    "\n",
    "import yaml\n",
    "\n",
    "new = [{'Programming': 'C++'},\n",
    "       {'Script': 'Batch Script'}]\n",
    "\n",
    "with open('demo.yaml', 'w') as writefile:\n",
    "    yaml.safe_dump(new, writefile)\n",
    "with open('demo.yaml', 'r') as readfile:\n",
    "    content = readfile.read()\n",
    "    print(content)\n"
   ]
  }
 ],
 "metadata": {
  "kernelspec": {
   "display_name": "Python 3",
   "language": "python",
   "name": "python3"
  },
  "language_info": {
   "codemirror_mode": {
    "name": "ipython",
    "version": 3
   },
   "file_extension": ".py",
   "mimetype": "text/x-python",
   "name": "python",
   "nbconvert_exporter": "python",
   "pygments_lexer": "ipython3",
   "version": "3.11.0"
  },
  "orig_nbformat": 4
 },
 "nbformat": 4,
 "nbformat_minor": 2
}
