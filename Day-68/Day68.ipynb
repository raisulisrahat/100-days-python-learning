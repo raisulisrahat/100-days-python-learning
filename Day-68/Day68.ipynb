{
 "cells": [
  {
   "cell_type": "markdown",
   "metadata": {},
   "source": [
    "# Day 68"
   ]
  },
  {
   "cell_type": "markdown",
   "metadata": {},
   "source": [
    "#### Practising Pandas & Numpy Day 1 (Data Analyzer!)"
   ]
  },
  {
   "cell_type": "code",
   "execution_count": 3,
   "metadata": {},
   "outputs": [
    {
     "name": "stdout",
     "output_type": "stream",
     "text": [
      "Welcome to the Data Analyzer!\n",
      "Data Analysis Results:\n",
      "Mean: 32.5\n",
      "Median: 32.5\n",
      "Minimum Value: 10\n",
      "Maximum Value: 55\n"
     ]
    }
   ],
   "source": [
    "import numpy as np\n",
    "import pandas as pd\n",
    "\n",
    "class DataAnalyzer:\n",
    "    def __init__(self, data_file):\n",
    "        self.data_file = data_file\n",
    "\n",
    "    def read_data(self):\n",
    "        try:\n",
    "            return pd.read_csv(self.data_file)\n",
    "        except FileNotFoundError:\n",
    "            print(f\"File '{self.data_file}' not found.\")\n",
    "            return None\n",
    "\n",
    "    def analyze_data(self, data):\n",
    "        if data is None:\n",
    "            return\n",
    "        \n",
    "        # Calculate basic statistics using NumPy\n",
    "        mean = np.mean(data['Value'])\n",
    "        median = np.median(data['Value'])\n",
    "        min_value = np.min(data['Value'])\n",
    "        max_value = np.max(data['Value'])\n",
    "\n",
    "        # Display the results\n",
    "        print(\"Data Analysis Results:\")\n",
    "        print(f\"Mean: {mean}\")\n",
    "        print(f\"Median: {median}\")\n",
    "        print(f\"Minimum Value: {min_value}\")\n",
    "        print(f\"Maximum Value: {max_value}\")\n",
    "\n",
    "def main():\n",
    "    print(\"Welcome to the Data Analyzer!\")\n",
    "\n",
    "    data_file = \"data.csv\"  # Replace with your CSV file path\n",
    "    data_analyzer = DataAnalyzer(data_file)\n",
    "\n",
    "    data = data_analyzer.read_data()\n",
    "    data_analyzer.analyze_data(data)\n",
    "\n",
    "if __name__ == \"__main__\":\n",
    "    main()\n"
   ]
  }
 ],
 "metadata": {
  "kernelspec": {
   "display_name": "Python 3",
   "language": "python",
   "name": "python3"
  },
  "language_info": {
   "codemirror_mode": {
    "name": "ipython",
    "version": 3
   },
   "file_extension": ".py",
   "mimetype": "text/x-python",
   "name": "python",
   "nbconvert_exporter": "python",
   "pygments_lexer": "ipython3",
   "version": "3.11.5"
  },
  "orig_nbformat": 4
 },
 "nbformat": 4,
 "nbformat_minor": 2
}
