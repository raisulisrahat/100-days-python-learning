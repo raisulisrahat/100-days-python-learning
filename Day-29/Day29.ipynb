{
 "cells": [
  {
   "cell_type": "markdown",
   "metadata": {},
   "source": [
    "# Day 29"
   ]
  },
  {
   "cell_type": "markdown",
   "metadata": {},
   "source": [
    "#### Practising Day 23 in python (Date finder)"
   ]
  },
  {
   "cell_type": "code",
   "execution_count": 4,
   "metadata": {},
   "outputs": [
    {
     "name": "stdout",
     "output_type": "stream",
     "text": [
      "Welcome to the Date Extractor!\n",
      "Dates found:\n",
      "16-02-1999\n"
     ]
    }
   ],
   "source": [
    "import re\n",
    "\n",
    "def extract_dates(text):\n",
    "    date_pattern = r'\\d{2}-\\d{2}-\\d{4}'\n",
    "    dates = re.findall(date_pattern, text)\n",
    "    return dates\n",
    "\n",
    "def main():\n",
    "    print(\"Welcome to the Date Extractor!\")\n",
    "\n",
    "    text = input(\"Enter some text containing dates: \")\n",
    "\n",
    "    dates = extract_dates(text)\n",
    "\n",
    "    if dates:\n",
    "        print(\"Dates found:\")\n",
    "        for date in dates:\n",
    "            print(date)\n",
    "    else:\n",
    "        print(\"No dates found in the input.\")\n",
    "\n",
    "if __name__ == \"__main__\":\n",
    "    main()\n"
   ]
  }
 ],
 "metadata": {
  "kernelspec": {
   "display_name": "Python 3",
   "language": "python",
   "name": "python3"
  },
  "language_info": {
   "codemirror_mode": {
    "name": "ipython",
    "version": 3
   },
   "file_extension": ".py",
   "mimetype": "text/x-python",
   "name": "python",
   "nbconvert_exporter": "python",
   "pygments_lexer": "ipython3",
   "version": "3.11.0"
  },
  "orig_nbformat": 4
 },
 "nbformat": 4,
 "nbformat_minor": 2
}
