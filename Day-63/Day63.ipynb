{
 "cells": [
  {
   "cell_type": "markdown",
   "metadata": {},
   "source": [
    "# Day 63"
   ]
  },
  {
   "cell_type": "markdown",
   "metadata": {},
   "source": [
    "#### Pandas Built-In modules Day 3"
   ]
  },
  {
   "cell_type": "markdown",
   "metadata": {},
   "source": [
    "##### Analyzing Data"
   ]
  },
  {
   "cell_type": "code",
   "execution_count": 7,
   "metadata": {},
   "outputs": [
    {
     "name": "stdout",
     "output_type": "stream",
     "text": [
      "   Duration  Pulse  Maxpulse  Calories\n",
      "0        60    110       130     409.1\n",
      "1        60    117       145     479.0\n",
      "2        60    103       135     340.0\n",
      "3        45    109       175     282.4\n",
      "4        45    117       148     406.0\n",
      "5        60    102       127     300.0\n",
      "6        60     98       120     215.2\n",
      "7        60    100       120     300.0\n",
      "8        45     90       112       NaN\n",
      "9        60    103       123     323.0\n"
     ]
    }
   ],
   "source": [
    "import pandas as pd\n",
    "\n",
    "# Analyzing Top 10 Data\n",
    "dc = pd.read_csv('data.csv')\n",
    "\n",
    "print(dc.head(10))"
   ]
  },
  {
   "cell_type": "code",
   "execution_count": 8,
   "metadata": {},
   "outputs": [
    {
     "name": "stdout",
     "output_type": "stream",
     "text": [
      "    Duration  Pulse  Maxpulse  Calories\n",
      "21        60     92       115     243.0\n",
      "22        45     90       112     180.1\n",
      "23        60    101       124     299.0\n",
      "24        60     93       113     223.0\n",
      "25        60    107       136     361.0\n",
      "26        60    114       140     415.0\n",
      "27        60    102       127     300.0\n",
      "28        60    100       120     300.0\n",
      "29        60    100       120     300.0\n",
      "30        45    104       129     266.0\n"
     ]
    }
   ],
   "source": [
    "import pandas as pd\n",
    "\n",
    "# Analyzing End 10 Data\n",
    "dc = pd.read_csv('data.csv')\n",
    "\n",
    "print(dc.tail(10))"
   ]
  },
  {
   "cell_type": "markdown",
   "metadata": {},
   "source": [
    "##### Clear Data"
   ]
  },
  {
   "cell_type": "markdown",
   "metadata": {},
   "source": []
  },
  {
   "cell_type": "markdown",
   "metadata": {},
   "source": [
    "Data cleaning means fixing bad data in your data set. Bad data could be:\n",
    "\n",
    "1. Empty cells\n",
    "2. Data in wrong format\n",
    "3. Wrong data\n",
    "4. Duplicates"
   ]
  },
  {
   "cell_type": "code",
   "execution_count": 9,
   "metadata": {},
   "outputs": [
    {
     "name": "stdout",
     "output_type": "stream",
     "text": [
      "    Duration  Pulse  Maxpulse  Calories\n",
      "0         60    110       130     409.1\n",
      "1         60    117       145     479.0\n",
      "2         60    103       135     340.0\n",
      "3         45    109       175     282.4\n",
      "4         45    117       148     406.0\n",
      "5         60    102       127     300.0\n",
      "6         60     98       120     215.2\n",
      "7         60    100       120     300.0\n",
      "9         60    103       123     323.0\n",
      "10        45     97       125     243.0\n",
      "11        60    108       131     364.2\n",
      "12        45    100       119     282.0\n",
      "13        60    130       101     300.0\n",
      "14        45    105       132     246.0\n",
      "15        60    102       126     334.5\n",
      "16        60    100       120     250.0\n",
      "17        60     92       118     241.0\n",
      "19        60    100       132     280.0\n",
      "20        60    102       129     380.3\n",
      "21        60     92       115     243.0\n",
      "22        45     90       112     180.1\n",
      "23        60    101       124     299.0\n",
      "24        60     93       113     223.0\n",
      "25        60    107       136     361.0\n",
      "26        60    114       140     415.0\n",
      "27        60    102       127     300.0\n",
      "28        60    100       120     300.0\n",
      "29        60    100       120     300.0\n",
      "30        45    104       129     266.0\n"
     ]
    }
   ],
   "source": [
    "import pandas as pd\n",
    "\n",
    "# Analyzing End 10 Data\n",
    "dc = pd.read_csv('data.csv')\n",
    "dc.dropna(inplace= True)\n",
    "print(dc.to_string())"
   ]
  }
 ],
 "metadata": {
  "kernelspec": {
   "display_name": "Python 3",
   "language": "python",
   "name": "python3"
  },
  "language_info": {
   "codemirror_mode": {
    "name": "ipython",
    "version": 3
   },
   "file_extension": ".py",
   "mimetype": "text/x-python",
   "name": "python",
   "nbconvert_exporter": "python",
   "pygments_lexer": "ipython3",
   "version": "3.11.5"
  },
  "orig_nbformat": 4
 },
 "nbformat": 4,
 "nbformat_minor": 2
}
