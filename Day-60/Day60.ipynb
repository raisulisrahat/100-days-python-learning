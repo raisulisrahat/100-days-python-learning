{
 "cells": [
  {
   "cell_type": "markdown",
   "metadata": {},
   "source": [
    "# Day 60"
   ]
  },
  {
   "cell_type": "markdown",
   "metadata": {},
   "source": [
    "#### NumPy Built-In modules Day 10"
   ]
  },
  {
   "cell_type": "code",
   "execution_count": 1,
   "metadata": {},
   "outputs": [
    {
     "name": "stdout",
     "output_type": "stream",
     "text": [
      "[-3.  3.]\n",
      "[-3.  3.]\n",
      "[-3.  4.]\n",
      "[-4.  3.]\n",
      "[-3.  4.]\n"
     ]
    }
   ],
   "source": [
    "import numpy as np\n",
    "\n",
    "num = [-3.2562, 3.571]\n",
    "\n",
    "# Primarily five ways of rounding off decimals in NumPy\n",
    "arrtrc = np.trunc(num)\n",
    "print(arrtrc)\n",
    "\n",
    "arrfix = np.fix(num)\n",
    "print(arrfix)\n",
    "\n",
    "arrrou = np.round(num)\n",
    "print(arrrou)\n",
    "\n",
    "arrfloor = np.floor(num)\n",
    "print(arrfloor)\n",
    "\n",
    "arrceil = np.ceil(num)\n",
    "print(arrceil)\n"
   ]
  }
 ],
 "metadata": {
  "kernelspec": {
   "display_name": "Python 3",
   "language": "python",
   "name": "python3"
  },
  "language_info": {
   "codemirror_mode": {
    "name": "ipython",
    "version": 3
   },
   "file_extension": ".py",
   "mimetype": "text/x-python",
   "name": "python",
   "nbconvert_exporter": "python",
   "pygments_lexer": "ipython3",
   "version": "3.11.5"
  },
  "orig_nbformat": 4
 },
 "nbformat": 4,
 "nbformat_minor": 2
}
