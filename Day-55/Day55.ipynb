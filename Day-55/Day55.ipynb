{
 "cells": [
  {
   "cell_type": "markdown",
   "metadata": {},
   "source": [
    "# Day 55"
   ]
  },
  {
   "cell_type": "markdown",
   "metadata": {},
   "source": [
    "#### NumPy Built-In modules Day 5"
   ]
  },
  {
   "cell_type": "code",
   "execution_count": 1,
   "metadata": {},
   "outputs": [
    {
     "name": "stdout",
     "output_type": "stream",
     "text": [
      "[array([[[ 1,  2],\n",
      "        [ 4,  5]],\n",
      "\n",
      "       [[ 7,  8],\n",
      "        [10, 11]]]), array([[[ 3],\n",
      "        [ 6]],\n",
      "\n",
      "       [[ 9],\n",
      "        [12]]])]\n",
      "[[[ 1  2]\n",
      "  [ 4  5]]\n",
      "\n",
      " [[ 7  8]\n",
      "  [10 11]]]\n",
      "[[[ 3]\n",
      "  [ 6]]\n",
      "\n",
      " [[ 9]\n",
      "  [12]]]\n",
      "(array([0], dtype=int64), array([1], dtype=int64), array([0], dtype=int64))\n",
      "(array([0, 0, 0, 1, 1, 1], dtype=int64), array([0, 0, 1, 0, 0, 1], dtype=int64), array([0, 2, 1, 0, 2, 1], dtype=int64))\n",
      "2\n"
     ]
    }
   ],
   "source": [
    "import numpy as np\n",
    "\n",
    "arr = np.array([[[1,2,3],[4,5,6]],[[7,8,9],[10,11,12]]])\n",
    "\n",
    "# Splitting NumPy Arrays\n",
    "splarr = np.array_split(arr, 2, axis=2)\n",
    "print(splarr)\n",
    "\n",
    "# Split Into Arrays\n",
    "print(splarr[0])\n",
    "print(splarr[1])\n",
    "\n",
    "# Searching Arrays\n",
    "x = np.where(arr == 4)\n",
    "print(x)\n",
    "\n",
    "y = np.where(arr%2 == 1)\n",
    "print(y)\n",
    "\n",
    "# Search Sorted\n",
    "arr = np.array([1,2,3])\n",
    "z = np.searchsorted(arr, 3)\n",
    "\n",
    "print(z)"
   ]
  }
 ],
 "metadata": {
  "kernelspec": {
   "display_name": "Python 3",
   "language": "python",
   "name": "python3"
  },
  "language_info": {
   "codemirror_mode": {
    "name": "ipython",
    "version": 3
   },
   "file_extension": ".py",
   "mimetype": "text/x-python",
   "name": "python",
   "nbconvert_exporter": "python",
   "pygments_lexer": "ipython3",
   "version": "3.11.5"
  },
  "orig_nbformat": 4
 },
 "nbformat": 4,
 "nbformat_minor": 2
}
