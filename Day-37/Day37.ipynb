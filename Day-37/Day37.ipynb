{
 "cells": [
  {
   "cell_type": "markdown",
   "metadata": {},
   "source": [
    "# Day 37"
   ]
  },
  {
   "cell_type": "markdown",
   "metadata": {},
   "source": [
    "#### Built-In Requests Module"
   ]
  },
  {
   "cell_type": "code",
   "execution_count": 1,
   "metadata": {},
   "outputs": [
    {
     "name": "stdout",
     "output_type": "stream",
     "text": [
      "Website is reachable and responding with status 200 OK\n"
     ]
    }
   ],
   "source": [
    "import requests\n",
    "\n",
    "class WebChecker:\n",
    "\n",
    "    def __init__(self, url):\n",
    "        self.url = url\n",
    "\n",
    "    def checker(self):\n",
    "        try:\n",
    "            response = requests.get(self.url, timeout=2.50)\n",
    "            if response.status_code == 200:\n",
    "                print(\"Website is reachable and responding with status 200 OK\")\n",
    "            else:\n",
    "                print(f\"Website returned status code: {response.status_code}\")\n",
    "        except requests.RequestException as e:\n",
    "            print(f\"Error: {e}. Unable to reach the website.\")\n",
    "\n",
    "if __name__ == \"__main__\":\n",
    "    input_url = \"https://\" + input(\"Enter Your Url: \")\n",
    "    checker = WebChecker(input_url)\n",
    "    checker.checker()"
   ]
  }
 ],
 "metadata": {
  "kernelspec": {
   "display_name": "Python 3",
   "language": "python",
   "name": "python3"
  },
  "language_info": {
   "codemirror_mode": {
    "name": "ipython",
    "version": 3
   },
   "file_extension": ".py",
   "mimetype": "text/x-python",
   "name": "python",
   "nbconvert_exporter": "python",
   "pygments_lexer": "ipython3",
   "version": "3.11.0"
  },
  "orig_nbformat": 4
 },
 "nbformat": 4,
 "nbformat_minor": 2
}
