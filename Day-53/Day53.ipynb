{
 "cells": [
  {
   "cell_type": "markdown",
   "metadata": {},
   "source": [
    "# Day 53"
   ]
  },
  {
   "cell_type": "markdown",
   "metadata": {},
   "source": [
    "#### NumPy Built-In modules Day 3"
   ]
  },
  {
   "cell_type": "code",
   "execution_count": 1,
   "metadata": {},
   "outputs": [
    {
     "name": "stdout",
     "output_type": "stream",
     "text": [
      "[[0 1]\n",
      " [2 3]\n",
      " [4 5]]\n",
      "[[0 1]\n",
      " [2 3]\n",
      " [4 5]]\n",
      "[[0 1]\n",
      " [2 3]\n",
      " [4 5]]\n",
      "[[[[[1 2 3 4]]]]]\n",
      "(1, 1, 1, 1, 4)\n",
      "(array([[0, 1],\n",
      "       [2, 3],\n",
      "       [4, 5]]), array([[0, 1],\n",
      "       [2, 3],\n",
      "       [4, 5]]), (3, 2))\n"
     ]
    }
   ],
   "source": [
    "import numpy as np\n",
    "\n",
    "a = np.arange(6).reshape(3,2)\n",
    "print(a)\n",
    "\n",
    "# Array View\n",
    "b = a.view()\n",
    "print(b)\n",
    "\n",
    "# Array Copy\n",
    "c = b.copy()    \n",
    "print(c)\n",
    "\n",
    "\n",
    "# Shape of an Array\n",
    "arr = np.array([1, 2, 3, 4], ndmin=5)\n",
    "print(arr)              \n",
    "print(arr.shape)\n",
    "\n",
    "x = a,b,c.shape\n",
    "print(x)"
   ]
  }
 ],
 "metadata": {
  "kernelspec": {
   "display_name": "Python 3",
   "language": "python",
   "name": "python3"
  },
  "language_info": {
   "codemirror_mode": {
    "name": "ipython",
    "version": 3
   },
   "file_extension": ".py",
   "mimetype": "text/x-python",
   "name": "python",
   "nbconvert_exporter": "python",
   "pygments_lexer": "ipython3",
   "version": "3.11.5"
  },
  "orig_nbformat": 4
 },
 "nbformat": 4,
 "nbformat_minor": 2
}
