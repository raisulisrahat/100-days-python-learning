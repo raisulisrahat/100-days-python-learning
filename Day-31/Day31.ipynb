{
 "cells": [
  {
   "cell_type": "markdown",
   "metadata": {},
   "source": [
    "# Day 31"
   ]
  },
  {
   "cell_type": "markdown",
   "metadata": {},
   "source": [
    "#### Practice project Day 21 to Day 25"
   ]
  },
  {
   "cell_type": "markdown",
   "metadata": {},
   "source": [
    "##### Task Manager"
   ]
  },
  {
   "cell_type": "code",
   "execution_count": 4,
   "metadata": {},
   "outputs": [
    {
     "name": "stdout",
     "output_type": "stream",
     "text": [
      "Welcome to the Task Manager!\n",
      "\n",
      "Menu:\n",
      "1. Create a new task\n",
      "2. List all tasks\n",
      "3. Exit\n",
      "Task created successfully!\n",
      "\n",
      "Menu:\n",
      "1. Create a new task\n",
      "2. List all tasks\n",
      "3. Exit\n",
      "Tasks:\n",
      "1. Description: Python task, Deadline: 2023-08-21\n",
      "\n",
      "Menu:\n",
      "1. Create a new task\n",
      "2. List all tasks\n",
      "3. Exit\n",
      "Exiting the Task Manager.\n"
     ]
    }
   ],
   "source": [
    "import datetime\n",
    "\n",
    "class Task:\n",
    "    def __init__(self, description, deadline):\n",
    "        self.description = description\n",
    "        self.deadline = deadline\n",
    "\n",
    "def create_task():\n",
    "    description = input(\"Enter task description: \")\n",
    "    deadline_str = input(\"Enter task deadline (YYYY-MM-DD): \")\n",
    "    year, month, day = map(int, deadline_str.split(\"-\"))\n",
    "    deadline = datetime.date(year, month, day)\n",
    "    return Task(description, deadline)\n",
    "\n",
    "def main():\n",
    "    print(\"Welcome to the Task Manager!\")\n",
    "\n",
    "    tasks = []\n",
    "\n",
    "    while True:\n",
    "        print(\"\\nMenu:\")\n",
    "        print(\"1. Create a new task\")\n",
    "        print(\"2. List all tasks\")\n",
    "        print(\"3. Exit\")\n",
    "\n",
    "        choice = input(\"Enter your choice: \")\n",
    "\n",
    "        if choice == '1':\n",
    "            task = create_task()\n",
    "            tasks.append(task)\n",
    "            print(\"Task created successfully!\")\n",
    "        elif choice == '2':\n",
    "            if not tasks:\n",
    "                print(\"No tasks found.\")\n",
    "            else:\n",
    "                print(\"Tasks:\")\n",
    "                for idx, task in enumerate(tasks, start=1):\n",
    "                    print(f\"{idx}. Description: {task.description}, Deadline: {task.deadline}\")\n",
    "        elif choice == '3':\n",
    "            print(\"Exiting the Task Manager.\")\n",
    "            break\n",
    "        else:\n",
    "            print(\"Invalid choice. Please enter a valid option.\")\n",
    "\n",
    "if __name__ == \"__main__\":\n",
    "    main()"
   ]
  },
  {
   "cell_type": "markdown",
   "metadata": {},
   "source": [
    "##### Geometry Calculator"
   ]
  },
  {
   "cell_type": "code",
   "execution_count": 5,
   "metadata": {},
   "outputs": [
    {
     "name": "stdout",
     "output_type": "stream",
     "text": [
      "Welcome to the Geometry Calculator!\n",
      "\n",
      "Menu:\n",
      "1. Calculate the area of a circle\n",
      "2. Calculate the area of a rectangle\n",
      "3. Calculate the area of a triangle\n",
      "4. Exit\n",
      "The area of the circle is: 314.1592653589793\n",
      "\n",
      "Menu:\n",
      "1. Calculate the area of a circle\n",
      "2. Calculate the area of a rectangle\n",
      "3. Calculate the area of a triangle\n",
      "4. Exit\n",
      "The area of the rectangle is: 200.0\n",
      "\n",
      "Menu:\n",
      "1. Calculate the area of a circle\n",
      "2. Calculate the area of a rectangle\n",
      "3. Calculate the area of a triangle\n",
      "4. Exit\n",
      "The area of the triangle is: 75.0\n",
      "\n",
      "Menu:\n",
      "1. Calculate the area of a circle\n",
      "2. Calculate the area of a rectangle\n",
      "3. Calculate the area of a triangle\n",
      "4. Exit\n",
      "Exiting the Geometry Calculator.\n"
     ]
    }
   ],
   "source": [
    "import math\n",
    "\n",
    "class GeometryCalculator:\n",
    "    @staticmethod\n",
    "    def calculate_circle_area(radius):\n",
    "        return math.pi * radius ** 2\n",
    "\n",
    "    @staticmethod\n",
    "    def calculate_rectangle_area(width, height):\n",
    "        return width * height\n",
    "\n",
    "    @staticmethod\n",
    "    def calculate_triangle_area(base, height):\n",
    "        return 0.5 * base * height\n",
    "\n",
    "def main():\n",
    "    print(\"Welcome to the Geometry Calculator!\")\n",
    "\n",
    "    while True:\n",
    "        print(\"\\nMenu:\")\n",
    "        print(\"1. Calculate the area of a circle\")\n",
    "        print(\"2. Calculate the area of a rectangle\")\n",
    "        print(\"3. Calculate the area of a triangle\")\n",
    "        print(\"4. Exit\")\n",
    "\n",
    "        choice = input(\"Enter your choice: \")\n",
    "\n",
    "        if choice == '1':\n",
    "            radius = float(input(\"Enter the radius of the circle: \"))\n",
    "            area = GeometryCalculator.calculate_circle_area(radius)\n",
    "            print(f\"The area of the circle is: {area}\")\n",
    "        elif choice == '2':\n",
    "            width = float(input(\"Enter the width of the rectangle: \"))\n",
    "            height = float(input(\"Enter the height of the rectangle: \"))\n",
    "            area = GeometryCalculator.calculate_rectangle_area(width, height)\n",
    "            print(f\"The area of the rectangle is: {area}\")\n",
    "        elif choice == '3':\n",
    "            base = float(input(\"Enter the base of the triangle: \"))\n",
    "            height = float(input(\"Enter the height of the triangle: \"))\n",
    "            area = GeometryCalculator.calculate_triangle_area(base, height)\n",
    "            print(f\"The area of the triangle is: {area}\")\n",
    "        elif choice == '4':\n",
    "            print(\"Exiting the Geometry Calculator.\")\n",
    "            break\n",
    "        else:\n",
    "            print(\"Invalid choice. Please enter a valid option.\")\n",
    "\n",
    "if __name__ == \"__main__\":\n",
    "    main()"
   ]
  },
  {
   "cell_type": "markdown",
   "metadata": {},
   "source": [
    "##### Contact Manager"
   ]
  },
  {
   "cell_type": "code",
   "execution_count": 6,
   "metadata": {},
   "outputs": [
    {
     "name": "stdout",
     "output_type": "stream",
     "text": [
      "Welcome to the Contact Manager!\n",
      "\n",
      "Menu:\n",
      "1. Add a new contact\n",
      "2. List all contacts\n",
      "3. Exit\n",
      "Contact added successfully!\n",
      "\n",
      "Menu:\n",
      "1. Add a new contact\n",
      "2. List all contacts\n",
      "3. Exit\n",
      "Contacts:\n",
      "1. Name: Sakib, Email: test@mail.com, Phone: 1234567890\n",
      "\n",
      "Menu:\n",
      "1. Add a new contact\n",
      "2. List all contacts\n",
      "3. Exit\n",
      "Exiting the Contact Manager.\n"
     ]
    }
   ],
   "source": [
    "import json\n",
    "\n",
    "class Contact:\n",
    "    def __init__(self, name, email, phone):\n",
    "        self.name = name\n",
    "        self.email = email\n",
    "        self.phone = phone\n",
    "\n",
    "    def to_dict(self):\n",
    "        return {\n",
    "            'name': self.name,\n",
    "            'email': self.email,\n",
    "            'phone': self.phone\n",
    "        }\n",
    "\n",
    "def load_contacts():\n",
    "    try:\n",
    "        with open('contacts.json', 'r') as file:\n",
    "            return json.load(file)\n",
    "    except (FileNotFoundError, json.JSONDecodeError):\n",
    "        return []\n",
    "\n",
    "def save_contacts(contacts):\n",
    "    contacts_data = [contact.to_dict() for contact in contacts]\n",
    "    with open('contacts.json', 'w') as file:\n",
    "        json.dump(contacts_data, file, indent=4)\n",
    "\n",
    "def main():\n",
    "    print(\"Welcome to the Contact Manager!\")\n",
    "\n",
    "    contacts = load_contacts()\n",
    "\n",
    "    while True:\n",
    "        print(\"\\nMenu:\")\n",
    "        print(\"1. Add a new contact\")\n",
    "        print(\"2. List all contacts\")\n",
    "        print(\"3. Exit\")\n",
    "\n",
    "        choice = input(\"Enter your choice: \")\n",
    "\n",
    "        if choice == '1':\n",
    "            name = input(\"Enter contact name: \")\n",
    "            email = input(\"Enter contact email: \")\n",
    "            phone = input(\"Enter contact phone: \")\n",
    "\n",
    "            new_contact = Contact(name, email, phone)\n",
    "            contacts.append(new_contact)\n",
    "            save_contacts(contacts)\n",
    "            print(\"Contact added successfully!\")\n",
    "        elif choice == '2':\n",
    "            if not contacts:\n",
    "                print(\"No contacts found.\")\n",
    "            else:\n",
    "                print(\"Contacts:\")\n",
    "                for idx, contact in enumerate(contacts, start=1):\n",
    "                    print(f\"{idx}. Name: {contact.name}, Email: {contact.email}, Phone: {contact.phone}\")\n",
    "        elif choice == '3':\n",
    "            print(\"Exiting the Contact Manager.\")\n",
    "            break\n",
    "        else:\n",
    "            print(\"Invalid choice. Please enter a valid option.\")\n",
    "\n",
    "if __name__ == \"__main__\":\n",
    "    main()"
   ]
  },
  {
   "cell_type": "markdown",
   "metadata": {},
   "source": [
    "##### Email Validator"
   ]
  },
  {
   "cell_type": "code",
   "execution_count": 8,
   "metadata": {},
   "outputs": [
    {
     "name": "stdout",
     "output_type": "stream",
     "text": [
      "Welcome to the Email Validator!\n",
      "Invalid email address.\n",
      "Valid email address.\n",
      "Exiting the Email Validator.\n"
     ]
    }
   ],
   "source": [
    "import re\n",
    "\n",
    "class EmailValidator:\n",
    "    def __init__(self):\n",
    "        self.email_pattern = re.compile(r'^[a-zA-Z0-9._%+-]+@[a-zA-Z0-9.-]+\\.[a-zA-Z]{2,}$')\n",
    "\n",
    "    def is_valid_email(self, email):\n",
    "        return self.email_pattern.match(email)\n",
    "\n",
    "def main():\n",
    "    print(\"Welcome to the Email Validator!\")\n",
    "\n",
    "    email_validator = EmailValidator()\n",
    "\n",
    "    while True:\n",
    "        email = input(\"Enter an email address: \")\n",
    "\n",
    "        if email_validator.is_valid_email(email):\n",
    "            print(\"Valid email address.\")\n",
    "        else:\n",
    "            print(\"Invalid email address.\")\n",
    "\n",
    "        choice = input(\"Do you want to validate another email? (y/n): \")\n",
    "\n",
    "        if choice.lower() != 'y':\n",
    "            print(\"Exiting the Email Validator.\")\n",
    "            break\n",
    "\n",
    "if __name__ == \"__main__\":\n",
    "    main()"
   ]
  },
  {
   "cell_type": "markdown",
   "metadata": {},
   "source": [
    "##### Dice Rolling Game"
   ]
  },
  {
   "cell_type": "code",
   "execution_count": 9,
   "metadata": {},
   "outputs": [
    {
     "name": "stdout",
     "output_type": "stream",
     "text": [
      "Welcome to the Dice Rolling Game!\n",
      "The dice rolled: 3\n",
      "The dice rolled: 5\n",
      "Thanks for playing!\n"
     ]
    }
   ],
   "source": [
    "import random\n",
    "\n",
    "class DiceRoller:\n",
    "    def __init__(self, sides):\n",
    "        self.sides = sides\n",
    "\n",
    "    def roll(self):\n",
    "        return random.randint(1, self.sides)\n",
    "\n",
    "def main():\n",
    "    print(\"Welcome to the Dice Rolling Game!\")\n",
    "\n",
    "    sides = int(input(\"Enter the number of sides for the dice: \"))\n",
    "    if sides <= 0:\n",
    "        print(\"Invalid number of sides. Please enter a positive integer.\")\n",
    "        return\n",
    "\n",
    "    dice = DiceRoller(sides)\n",
    "\n",
    "    while True:\n",
    "        user_choice = input(\"Roll the dice? (y/n): \").lower()\n",
    "\n",
    "        if user_choice == 'y':\n",
    "            result = dice.roll()\n",
    "            print(f\"The dice rolled: {result}\")\n",
    "        elif user_choice == 'n':\n",
    "            print(\"Thanks for playing!\")\n",
    "            break\n",
    "        else:\n",
    "            print(\"Invalid choice. Please enter 'y' to roll or 'n' to exit.\")\n",
    "\n",
    "if __name__ == \"__main__\":\n",
    "    main()"
   ]
  }
 ],
 "metadata": {
  "kernelspec": {
   "display_name": "Python 3",
   "language": "python",
   "name": "python3"
  },
  "language_info": {
   "codemirror_mode": {
    "name": "ipython",
    "version": 3
   },
   "file_extension": ".py",
   "mimetype": "text/x-python",
   "name": "python",
   "nbconvert_exporter": "python",
   "pygments_lexer": "ipython3",
   "version": "3.11.0"
  },
  "orig_nbformat": 4
 },
 "nbformat": 4,
 "nbformat_minor": 2
}
