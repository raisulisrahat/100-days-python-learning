{
 "cells": [
  {
   "cell_type": "markdown",
   "metadata": {},
   "source": [
    "# Day 33"
   ]
  },
  {
   "cell_type": "markdown",
   "metadata": {},
   "source": [
    "#### GUI Part 2"
   ]
  },
  {
   "cell_type": "code",
   "execution_count": null,
   "metadata": {},
   "outputs": [],
   "source": [
    "import sys\n",
    "from PyQt5.QtCore import *\n",
    "from PyQt5.QtGui import *\n",
    "from PyQt5.QtWidgets import *\n",
    "class window(QWidget):\n",
    "   def __init__(self, parent = None):\n",
    "      super(window, self).__init__(parent)\n",
    "      self.resize(200,50)\n",
    "      self.setWindowTitle(\"New GUI Module\")\n",
    "      self.label = QLabel(self)\n",
    "      self.label.setText(\"Hello World\")\n",
    "      font = QFont()\n",
    "      font.setFamily(\"Arial\")\n",
    "      font.setPointSize(16)\n",
    "      self.label.setFont(font)\n",
    "      self.label.move(50,10)\n",
    "def main():\n",
    "   app = QApplication(sys.argv)\n",
    "   ex = window()\n",
    "   ex.show()\n",
    "   sys.exit(app.exec_())\n",
    "if __name__ == '__main__':\n",
    "   main()"
   ]
  }
 ],
 "metadata": {
  "kernelspec": {
   "display_name": "Python 3",
   "language": "python",
   "name": "python3"
  },
  "language_info": {
   "codemirror_mode": {
    "name": "ipython",
    "version": 3
   },
   "file_extension": ".py",
   "mimetype": "text/x-python",
   "name": "python",
   "nbconvert_exporter": "python",
   "pygments_lexer": "ipython3",
   "version": "3.11.0"
  },
  "orig_nbformat": 4
 },
 "nbformat": 4,
 "nbformat_minor": 2
}
