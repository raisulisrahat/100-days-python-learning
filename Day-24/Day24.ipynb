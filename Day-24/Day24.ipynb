{
 "cells": [
  {
   "cell_type": "markdown",
   "metadata": {},
   "source": [
    "# Day 24"
   ]
  },
  {
   "cell_type": "markdown",
   "metadata": {},
   "source": [
    "#### Built-In RegEx modules in python"
   ]
  },
  {
   "cell_type": "code",
   "execution_count": 1,
   "metadata": {},
   "outputs": [
    {
     "name": "stdout",
     "output_type": "stream",
     "text": [
      "It's match!\n"
     ]
    }
   ],
   "source": [
    "import re\n",
    "\n",
    "x = \"This is a good idea\"\n",
    "# Search Functions\n",
    "y = re.search(\"^This.*idea$\", x)\n",
    "if y:\n",
    "  print(\"It's match!\")\n",
    "else:\n",
    "  print(\"No match\")"
   ]
  },
  {
   "cell_type": "code",
   "execution_count": 2,
   "metadata": {},
   "outputs": [
    {
     "name": "stdout",
     "output_type": "stream",
     "text": [
      "No match\n"
     ]
    }
   ],
   "source": [
    "import re\n",
    "\n",
    "x = \"This is a good idea\"\n",
    "# Findall Functions\n",
    "z = re.findall(\"Grate\", x)\n",
    "if z:\n",
    "  print(\"It's match!\")\n",
    "else:\n",
    "  print(\"No match\")"
   ]
  },
  {
   "cell_type": "code",
   "execution_count": 3,
   "metadata": {},
   "outputs": [
    {
     "name": "stdout",
     "output_type": "stream",
     "text": [
      "['This', 'is', 'a', 'good', 'idea']\n"
     ]
    }
   ],
   "source": [
    "import re\n",
    "\n",
    "x = \"This is a good idea\"\n",
    "# Split Functions\n",
    "a = re.split(\"\\s\", x)\n",
    "print(a)"
   ]
  },
  {
   "cell_type": "code",
   "execution_count": 5,
   "metadata": {},
   "outputs": [
    {
     "name": "stdout",
     "output_type": "stream",
     "text": [
      "This-is-a-good-idea\n"
     ]
    }
   ],
   "source": [
    "import re\n",
    "\n",
    "x = \"This is a good idea\"\n",
    "# Sub Functions\n",
    "b = re.sub(\"\\s\", \"-\", x)\n",
    "print(b)"
   ]
  }
 ],
 "metadata": {
  "kernelspec": {
   "display_name": "Python 3",
   "language": "python",
   "name": "python3"
  },
  "language_info": {
   "codemirror_mode": {
    "name": "ipython",
    "version": 3
   },
   "file_extension": ".py",
   "mimetype": "text/x-python",
   "name": "python",
   "nbconvert_exporter": "python",
   "pygments_lexer": "ipython3",
   "version": "3.11.4"
  },
  "orig_nbformat": 4
 },
 "nbformat": 4,
 "nbformat_minor": 2
}
