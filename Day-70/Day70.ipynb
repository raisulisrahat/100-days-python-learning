{
 "cells": [
  {
   "cell_type": "markdown",
   "metadata": {},
   "source": [
    "# Day 70"
   ]
  },
  {
   "cell_type": "markdown",
   "metadata": {},
   "source": [
    "#### Practising Random, String Pandas & Numpy Day 3 (Data Generator and Analyzer!)"
   ]
  },
  {
   "cell_type": "code",
   "execution_count": 1,
   "metadata": {},
   "outputs": [
    {
     "name": "stdout",
     "output_type": "stream",
     "text": [
      "Welcome to the Data Generator and Analyzer!\n",
      "Data saved to 'data.csv'\n",
      "Data Analysis Results:\n",
      "Mean Value1: 59.1\n",
      "Mean Value2: 0.5071901753046082\n",
      "Max Value1: 90\n",
      "Min Value2: 0.21961517397026897\n"
     ]
    }
   ],
   "source": [
    "import numpy as np\n",
    "import pandas as pd\n",
    "import random\n",
    "import string\n",
    "\n",
    "class DataGenerator:\n",
    "    def __init__(self, data_file):\n",
    "        self.data_file = data_file\n",
    "\n",
    "    def generate_data(self, num_rows):\n",
    "        random.seed(42)  # Seed for reproducibility\n",
    "\n",
    "        # Generate random data\n",
    "        data = {\n",
    "            'ID': [i + 1 for i in range(num_rows)],\n",
    "            'Name': [''.join(random.choices(string.ascii_letters, k=5)) for _ in range(num_rows)],\n",
    "            'Value1': [random.randint(1, 100) for _ in range(num_rows)],\n",
    "            'Value2': [random.uniform(0, 1) for _ in range(num_rows)],\n",
    "        }\n",
    "\n",
    "        return pd.DataFrame(data)\n",
    "\n",
    "    def save_to_csv(self, data):\n",
    "        data.to_csv(self.data_file, index=False)\n",
    "        print(f\"Data saved to '{self.data_file}'\")\n",
    "\n",
    "    def analyze_data(self, data):\n",
    "        if data is None:\n",
    "            return\n",
    "\n",
    "        # Calculate basic statistics using NumPy\n",
    "        mean_value1 = np.mean(data['Value1'])\n",
    "        mean_value2 = np.mean(data['Value2'])\n",
    "        max_value1 = np.max(data['Value1'])\n",
    "        min_value2 = np.min(data['Value2'])\n",
    "\n",
    "        # Display the results\n",
    "        print(\"Data Analysis Results:\")\n",
    "        print(f\"Mean Value1: {mean_value1}\")\n",
    "        print(f\"Mean Value2: {mean_value2}\")\n",
    "        print(f\"Max Value1: {max_value1}\")\n",
    "        print(f\"Min Value2: {min_value2}\")\n",
    "\n",
    "def main():\n",
    "    print(\"Welcome to the Data Generator and Analyzer!\")\n",
    "\n",
    "    data_file = \"data.csv\"\n",
    "    num_rows = 10  # Number of rows of data to generate\n",
    "\n",
    "    data_generator = DataGenerator(data_file)\n",
    "\n",
    "    # Generate random data and save it to a CSV file\n",
    "    generated_data = data_generator.generate_data(num_rows)\n",
    "    data_generator.save_to_csv(generated_data)\n",
    "\n",
    "    # Analyze the generated data\n",
    "    data_to_analyze = data_generator.generate_data(num_rows)  # You can load data from the CSV file for analysis\n",
    "    data_generator.analyze_data(data_to_analyze)\n",
    "\n",
    "if __name__ == \"__main__\":\n",
    "    main()\n"
   ]
  }
 ],
 "metadata": {
  "kernelspec": {
   "display_name": "Python 3",
   "language": "python",
   "name": "python3"
  },
  "language_info": {
   "codemirror_mode": {
    "name": "ipython",
    "version": 3
   },
   "file_extension": ".py",
   "mimetype": "text/x-python",
   "name": "python",
   "nbconvert_exporter": "python",
   "pygments_lexer": "ipython3",
   "version": "3.11.5"
  },
  "orig_nbformat": 4
 },
 "nbformat": 4,
 "nbformat_minor": 2
}
