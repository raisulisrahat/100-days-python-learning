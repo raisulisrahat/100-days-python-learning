{
 "cells": [
  {
   "cell_type": "markdown",
   "metadata": {},
   "source": [
    "# Day 23"
   ]
  },
  {
   "cell_type": "markdown",
   "metadata": {},
   "source": [
    "#### Built-In JSON modules in python"
   ]
  },
  {
   "cell_type": "code",
   "execution_count": null,
   "metadata": {},
   "outputs": [],
   "source": [
    "import json\n",
    "\n",
    "info = '{\"Name\": \"Rahat\", \"Age\" : 24,\"Address\" : \"Dhaka\", \"Blood\": \"O+\", \"Nationality\" : \"Bangladeshi\"}'\n",
    "\n",
    "x = json.loads(info)\n",
    "\n",
    "print(x[\"Age\"])\n",
    "\n",
    "y = json.dumps(info)\n",
    "print(y)\n",
    "\n",
    "print(json.dumps(True))\n",
    "print(json.dumps(False))\n",
    "print(json.dumps(None))"
   ]
  }
 ],
 "metadata": {
  "kernelspec": {
   "display_name": "Python 3",
   "language": "python",
   "name": "python3"
  },
  "language_info": {
   "name": "python",
   "version": "3.11.4"
  },
  "orig_nbformat": 4
 },
 "nbformat": 4,
 "nbformat_minor": 2
}
