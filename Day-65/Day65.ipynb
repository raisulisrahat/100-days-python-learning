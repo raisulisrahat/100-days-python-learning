{
 "cells": [
  {
   "cell_type": "markdown",
   "metadata": {},
   "source": [
    "# Day 65"
   ]
  },
  {
   "cell_type": "markdown",
   "metadata": {},
   "source": [
    "#### Pandas Built-In modules Day 5"
   ]
  },
  {
   "cell_type": "code",
   "execution_count": 5,
   "metadata": {},
   "outputs": [
    {
     "name": "stdout",
     "output_type": "stream",
     "text": [
      "   Roll Name Class Subject Division\n",
      "0     1    A    XI          Science\n",
      "1     2    B    XI          Science\n",
      "2     3    C    XI          Science\n",
      "3     4    D    XI          Science\n",
      "4     5    E    XI             Arts\n",
      "5     6    F    XI             Arts\n",
      "6     7    G    XI             Arts\n",
      "7     8    H    XI         Commarce\n",
      "8     9    I    XI         Commarce\n",
      "9    10    J    XI         Commarce\n"
     ]
    }
   ],
   "source": [
    "import pandas as pd\n",
    "\n",
    "df = pd.read_csv(\"Sheet1.csv\")\n",
    "\n",
    "print(df)"
   ]
  },
  {
   "cell_type": "code",
   "execution_count": 26,
   "metadata": {},
   "outputs": [
    {
     "name": "stdout",
     "output_type": "stream",
     "text": [
      "Boolean Data:\n",
      "Empty DataFrame\n",
      "Columns: []\n",
      "Index: [0, 1, 2]\n",
      "Non-integer Data:\n",
      "  Name Class Subject Division\n",
      "0    K    XI         Commerce\n",
      "1    L    XI             Arts\n",
      "2    M    XI          Science\n"
     ]
    }
   ],
   "source": [
    "import pandas as pd\n",
    "\n",
    "\n",
    "# Create a new DataFrame with the desired data\n",
    "new_data = {\n",
    "    'Roll': [11, 12, 13],\n",
    "    'Name': ['K', 'L', 'M'],\n",
    "    'Class': ['XI', 'XI', 'XI'],\n",
    "    'Subject Division': ['Commerce', 'Arts', 'Science']\n",
    "}\n",
    "\n",
    "newdf = pd.DataFrame(new_data)\n",
    "\n",
    "# Save the new DataFrame to a new CSV file (optional)\n",
    "newdf.to_csv(\"new_data.csv\", index=False)\n",
    "\n",
    "# Select columns of boolean data type in the new DataFrame\n",
    "bool_data = newdf.select_dtypes(include=bool)\n",
    "print(\"Boolean Data:\")\n",
    "print(bool_data)\n",
    "\n",
    "# Select columns excluding int64 data type in the new DataFrame\n",
    "int_data = newdf.select_dtypes(exclude=['int64'])\n",
    "print(\"Non-integer Data:\")\n",
    "print(int_data)\n"
   ]
  }
 ],
 "metadata": {
  "kernelspec": {
   "display_name": "Python 3",
   "language": "python",
   "name": "python3"
  },
  "language_info": {
   "codemirror_mode": {
    "name": "ipython",
    "version": 3
   },
   "file_extension": ".py",
   "mimetype": "text/x-python",
   "name": "python",
   "nbconvert_exporter": "python",
   "pygments_lexer": "ipython3",
   "version": "3.11.5"
  },
  "orig_nbformat": 4
 },
 "nbformat": 4,
 "nbformat_minor": 2
}
