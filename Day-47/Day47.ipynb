{
 "cells": [
  {
   "cell_type": "markdown",
   "metadata": {},
   "source": [
    "# Day 47"
   ]
  },
  {
   "cell_type": "markdown",
   "metadata": {},
   "source": [
    "#### Practising Day 42 in python (Logging Project)"
   ]
  },
  {
   "cell_type": "code",
   "execution_count": 1,
   "metadata": {},
   "outputs": [
    {
     "name": "stdout",
     "output_type": "stream",
     "text": [
      "Welcome to the Logging Project!\n",
      "\n",
      "Menu:\n",
      "1. Log an INFO message\n",
      "2. Log a WARNING message\n",
      "3. Log an ERROR message\n",
      "4. View log file\n",
      "5. Exit\n",
      "Log File Content:\n",
      "\n",
      "\n",
      "Menu:\n",
      "1. Log an INFO message\n",
      "2. Log a WARNING message\n",
      "3. Log an ERROR message\n",
      "4. View log file\n",
      "5. Exit\n",
      "Exiting the Logging Project.\n"
     ]
    }
   ],
   "source": [
    "import logging\n",
    "\n",
    "class Logger:\n",
    "    def __init__(self, log_file):\n",
    "        self.log_file = log_file\n",
    "        logging.basicConfig(filename=log_file, level=logging.INFO, format='%(asctime)s - %(levelname)s - %(message)s')\n",
    "\n",
    "    def log_info(self, message):\n",
    "        logging.info(message)\n",
    "\n",
    "    def log_warning(self, message):\n",
    "        logging.warning(message)\n",
    "\n",
    "    def log_error(self, message):\n",
    "        logging.error(message)\n",
    "\n",
    "def main():\n",
    "    print(\"Welcome to the Logging Project!\")\n",
    "\n",
    "    log_file = \"app.log\"\n",
    "    logger = Logger(log_file)\n",
    "\n",
    "    while True:\n",
    "        print(\"\\nMenu:\")\n",
    "        print(\"1. Log an INFO message\")\n",
    "        print(\"2. Log a WARNING message\")\n",
    "        print(\"3. Log an ERROR message\")\n",
    "        print(\"4. View log file\")\n",
    "        print(\"5. Exit\")\n",
    "\n",
    "        choice = input(\"Enter your choice: \")\n",
    "\n",
    "        if choice == '1':\n",
    "            message = input(\"Enter an INFO message: \")\n",
    "            logger.log_info(message)\n",
    "            print(\"INFO message logged.\")\n",
    "        elif choice == '2':\n",
    "            message = input(\"Enter a WARNING message: \")\n",
    "            logger.log_warning(message)\n",
    "            print(\"WARNING message logged.\")\n",
    "        elif choice == '3':\n",
    "            message = input(\"Enter an ERROR message: \")\n",
    "            logger.log_error(message)\n",
    "            print(\"ERROR message logged.\")\n",
    "        elif choice == '4':\n",
    "            try:\n",
    "                with open(log_file, 'r') as file:\n",
    "                    print(\"Log File Content:\")\n",
    "                    print(file.read())\n",
    "            except FileNotFoundError:\n",
    "                print(\"Log file not found.\")\n",
    "        elif choice == '5':\n",
    "            print(\"Exiting the Logging Project.\")\n",
    "            break\n",
    "        else:\n",
    "            print(\"Invalid choice. Please enter a valid option.\")\n",
    "\n",
    "if __name__ == \"__main__\":\n",
    "    main()\n"
   ]
  }
 ],
 "metadata": {
  "kernelspec": {
   "display_name": "Python 3",
   "language": "python",
   "name": "python3"
  },
  "language_info": {
   "codemirror_mode": {
    "name": "ipython",
    "version": 3
   },
   "file_extension": ".py",
   "mimetype": "text/x-python",
   "name": "python",
   "nbconvert_exporter": "python",
   "pygments_lexer": "ipython3",
   "version": "3.11.0"
  },
  "orig_nbformat": 4
 },
 "nbformat": 4,
 "nbformat_minor": 2
}
